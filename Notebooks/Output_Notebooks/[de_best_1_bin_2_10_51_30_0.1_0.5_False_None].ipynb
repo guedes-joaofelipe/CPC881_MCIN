{
 "cells": [
  {
   "cell_type": "code",
   "execution_count": 1,
   "metadata": {
    "papermill": {
     "duration": 2.612016,
     "end_time": "2019-07-26T11:48:45.142343",
     "exception": false,
     "start_time": "2019-07-26T11:48:42.530327",
     "status": "completed"
    },
    "tags": []
   },
   "outputs": [],
   "source": [
    "import numpy as np\n",
    "import pandas as pd\n",
    "import sys, os, time\n",
    "main_folder = './../'\n",
    "if main_folder not in sys.path:\n",
    "    sys.path.append(main_folder)\n",
    "from evolution import DifferentialEvolution\n",
    "from glob       import glob\n",
    "from tqdm       import tqdm\n",
    "\n",
    "import dirs\n",
    "from utils      import get_solution, ProgressBar, write_log\n",
    "import matplotlib.pyplot as plt \n",
    "\n",
    "progbar = ProgressBar(elapsed_time=True)"
   ]
  },
  {
   "cell_type": "markdown",
   "metadata": {
    "papermill": {
     "duration": 0.041887,
     "end_time": "2019-07-26T11:48:45.229110",
     "exception": false,
     "start_time": "2019-07-26T11:48:45.187223",
     "status": "completed"
    },
    "tags": []
   },
   "source": [
    "### Parameters"
   ]
  },
  {
   "cell_type": "code",
   "execution_count": 2,
   "metadata": {
    "papermill": {
     "duration": 0.04089,
     "end_time": "2019-07-26T11:48:45.300919",
     "exception": false,
     "start_time": "2019-07-26T11:48:45.260029",
     "status": "completed"
    },
    "tags": [
     "parameters"
    ]
   },
   "outputs": [],
   "source": [
    "# Competition Parameters\n",
    "funcId      = 6\n",
    "dim         = 10\n",
    "numRuns     = 51\n",
    "targetError = 1e-8\n",
    "\n",
    "# Algorithm Parameters\n",
    "pop_size = 30\n",
    "percMaxEvals = 1\n",
    "maxEvals = 'auto'\n",
    "maxGenerations = None\n",
    "fitness_clusters = None\n",
    "crossover = 'binonial'\n",
    "mutation = 'best'\n",
    "n_diff = 1\n",
    "lambda_mutation = .5\n",
    "opposition = False\n",
    "input_data_filepath = './../input_data'\n",
    "active = False"
   ]
  },
  {
   "cell_type": "code",
   "execution_count": 3,
   "metadata": {
    "papermill": {
     "duration": 0.034906,
     "end_time": "2019-07-26T11:48:45.370732",
     "exception": false,
     "start_time": "2019-07-26T11:48:45.335826",
     "status": "completed"
    },
    "tags": [
     "injected-parameters"
    ]
   },
   "outputs": [],
   "source": [
    "# Parameters\n",
    "algorithm = \"de\"\n",
    "mutation = \"best\"\n",
    "n_diff = 1\n",
    "crossover = \"bin\"\n",
    "funcId = 2\n",
    "dim = 10\n",
    "numRuns = 51\n",
    "pop_size = 30\n",
    "percMaxEvals = 0.1\n",
    "lambda_mutation = 0.5\n",
    "opposition = False\n",
    "fitness_clusters = None\n",
    "input_data_filepath = \"./input_data\"\n",
    "active = True\n"
   ]
  },
  {
   "cell_type": "code",
   "execution_count": 4,
   "metadata": {
    "papermill": {
     "duration": 0.037899,
     "end_time": "2019-07-26T11:48:45.436557",
     "exception": false,
     "start_time": "2019-07-26T11:48:45.398658",
     "status": "completed"
    },
    "tags": []
   },
   "outputs": [
    {
     "data": {
      "text/plain": [
       "'[2_10_51_30_0.1_0.5_False_None]'"
      ]
     },
     "execution_count": 4,
     "metadata": {},
     "output_type": "execute_result"
    }
   ],
   "source": [
    "maxEvals = maxEvals if percMaxEvals is None else percMaxEvals*10000*dim\n",
    "run_tag = '[' + '_'.join([str(funcId), \n",
    "                          str(dim), \n",
    "                          str(numRuns),\n",
    "                          str(pop_size), \n",
    "                          str(percMaxEvals),                                                     \n",
    "                          '{}'.format(lambda_mutation), \n",
    "                          str(opposition),\n",
    "                          str(fitness_clusters)\n",
    "                         ])  + ']'\n",
    "run_tag"
   ]
  },
  {
   "cell_type": "code",
   "execution_count": 5,
   "metadata": {
    "papermill": {
     "duration": 0.092752,
     "end_time": "2019-07-26T11:48:45.581170",
     "exception": false,
     "start_time": "2019-07-26T11:48:45.488418",
     "status": "completed"
    },
    "tags": []
   },
   "outputs": [
    {
     "name": "stdout",
     "output_type": "stream",
     "text": [
      "Writing log at "
     ]
    },
    {
     "name": "stdout",
     "output_type": "stream",
     "text": [
      " "
     ]
    },
    {
     "name": "stdout",
     "output_type": "stream",
     "text": [
      "./results/DE/best/1/bin/[2_10_51_30_0.1_0.5_False_None]log.tsv"
     ]
    },
    {
     "name": "stdout",
     "output_type": "stream",
     "text": [
      "\n"
     ]
    }
   ],
   "source": [
    "alg = DifferentialEvolution(dim=dim, func_id=funcId, pop_size=pop_size, crossover=crossover, \n",
    "        opposition=opposition, mutation=mutation, lambda_mutation=.5, fitness_clusters=fitness_clusters)\n",
    "\n",
    "output_filepath = os.path.join(dirs.results, str(alg))\n",
    "if not os.path.exists(output_filepath):\n",
    "    os.makedirs(output_filepath)\n",
    "output_filepath = output_filepath + '/' + run_tag\n",
    "\n",
    "print ('Writing log at ', output_filepath + 'log.tsv')\n",
    "write_log(filepath=output_filepath + 'log.tsv', \n",
    "          mode=\"w+\", \n",
    "          text='[{}]\\trun\\telapsedTime\\tsuccessRate\\n'.format(time.strftime(\"%Y-%m-%d %H:%M:%S\", time.gmtime())))  "
   ]
  },
  {
   "cell_type": "code",
   "execution_count": 6,
   "metadata": {
    "papermill": {
     "duration": 1867.645122,
     "end_time": "2019-07-26T12:19:53.252222",
     "exception": false,
     "start_time": "2019-07-26T11:48:45.607100",
     "status": "completed"
    },
    "tags": []
   },
   "outputs": [
    {
     "name": "stdout",
     "output_type": "stream",
     "text": [
      "\r",
      "[0:00:00][----------] 0.00% "
     ]
    },
    {
     "name": "stdout",
     "output_type": "stream",
     "text": [
      "Optimization ended due to max fitness evals (max = 10000.0, curr = 9690)"
     ]
    },
    {
     "name": "stdout",
     "output_type": "stream",
     "text": [
      "\n"
     ]
    },
    {
     "name": "stdout",
     "output_type": "stream",
     "text": [
      "\n",
      "#Generations:\t321"
     ]
    },
    {
     "name": "stdout",
     "output_type": "stream",
     "text": [
      "\n"
     ]
    },
    {
     "name": "stdout",
     "output_type": "stream",
     "text": [
      "#FitnessEvals:\t9690"
     ]
    },
    {
     "name": "stdout",
     "output_type": "stream",
     "text": [
      "\n"
     ]
    },
    {
     "name": "stdout",
     "output_type": "stream",
     "text": [
      "Mean Fitness:\t200.0027"
     ]
    },
    {
     "name": "stdout",
     "output_type": "stream",
     "text": [
      "\n"
     ]
    },
    {
     "name": "stdout",
     "output_type": "stream",
     "text": [
      "Best Fitness:\t200.0013\n",
      "Solution:\t200.0000\n",
      "Diff:\t\t0.0013"
     ]
    },
    {
     "name": "stdout",
     "output_type": "stream",
     "text": [
      "\n"
     ]
    },
    {
     "name": "stdout",
     "output_type": "stream",
     "text": [
      "\r",
      "[0:00:40][----------] 1.96% "
     ]
    },
    {
     "name": "stdout",
     "output_type": "stream",
     "text": [
      "Optimization ended due to max fitness evals (max = 10000.0, curr = 9690)"
     ]
    },
    {
     "name": "stdout",
     "output_type": "stream",
     "text": [
      "\n"
     ]
    },
    {
     "name": "stdout",
     "output_type": "stream",
     "text": [
      "\n",
      "#Generations:\t321"
     ]
    },
    {
     "name": "stdout",
     "output_type": "stream",
     "text": [
      "\n"
     ]
    },
    {
     "name": "stdout",
     "output_type": "stream",
     "text": [
      "#FitnessEvals:\t9690"
     ]
    },
    {
     "name": "stdout",
     "output_type": "stream",
     "text": [
      "\n"
     ]
    },
    {
     "name": "stdout",
     "output_type": "stream",
     "text": [
      "Mean Fitness:\t200.0032"
     ]
    },
    {
     "name": "stdout",
     "output_type": "stream",
     "text": [
      "\n"
     ]
    },
    {
     "name": "stdout",
     "output_type": "stream",
     "text": [
      "Best Fitness:\t200.0023\n",
      "Solution:\t200.0000\n",
      "Diff:\t\t0.0023"
     ]
    },
    {
     "name": "stdout",
     "output_type": "stream",
     "text": [
      "\n"
     ]
    },
    {
     "name": "stdout",
     "output_type": "stream",
     "text": [
      "\r",
      "[0:01:15][----------] 3.92% "
     ]
    },
    {
     "name": "stdout",
     "output_type": "stream",
     "text": [
      "Optimization ended due to max fitness evals (max = 10000.0, curr = 9690)"
     ]
    },
    {
     "name": "stdout",
     "output_type": "stream",
     "text": [
      "\n"
     ]
    },
    {
     "name": "stdout",
     "output_type": "stream",
     "text": [
      "\n",
      "#Generations:\t321"
     ]
    },
    {
     "name": "stdout",
     "output_type": "stream",
     "text": [
      "\n"
     ]
    },
    {
     "name": "stdout",
     "output_type": "stream",
     "text": [
      "#FitnessEvals:\t9690"
     ]
    },
    {
     "name": "stdout",
     "output_type": "stream",
     "text": [
      "\n"
     ]
    },
    {
     "name": "stdout",
     "output_type": "stream",
     "text": [
      "Mean Fitness:\t200.0007"
     ]
    },
    {
     "name": "stdout",
     "output_type": "stream",
     "text": [
      "\n"
     ]
    },
    {
     "name": "stdout",
     "output_type": "stream",
     "text": [
      "Best Fitness:\t200.0003\n",
      "Solution:\t200.0000\n",
      "Diff:\t\t0.0003"
     ]
    },
    {
     "name": "stdout",
     "output_type": "stream",
     "text": [
      "\n"
     ]
    },
    {
     "name": "stdout",
     "output_type": "stream",
     "text": [
      "\r",
      "[0:01:52][#---------] 5.88% "
     ]
    },
    {
     "name": "stdout",
     "output_type": "stream",
     "text": [
      "Optimization ended due to max fitness evals (max = 10000.0, curr = 9690)"
     ]
    },
    {
     "name": "stdout",
     "output_type": "stream",
     "text": [
      "\n"
     ]
    },
    {
     "name": "stdout",
     "output_type": "stream",
     "text": [
      "\n",
      "#Generations:\t321"
     ]
    },
    {
     "name": "stdout",
     "output_type": "stream",
     "text": [
      "\n"
     ]
    },
    {
     "name": "stdout",
     "output_type": "stream",
     "text": [
      "#FitnessEvals:\t9690"
     ]
    },
    {
     "name": "stdout",
     "output_type": "stream",
     "text": [
      "\n"
     ]
    },
    {
     "name": "stdout",
     "output_type": "stream",
     "text": [
      "Mean Fitness:\t200.0017"
     ]
    },
    {
     "name": "stdout",
     "output_type": "stream",
     "text": [
      "\n"
     ]
    },
    {
     "name": "stdout",
     "output_type": "stream",
     "text": [
      "Best Fitness:\t200.0008\n",
      "Solution:\t200.0000\n",
      "Diff:\t\t0.0008"
     ]
    },
    {
     "name": "stdout",
     "output_type": "stream",
     "text": [
      "\n"
     ]
    },
    {
     "name": "stdout",
     "output_type": "stream",
     "text": [
      "\r",
      "[0:02:28][#---------] 7.84% "
     ]
    },
    {
     "name": "stdout",
     "output_type": "stream",
     "text": [
      "Optimization ended due to max fitness evals (max = 10000.0, curr = 9690)"
     ]
    },
    {
     "name": "stdout",
     "output_type": "stream",
     "text": [
      "\n"
     ]
    },
    {
     "name": "stdout",
     "output_type": "stream",
     "text": [
      "\n",
      "#Generations:\t321"
     ]
    },
    {
     "name": "stdout",
     "output_type": "stream",
     "text": [
      "\n"
     ]
    },
    {
     "name": "stdout",
     "output_type": "stream",
     "text": [
      "#FitnessEvals:\t9690"
     ]
    },
    {
     "name": "stdout",
     "output_type": "stream",
     "text": [
      "\n"
     ]
    },
    {
     "name": "stdout",
     "output_type": "stream",
     "text": [
      "Mean Fitness:\t200.0001"
     ]
    },
    {
     "name": "stdout",
     "output_type": "stream",
     "text": [
      "\n"
     ]
    },
    {
     "name": "stdout",
     "output_type": "stream",
     "text": [
      "Best Fitness:\t200.0001\n",
      "Solution:\t200.0000\n",
      "Diff:\t\t0.0001"
     ]
    },
    {
     "name": "stdout",
     "output_type": "stream",
     "text": [
      "\n"
     ]
    },
    {
     "name": "stdout",
     "output_type": "stream",
     "text": [
      "\r",
      "[0:03:03][#---------] 9.80% "
     ]
    },
    {
     "name": "stdout",
     "output_type": "stream",
     "text": [
      "Optimization ended due to max fitness evals (max = 10000.0, curr = 9690)"
     ]
    },
    {
     "name": "stdout",
     "output_type": "stream",
     "text": [
      "\n"
     ]
    },
    {
     "name": "stdout",
     "output_type": "stream",
     "text": [
      "\n",
      "#Generations:\t321"
     ]
    },
    {
     "name": "stdout",
     "output_type": "stream",
     "text": [
      "\n"
     ]
    },
    {
     "name": "stdout",
     "output_type": "stream",
     "text": [
      "#FitnessEvals:\t9690"
     ]
    },
    {
     "name": "stdout",
     "output_type": "stream",
     "text": [
      "\n"
     ]
    },
    {
     "name": "stdout",
     "output_type": "stream",
     "text": [
      "Mean Fitness:\t200.0005"
     ]
    },
    {
     "name": "stdout",
     "output_type": "stream",
     "text": [
      "\n"
     ]
    },
    {
     "name": "stdout",
     "output_type": "stream",
     "text": [
      "Best Fitness:\t200.0002\n",
      "Solution:\t200.0000\n",
      "Diff:\t\t0.0002"
     ]
    },
    {
     "name": "stdout",
     "output_type": "stream",
     "text": [
      "\n"
     ]
    },
    {
     "name": "stdout",
     "output_type": "stream",
     "text": [
      "\r",
      "[0:03:33][#---------] 11.76% "
     ]
    },
    {
     "name": "stdout",
     "output_type": "stream",
     "text": [
      "Optimization ended due to max fitness evals (max = 10000.0, curr = 9690)"
     ]
    },
    {
     "name": "stdout",
     "output_type": "stream",
     "text": [
      "\n"
     ]
    },
    {
     "name": "stdout",
     "output_type": "stream",
     "text": [
      "\n",
      "#Generations:\t321"
     ]
    },
    {
     "name": "stdout",
     "output_type": "stream",
     "text": [
      "\n"
     ]
    },
    {
     "name": "stdout",
     "output_type": "stream",
     "text": [
      "#FitnessEvals:\t9690"
     ]
    },
    {
     "name": "stdout",
     "output_type": "stream",
     "text": [
      "\n"
     ]
    },
    {
     "name": "stdout",
     "output_type": "stream",
     "text": [
      "Mean Fitness:\t200.0314"
     ]
    },
    {
     "name": "stdout",
     "output_type": "stream",
     "text": [
      "\n"
     ]
    },
    {
     "name": "stdout",
     "output_type": "stream",
     "text": [
      "Best Fitness:\t200.0135\n",
      "Solution:\t200.0000\n",
      "Diff:\t\t0.0135"
     ]
    },
    {
     "name": "stdout",
     "output_type": "stream",
     "text": [
      "\n"
     ]
    },
    {
     "name": "stdout",
     "output_type": "stream",
     "text": [
      "\r",
      "[0:04:08][#---------] 13.73% "
     ]
    },
    {
     "name": "stdout",
     "output_type": "stream",
     "text": [
      "Optimization ended due to max fitness evals (max = 10000.0, curr = 9690)"
     ]
    },
    {
     "name": "stdout",
     "output_type": "stream",
     "text": [
      "\n"
     ]
    },
    {
     "name": "stdout",
     "output_type": "stream",
     "text": [
      "\n",
      "#Generations:\t321"
     ]
    },
    {
     "name": "stdout",
     "output_type": "stream",
     "text": [
      "\n"
     ]
    },
    {
     "name": "stdout",
     "output_type": "stream",
     "text": [
      "#FitnessEvals:\t9690"
     ]
    },
    {
     "name": "stdout",
     "output_type": "stream",
     "text": [
      "\n"
     ]
    },
    {
     "name": "stdout",
     "output_type": "stream",
     "text": [
      "Mean Fitness:\t200.0005"
     ]
    },
    {
     "name": "stdout",
     "output_type": "stream",
     "text": [
      "\n"
     ]
    },
    {
     "name": "stdout",
     "output_type": "stream",
     "text": [
      "Best Fitness:\t200.0003\n",
      "Solution:\t200.0000\n",
      "Diff:\t\t0.0003"
     ]
    },
    {
     "name": "stdout",
     "output_type": "stream",
     "text": [
      "\n"
     ]
    },
    {
     "name": "stdout",
     "output_type": "stream",
     "text": [
      "\r",
      "[0:04:42][##--------] 15.69% "
     ]
    },
    {
     "name": "stdout",
     "output_type": "stream",
     "text": [
      "Optimization ended due to max fitness evals (max = 10000.0, curr = 9690)"
     ]
    },
    {
     "name": "stdout",
     "output_type": "stream",
     "text": [
      "\n"
     ]
    },
    {
     "name": "stdout",
     "output_type": "stream",
     "text": [
      "\n",
      "#Generations:\t321"
     ]
    },
    {
     "name": "stdout",
     "output_type": "stream",
     "text": [
      "\n"
     ]
    },
    {
     "name": "stdout",
     "output_type": "stream",
     "text": [
      "#FitnessEvals:\t9690"
     ]
    },
    {
     "name": "stdout",
     "output_type": "stream",
     "text": [
      "\n"
     ]
    },
    {
     "name": "stdout",
     "output_type": "stream",
     "text": [
      "Mean Fitness:\t200.0008"
     ]
    },
    {
     "name": "stdout",
     "output_type": "stream",
     "text": [
      "\n"
     ]
    },
    {
     "name": "stdout",
     "output_type": "stream",
     "text": [
      "Best Fitness:\t200.0002\n",
      "Solution:\t200.0000\n",
      "Diff:\t\t0.0002"
     ]
    },
    {
     "name": "stdout",
     "output_type": "stream",
     "text": [
      "\n"
     ]
    },
    {
     "name": "stdout",
     "output_type": "stream",
     "text": [
      "\r",
      "[0:05:17][##--------] 17.65% "
     ]
    },
    {
     "name": "stdout",
     "output_type": "stream",
     "text": [
      "Optimization ended due to max fitness evals (max = 10000.0, curr = 9690)"
     ]
    },
    {
     "name": "stdout",
     "output_type": "stream",
     "text": [
      "\n"
     ]
    },
    {
     "name": "stdout",
     "output_type": "stream",
     "text": [
      "\n",
      "#Generations:\t321"
     ]
    },
    {
     "name": "stdout",
     "output_type": "stream",
     "text": [
      "\n"
     ]
    },
    {
     "name": "stdout",
     "output_type": "stream",
     "text": [
      "#FitnessEvals:\t9690"
     ]
    },
    {
     "name": "stdout",
     "output_type": "stream",
     "text": [
      "\n"
     ]
    },
    {
     "name": "stdout",
     "output_type": "stream",
     "text": [
      "Mean Fitness:\t200.0002"
     ]
    },
    {
     "name": "stdout",
     "output_type": "stream",
     "text": [
      "\n"
     ]
    },
    {
     "name": "stdout",
     "output_type": "stream",
     "text": [
      "Best Fitness:\t200.0001\n",
      "Solution:\t200.0000\n",
      "Diff:\t\t0.0001"
     ]
    },
    {
     "name": "stdout",
     "output_type": "stream",
     "text": [
      "\n"
     ]
    },
    {
     "name": "stdout",
     "output_type": "stream",
     "text": [
      "\r",
      "[0:05:53][##--------] 19.61% "
     ]
    },
    {
     "name": "stdout",
     "output_type": "stream",
     "text": [
      "Optimization ended due to max fitness evals (max = 10000.0, curr = 9690)"
     ]
    },
    {
     "name": "stdout",
     "output_type": "stream",
     "text": [
      "\n"
     ]
    },
    {
     "name": "stdout",
     "output_type": "stream",
     "text": [
      "\n",
      "#Generations:\t321"
     ]
    },
    {
     "name": "stdout",
     "output_type": "stream",
     "text": [
      "\n"
     ]
    },
    {
     "name": "stdout",
     "output_type": "stream",
     "text": [
      "#FitnessEvals:\t9690"
     ]
    },
    {
     "name": "stdout",
     "output_type": "stream",
     "text": [
      "\n"
     ]
    },
    {
     "name": "stdout",
     "output_type": "stream",
     "text": [
      "Mean Fitness:\t200.0000"
     ]
    },
    {
     "name": "stdout",
     "output_type": "stream",
     "text": [
      "\n"
     ]
    },
    {
     "name": "stdout",
     "output_type": "stream",
     "text": [
      "Best Fitness:\t200.0000\n",
      "Solution:\t200.0000\n",
      "Diff:\t\t0.0000"
     ]
    },
    {
     "name": "stdout",
     "output_type": "stream",
     "text": [
      "\n"
     ]
    },
    {
     "name": "stdout",
     "output_type": "stream",
     "text": [
      "\r",
      "[0:06:26][##--------] 21.57% "
     ]
    },
    {
     "name": "stdout",
     "output_type": "stream",
     "text": [
      "Optimization ended due to max fitness evals (max = 10000.0, curr = 9690)"
     ]
    },
    {
     "name": "stdout",
     "output_type": "stream",
     "text": [
      "\n"
     ]
    },
    {
     "name": "stdout",
     "output_type": "stream",
     "text": [
      "\n",
      "#Generations:\t321"
     ]
    },
    {
     "name": "stdout",
     "output_type": "stream",
     "text": [
      "\n"
     ]
    },
    {
     "name": "stdout",
     "output_type": "stream",
     "text": [
      "#FitnessEvals:\t9690"
     ]
    },
    {
     "name": "stdout",
     "output_type": "stream",
     "text": [
      "\n"
     ]
    },
    {
     "name": "stdout",
     "output_type": "stream",
     "text": [
      "Mean Fitness:\t200.0003"
     ]
    },
    {
     "name": "stdout",
     "output_type": "stream",
     "text": [
      "\n"
     ]
    },
    {
     "name": "stdout",
     "output_type": "stream",
     "text": [
      "Best Fitness:\t200.0001\n",
      "Solution:\t200.0000\n",
      "Diff:\t\t0.0001"
     ]
    },
    {
     "name": "stdout",
     "output_type": "stream",
     "text": [
      "\n"
     ]
    },
    {
     "name": "stdout",
     "output_type": "stream",
     "text": [
      "\r",
      "[0:07:00][##--------] 23.53% "
     ]
    },
    {
     "name": "stdout",
     "output_type": "stream",
     "text": [
      "Optimization ended due to max fitness evals (max = 10000.0, curr = 9690)"
     ]
    },
    {
     "name": "stdout",
     "output_type": "stream",
     "text": [
      "\n"
     ]
    },
    {
     "name": "stdout",
     "output_type": "stream",
     "text": [
      "\n",
      "#Generations:\t321"
     ]
    },
    {
     "name": "stdout",
     "output_type": "stream",
     "text": [
      "\n"
     ]
    },
    {
     "name": "stdout",
     "output_type": "stream",
     "text": [
      "#FitnessEvals:\t9690"
     ]
    },
    {
     "name": "stdout",
     "output_type": "stream",
     "text": [
      "\n"
     ]
    },
    {
     "name": "stdout",
     "output_type": "stream",
     "text": [
      "Mean Fitness:\t200.0043"
     ]
    },
    {
     "name": "stdout",
     "output_type": "stream",
     "text": [
      "\n"
     ]
    },
    {
     "name": "stdout",
     "output_type": "stream",
     "text": [
      "Best Fitness:\t200.0019\n",
      "Solution:\t200.0000\n",
      "Diff:\t\t0.0019"
     ]
    },
    {
     "name": "stdout",
     "output_type": "stream",
     "text": [
      "\n"
     ]
    },
    {
     "name": "stdout",
     "output_type": "stream",
     "text": [
      "\r",
      "[0:07:34][###-------] 25.49% "
     ]
    },
    {
     "name": "stdout",
     "output_type": "stream",
     "text": [
      "Optimization ended due to max fitness evals (max = 10000.0, curr = 9690)"
     ]
    },
    {
     "name": "stdout",
     "output_type": "stream",
     "text": [
      "\n"
     ]
    },
    {
     "name": "stdout",
     "output_type": "stream",
     "text": [
      "\n",
      "#Generations:\t321"
     ]
    },
    {
     "name": "stdout",
     "output_type": "stream",
     "text": [
      "\n"
     ]
    },
    {
     "name": "stdout",
     "output_type": "stream",
     "text": [
      "#FitnessEvals:\t9690"
     ]
    },
    {
     "name": "stdout",
     "output_type": "stream",
     "text": [
      "\n"
     ]
    },
    {
     "name": "stdout",
     "output_type": "stream",
     "text": [
      "Mean Fitness:\t200.0269"
     ]
    },
    {
     "name": "stdout",
     "output_type": "stream",
     "text": [
      "\n"
     ]
    },
    {
     "name": "stdout",
     "output_type": "stream",
     "text": [
      "Best Fitness:\t200.0140\n",
      "Solution:\t200.0000\n",
      "Diff:\t\t0.0140"
     ]
    },
    {
     "name": "stdout",
     "output_type": "stream",
     "text": [
      "\n"
     ]
    },
    {
     "name": "stdout",
     "output_type": "stream",
     "text": [
      "\r",
      "[0:08:09][###-------] 27.45% "
     ]
    },
    {
     "name": "stdout",
     "output_type": "stream",
     "text": [
      "Optimization ended due to max fitness evals (max = 10000.0, curr = 9690)"
     ]
    },
    {
     "name": "stdout",
     "output_type": "stream",
     "text": [
      "\n"
     ]
    },
    {
     "name": "stdout",
     "output_type": "stream",
     "text": [
      "\n",
      "#Generations:\t321"
     ]
    },
    {
     "name": "stdout",
     "output_type": "stream",
     "text": [
      "\n"
     ]
    },
    {
     "name": "stdout",
     "output_type": "stream",
     "text": [
      "#FitnessEvals:\t9690"
     ]
    },
    {
     "name": "stdout",
     "output_type": "stream",
     "text": [
      "\n"
     ]
    },
    {
     "name": "stdout",
     "output_type": "stream",
     "text": [
      "Mean Fitness:\t200.0014"
     ]
    },
    {
     "name": "stdout",
     "output_type": "stream",
     "text": [
      "\n"
     ]
    },
    {
     "name": "stdout",
     "output_type": "stream",
     "text": [
      "Best Fitness:\t200.0008\n",
      "Solution:\t200.0000\n",
      "Diff:\t\t0.0008"
     ]
    },
    {
     "name": "stdout",
     "output_type": "stream",
     "text": [
      "\n"
     ]
    },
    {
     "name": "stdout",
     "output_type": "stream",
     "text": [
      "\r",
      "[0:08:44][###-------] 29.41% "
     ]
    },
    {
     "name": "stdout",
     "output_type": "stream",
     "text": [
      "Optimization ended due to max fitness evals (max = 10000.0, curr = 9690)"
     ]
    },
    {
     "name": "stdout",
     "output_type": "stream",
     "text": [
      "\n"
     ]
    },
    {
     "name": "stdout",
     "output_type": "stream",
     "text": [
      "\n",
      "#Generations:\t321"
     ]
    },
    {
     "name": "stdout",
     "output_type": "stream",
     "text": [
      "\n"
     ]
    },
    {
     "name": "stdout",
     "output_type": "stream",
     "text": [
      "#FitnessEvals:\t9690"
     ]
    },
    {
     "name": "stdout",
     "output_type": "stream",
     "text": [
      "\n"
     ]
    },
    {
     "name": "stdout",
     "output_type": "stream",
     "text": [
      "Mean Fitness:\t200.0012"
     ]
    },
    {
     "name": "stdout",
     "output_type": "stream",
     "text": [
      "\n"
     ]
    },
    {
     "name": "stdout",
     "output_type": "stream",
     "text": [
      "Best Fitness:\t200.0003\n",
      "Solution:\t200.0000\n",
      "Diff:\t\t0.0003"
     ]
    },
    {
     "name": "stdout",
     "output_type": "stream",
     "text": [
      "\n"
     ]
    },
    {
     "name": "stdout",
     "output_type": "stream",
     "text": [
      "\r",
      "[0:09:18][###-------] 31.37% "
     ]
    },
    {
     "name": "stdout",
     "output_type": "stream",
     "text": [
      "Optimization ended due to max fitness evals (max = 10000.0, curr = 9690)"
     ]
    },
    {
     "name": "stdout",
     "output_type": "stream",
     "text": [
      "\n"
     ]
    },
    {
     "name": "stdout",
     "output_type": "stream",
     "text": [
      "\n",
      "#Generations:\t321"
     ]
    },
    {
     "name": "stdout",
     "output_type": "stream",
     "text": [
      "\n"
     ]
    },
    {
     "name": "stdout",
     "output_type": "stream",
     "text": [
      "#FitnessEvals:\t9690"
     ]
    },
    {
     "name": "stdout",
     "output_type": "stream",
     "text": [
      "\n"
     ]
    },
    {
     "name": "stdout",
     "output_type": "stream",
     "text": [
      "Mean Fitness:\t200.0113"
     ]
    },
    {
     "name": "stdout",
     "output_type": "stream",
     "text": [
      "\n"
     ]
    },
    {
     "name": "stdout",
     "output_type": "stream",
     "text": [
      "Best Fitness:\t200.0032\n",
      "Solution:\t200.0000\n",
      "Diff:\t\t0.0032"
     ]
    },
    {
     "name": "stdout",
     "output_type": "stream",
     "text": [
      "\n"
     ]
    },
    {
     "name": "stdout",
     "output_type": "stream",
     "text": [
      "\r",
      "[0:09:58][###-------] 33.33% "
     ]
    },
    {
     "name": "stdout",
     "output_type": "stream",
     "text": [
      "Optimization ended due to max fitness evals (max = 10000.0, curr = 9690)"
     ]
    },
    {
     "name": "stdout",
     "output_type": "stream",
     "text": [
      "\n"
     ]
    },
    {
     "name": "stdout",
     "output_type": "stream",
     "text": [
      "\n",
      "#Generations:\t321"
     ]
    },
    {
     "name": "stdout",
     "output_type": "stream",
     "text": [
      "\n"
     ]
    },
    {
     "name": "stdout",
     "output_type": "stream",
     "text": [
      "#FitnessEvals:\t9690"
     ]
    },
    {
     "name": "stdout",
     "output_type": "stream",
     "text": [
      "\n"
     ]
    },
    {
     "name": "stdout",
     "output_type": "stream",
     "text": [
      "Mean Fitness:\t200.0013"
     ]
    },
    {
     "name": "stdout",
     "output_type": "stream",
     "text": [
      "\n"
     ]
    },
    {
     "name": "stdout",
     "output_type": "stream",
     "text": [
      "Best Fitness:\t200.0006\n",
      "Solution:\t200.0000\n",
      "Diff:\t\t0.0006"
     ]
    },
    {
     "name": "stdout",
     "output_type": "stream",
     "text": [
      "\n"
     ]
    },
    {
     "name": "stdout",
     "output_type": "stream",
     "text": [
      "\r",
      "[0:10:36][####------] 35.29% "
     ]
    },
    {
     "name": "stdout",
     "output_type": "stream",
     "text": [
      "Optimization ended due to max fitness evals (max = 10000.0, curr = 9690)"
     ]
    },
    {
     "name": "stdout",
     "output_type": "stream",
     "text": [
      "\n"
     ]
    },
    {
     "name": "stdout",
     "output_type": "stream",
     "text": [
      "\n",
      "#Generations:\t321"
     ]
    },
    {
     "name": "stdout",
     "output_type": "stream",
     "text": [
      "\n"
     ]
    },
    {
     "name": "stdout",
     "output_type": "stream",
     "text": [
      "#FitnessEvals:\t9690"
     ]
    },
    {
     "name": "stdout",
     "output_type": "stream",
     "text": [
      "\n"
     ]
    },
    {
     "name": "stdout",
     "output_type": "stream",
     "text": [
      "Mean Fitness:\t200.0029"
     ]
    },
    {
     "name": "stdout",
     "output_type": "stream",
     "text": [
      "\n"
     ]
    },
    {
     "name": "stdout",
     "output_type": "stream",
     "text": [
      "Best Fitness:\t200.0006\n",
      "Solution:\t200.0000\n",
      "Diff:\t\t0.0006"
     ]
    },
    {
     "name": "stdout",
     "output_type": "stream",
     "text": [
      "\n"
     ]
    },
    {
     "name": "stdout",
     "output_type": "stream",
     "text": [
      "\r",
      "[0:11:15][####------] 37.25% "
     ]
    },
    {
     "name": "stdout",
     "output_type": "stream",
     "text": [
      "Optimization ended due to max fitness evals (max = 10000.0, curr = 9690)"
     ]
    },
    {
     "name": "stdout",
     "output_type": "stream",
     "text": [
      "\n"
     ]
    },
    {
     "name": "stdout",
     "output_type": "stream",
     "text": [
      "\n",
      "#Generations:\t321"
     ]
    },
    {
     "name": "stdout",
     "output_type": "stream",
     "text": [
      "\n"
     ]
    },
    {
     "name": "stdout",
     "output_type": "stream",
     "text": [
      "#FitnessEvals:\t9690"
     ]
    },
    {
     "name": "stdout",
     "output_type": "stream",
     "text": [
      "\n"
     ]
    },
    {
     "name": "stdout",
     "output_type": "stream",
     "text": [
      "Mean Fitness:\t200.0398"
     ]
    },
    {
     "name": "stdout",
     "output_type": "stream",
     "text": [
      "\n"
     ]
    },
    {
     "name": "stdout",
     "output_type": "stream",
     "text": [
      "Best Fitness:\t200.0186\n",
      "Solution:\t200.0000\n",
      "Diff:\t\t0.0186"
     ]
    },
    {
     "name": "stdout",
     "output_type": "stream",
     "text": [
      "\n"
     ]
    },
    {
     "name": "stdout",
     "output_type": "stream",
     "text": [
      "\r",
      "[0:11:59][####------] 39.22% "
     ]
    },
    {
     "name": "stdout",
     "output_type": "stream",
     "text": [
      "Optimization ended due to max fitness evals (max = 10000.0, curr = 9690)"
     ]
    },
    {
     "name": "stdout",
     "output_type": "stream",
     "text": [
      "\n"
     ]
    },
    {
     "name": "stdout",
     "output_type": "stream",
     "text": [
      "\n",
      "#Generations:\t321"
     ]
    },
    {
     "name": "stdout",
     "output_type": "stream",
     "text": [
      "\n"
     ]
    },
    {
     "name": "stdout",
     "output_type": "stream",
     "text": [
      "#FitnessEvals:\t9690"
     ]
    },
    {
     "name": "stdout",
     "output_type": "stream",
     "text": [
      "\n"
     ]
    },
    {
     "name": "stdout",
     "output_type": "stream",
     "text": [
      "Mean Fitness:\t200.0303"
     ]
    },
    {
     "name": "stdout",
     "output_type": "stream",
     "text": [
      "\n"
     ]
    },
    {
     "name": "stdout",
     "output_type": "stream",
     "text": [
      "Best Fitness:\t200.0082\n",
      "Solution:\t200.0000\n",
      "Diff:\t\t0.0082"
     ]
    },
    {
     "name": "stdout",
     "output_type": "stream",
     "text": [
      "\n"
     ]
    },
    {
     "name": "stdout",
     "output_type": "stream",
     "text": [
      "\r",
      "[0:12:40][####------] 41.18% "
     ]
    },
    {
     "name": "stdout",
     "output_type": "stream",
     "text": [
      "Optimization ended due to max fitness evals (max = 10000.0, curr = 9690)"
     ]
    },
    {
     "name": "stdout",
     "output_type": "stream",
     "text": [
      "\n"
     ]
    },
    {
     "name": "stdout",
     "output_type": "stream",
     "text": [
      "\n",
      "#Generations:\t321"
     ]
    },
    {
     "name": "stdout",
     "output_type": "stream",
     "text": [
      "\n"
     ]
    },
    {
     "name": "stdout",
     "output_type": "stream",
     "text": [
      "#FitnessEvals:\t9690"
     ]
    },
    {
     "name": "stdout",
     "output_type": "stream",
     "text": [
      "\n"
     ]
    },
    {
     "name": "stdout",
     "output_type": "stream",
     "text": [
      "Mean Fitness:\t200.0083"
     ]
    },
    {
     "name": "stdout",
     "output_type": "stream",
     "text": [
      "\n"
     ]
    },
    {
     "name": "stdout",
     "output_type": "stream",
     "text": [
      "Best Fitness:\t200.0049\n",
      "Solution:\t200.0000\n",
      "Diff:\t\t0.0049"
     ]
    },
    {
     "name": "stdout",
     "output_type": "stream",
     "text": [
      "\n"
     ]
    },
    {
     "name": "stdout",
     "output_type": "stream",
     "text": [
      "\r",
      "[0:13:22][####------] 43.14% "
     ]
    },
    {
     "name": "stdout",
     "output_type": "stream",
     "text": [
      "Optimization ended due to max fitness evals (max = 10000.0, curr = 9690)"
     ]
    },
    {
     "name": "stdout",
     "output_type": "stream",
     "text": [
      "\n"
     ]
    },
    {
     "name": "stdout",
     "output_type": "stream",
     "text": [
      "\n",
      "#Generations:\t321"
     ]
    },
    {
     "name": "stdout",
     "output_type": "stream",
     "text": [
      "\n"
     ]
    },
    {
     "name": "stdout",
     "output_type": "stream",
     "text": [
      "#FitnessEvals:\t9690"
     ]
    },
    {
     "name": "stdout",
     "output_type": "stream",
     "text": [
      "\n"
     ]
    },
    {
     "name": "stdout",
     "output_type": "stream",
     "text": [
      "Mean Fitness:\t200.0003"
     ]
    },
    {
     "name": "stdout",
     "output_type": "stream",
     "text": [
      "\n"
     ]
    },
    {
     "name": "stdout",
     "output_type": "stream",
     "text": [
      "Best Fitness:\t200.0002\n",
      "Solution:\t200.0000\n",
      "Diff:\t\t0.0002"
     ]
    },
    {
     "name": "stdout",
     "output_type": "stream",
     "text": [
      "\n"
     ]
    },
    {
     "name": "stdout",
     "output_type": "stream",
     "text": [
      "\r",
      "[0:14:01][#####-----] 45.10% "
     ]
    },
    {
     "name": "stdout",
     "output_type": "stream",
     "text": [
      "Optimization ended due to max fitness evals (max = 10000.0, curr = 9690)"
     ]
    },
    {
     "name": "stdout",
     "output_type": "stream",
     "text": [
      "\n"
     ]
    },
    {
     "name": "stdout",
     "output_type": "stream",
     "text": [
      "\n",
      "#Generations:\t321"
     ]
    },
    {
     "name": "stdout",
     "output_type": "stream",
     "text": [
      "\n"
     ]
    },
    {
     "name": "stdout",
     "output_type": "stream",
     "text": [
      "#FitnessEvals:\t9690"
     ]
    },
    {
     "name": "stdout",
     "output_type": "stream",
     "text": [
      "\n"
     ]
    },
    {
     "name": "stdout",
     "output_type": "stream",
     "text": [
      "Mean Fitness:\t200.0129"
     ]
    },
    {
     "name": "stdout",
     "output_type": "stream",
     "text": [
      "\n"
     ]
    },
    {
     "name": "stdout",
     "output_type": "stream",
     "text": [
      "Best Fitness:\t200.0081\n",
      "Solution:\t200.0000\n",
      "Diff:\t\t0.0081"
     ]
    },
    {
     "name": "stdout",
     "output_type": "stream",
     "text": [
      "\n"
     ]
    },
    {
     "name": "stdout",
     "output_type": "stream",
     "text": [
      "\r",
      "[0:14:38][#####-----] 47.06% "
     ]
    },
    {
     "name": "stdout",
     "output_type": "stream",
     "text": [
      "Optimization ended due to max fitness evals (max = 10000.0, curr = 9690)"
     ]
    },
    {
     "name": "stdout",
     "output_type": "stream",
     "text": [
      "\n"
     ]
    },
    {
     "name": "stdout",
     "output_type": "stream",
     "text": [
      "\n",
      "#Generations:\t321"
     ]
    },
    {
     "name": "stdout",
     "output_type": "stream",
     "text": [
      "\n"
     ]
    },
    {
     "name": "stdout",
     "output_type": "stream",
     "text": [
      "#FitnessEvals:\t9690"
     ]
    },
    {
     "name": "stdout",
     "output_type": "stream",
     "text": [
      "\n"
     ]
    },
    {
     "name": "stdout",
     "output_type": "stream",
     "text": [
      "Mean Fitness:\t200.0047"
     ]
    },
    {
     "name": "stdout",
     "output_type": "stream",
     "text": [
      "\n"
     ]
    },
    {
     "name": "stdout",
     "output_type": "stream",
     "text": [
      "Best Fitness:\t200.0021\n",
      "Solution:\t200.0000\n",
      "Diff:\t\t0.0021"
     ]
    },
    {
     "name": "stdout",
     "output_type": "stream",
     "text": [
      "\n"
     ]
    },
    {
     "name": "stdout",
     "output_type": "stream",
     "text": [
      "\r",
      "[0:15:19][#####-----] 49.02% "
     ]
    },
    {
     "name": "stdout",
     "output_type": "stream",
     "text": [
      "Optimization ended due to max fitness evals (max = 10000.0, curr = 9690)"
     ]
    },
    {
     "name": "stdout",
     "output_type": "stream",
     "text": [
      "\n"
     ]
    },
    {
     "name": "stdout",
     "output_type": "stream",
     "text": [
      "\n",
      "#Generations:\t321"
     ]
    },
    {
     "name": "stdout",
     "output_type": "stream",
     "text": [
      "\n"
     ]
    },
    {
     "name": "stdout",
     "output_type": "stream",
     "text": [
      "#FitnessEvals:\t9690"
     ]
    },
    {
     "name": "stdout",
     "output_type": "stream",
     "text": [
      "\n"
     ]
    },
    {
     "name": "stdout",
     "output_type": "stream",
     "text": [
      "Mean Fitness:\t200.0011"
     ]
    },
    {
     "name": "stdout",
     "output_type": "stream",
     "text": [
      "\n"
     ]
    },
    {
     "name": "stdout",
     "output_type": "stream",
     "text": [
      "Best Fitness:\t200.0005\n",
      "Solution:\t200.0000\n",
      "Diff:\t\t0.0005"
     ]
    },
    {
     "name": "stdout",
     "output_type": "stream",
     "text": [
      "\n"
     ]
    },
    {
     "name": "stdout",
     "output_type": "stream",
     "text": [
      "\r",
      "[0:15:58][#####-----] 50.98% "
     ]
    },
    {
     "name": "stdout",
     "output_type": "stream",
     "text": [
      "Optimization ended due to max fitness evals (max = 10000.0, curr = 9690)"
     ]
    },
    {
     "name": "stdout",
     "output_type": "stream",
     "text": [
      "\n"
     ]
    },
    {
     "name": "stdout",
     "output_type": "stream",
     "text": [
      "\n",
      "#Generations:\t321"
     ]
    },
    {
     "name": "stdout",
     "output_type": "stream",
     "text": [
      "\n"
     ]
    },
    {
     "name": "stdout",
     "output_type": "stream",
     "text": [
      "#FitnessEvals:\t9690"
     ]
    },
    {
     "name": "stdout",
     "output_type": "stream",
     "text": [
      "\n"
     ]
    },
    {
     "name": "stdout",
     "output_type": "stream",
     "text": [
      "Mean Fitness:\t200.0004"
     ]
    },
    {
     "name": "stdout",
     "output_type": "stream",
     "text": [
      "\n"
     ]
    },
    {
     "name": "stdout",
     "output_type": "stream",
     "text": [
      "Best Fitness:\t200.0001\n",
      "Solution:\t200.0000\n",
      "Diff:\t\t0.0001"
     ]
    },
    {
     "name": "stdout",
     "output_type": "stream",
     "text": [
      "\n"
     ]
    },
    {
     "name": "stdout",
     "output_type": "stream",
     "text": [
      "\r",
      "[0:16:36][#####-----] 52.94% "
     ]
    },
    {
     "name": "stdout",
     "output_type": "stream",
     "text": [
      "Optimization ended due to max fitness evals (max = 10000.0, curr = 9690)"
     ]
    },
    {
     "name": "stdout",
     "output_type": "stream",
     "text": [
      "\n"
     ]
    },
    {
     "name": "stdout",
     "output_type": "stream",
     "text": [
      "\n",
      "#Generations:\t321"
     ]
    },
    {
     "name": "stdout",
     "output_type": "stream",
     "text": [
      "\n"
     ]
    },
    {
     "name": "stdout",
     "output_type": "stream",
     "text": [
      "#FitnessEvals:\t9690"
     ]
    },
    {
     "name": "stdout",
     "output_type": "stream",
     "text": [
      "\n"
     ]
    },
    {
     "name": "stdout",
     "output_type": "stream",
     "text": [
      "Mean Fitness:\t200.0199"
     ]
    },
    {
     "name": "stdout",
     "output_type": "stream",
     "text": [
      "\n"
     ]
    },
    {
     "name": "stdout",
     "output_type": "stream",
     "text": [
      "Best Fitness:\t200.0078\n",
      "Solution:\t200.0000\n",
      "Diff:\t\t0.0078"
     ]
    },
    {
     "name": "stdout",
     "output_type": "stream",
     "text": [
      "\n"
     ]
    },
    {
     "name": "stdout",
     "output_type": "stream",
     "text": [
      "\r",
      "[0:17:14][#####-----] 54.90% "
     ]
    },
    {
     "name": "stdout",
     "output_type": "stream",
     "text": [
      "Optimization ended due to max fitness evals (max = 10000.0, curr = 9690)"
     ]
    },
    {
     "name": "stdout",
     "output_type": "stream",
     "text": [
      "\n"
     ]
    },
    {
     "name": "stdout",
     "output_type": "stream",
     "text": [
      "\n",
      "#Generations:\t321"
     ]
    },
    {
     "name": "stdout",
     "output_type": "stream",
     "text": [
      "\n"
     ]
    },
    {
     "name": "stdout",
     "output_type": "stream",
     "text": [
      "#FitnessEvals:\t9690"
     ]
    },
    {
     "name": "stdout",
     "output_type": "stream",
     "text": [
      "\n"
     ]
    },
    {
     "name": "stdout",
     "output_type": "stream",
     "text": [
      "Mean Fitness:\t200.0018"
     ]
    },
    {
     "name": "stdout",
     "output_type": "stream",
     "text": [
      "\n"
     ]
    },
    {
     "name": "stdout",
     "output_type": "stream",
     "text": [
      "Best Fitness:\t200.0007\n",
      "Solution:\t200.0000\n",
      "Diff:\t\t0.0007"
     ]
    },
    {
     "name": "stdout",
     "output_type": "stream",
     "text": [
      "\n"
     ]
    },
    {
     "name": "stdout",
     "output_type": "stream",
     "text": [
      "\r",
      "[0:17:53][######----] 56.86% "
     ]
    },
    {
     "name": "stdout",
     "output_type": "stream",
     "text": [
      "Optimization ended due to max fitness evals (max = 10000.0, curr = 9690)"
     ]
    },
    {
     "name": "stdout",
     "output_type": "stream",
     "text": [
      "\n"
     ]
    },
    {
     "name": "stdout",
     "output_type": "stream",
     "text": [
      "\n",
      "#Generations:\t321"
     ]
    },
    {
     "name": "stdout",
     "output_type": "stream",
     "text": [
      "\n"
     ]
    },
    {
     "name": "stdout",
     "output_type": "stream",
     "text": [
      "#FitnessEvals:\t9690"
     ]
    },
    {
     "name": "stdout",
     "output_type": "stream",
     "text": [
      "\n"
     ]
    },
    {
     "name": "stdout",
     "output_type": "stream",
     "text": [
      "Mean Fitness:\t200.0034"
     ]
    },
    {
     "name": "stdout",
     "output_type": "stream",
     "text": [
      "\n"
     ]
    },
    {
     "name": "stdout",
     "output_type": "stream",
     "text": [
      "Best Fitness:\t200.0017\n",
      "Solution:\t200.0000\n",
      "Diff:\t\t0.0017"
     ]
    },
    {
     "name": "stdout",
     "output_type": "stream",
     "text": [
      "\n"
     ]
    },
    {
     "name": "stdout",
     "output_type": "stream",
     "text": [
      "\r",
      "[0:18:30][######----] 58.82% "
     ]
    },
    {
     "name": "stdout",
     "output_type": "stream",
     "text": [
      "Optimization ended due to max fitness evals (max = 10000.0, curr = 9690)"
     ]
    },
    {
     "name": "stdout",
     "output_type": "stream",
     "text": [
      "\n"
     ]
    },
    {
     "name": "stdout",
     "output_type": "stream",
     "text": [
      "\n",
      "#Generations:\t321"
     ]
    },
    {
     "name": "stdout",
     "output_type": "stream",
     "text": [
      "\n"
     ]
    },
    {
     "name": "stdout",
     "output_type": "stream",
     "text": [
      "#FitnessEvals:\t9690"
     ]
    },
    {
     "name": "stdout",
     "output_type": "stream",
     "text": [
      "\n"
     ]
    },
    {
     "name": "stdout",
     "output_type": "stream",
     "text": [
      "Mean Fitness:\t200.0000"
     ]
    },
    {
     "name": "stdout",
     "output_type": "stream",
     "text": [
      "\n"
     ]
    },
    {
     "name": "stdout",
     "output_type": "stream",
     "text": [
      "Best Fitness:\t200.0000\n",
      "Solution:\t200.0000\n",
      "Diff:\t\t0.0000"
     ]
    },
    {
     "name": "stdout",
     "output_type": "stream",
     "text": [
      "\n"
     ]
    },
    {
     "name": "stdout",
     "output_type": "stream",
     "text": [
      "\r",
      "[0:19:08][######----] 60.78% "
     ]
    },
    {
     "name": "stdout",
     "output_type": "stream",
     "text": [
      "Optimization ended due to max fitness evals (max = 10000.0, curr = 9690)"
     ]
    },
    {
     "name": "stdout",
     "output_type": "stream",
     "text": [
      "\n"
     ]
    },
    {
     "name": "stdout",
     "output_type": "stream",
     "text": [
      "\n",
      "#Generations:\t321"
     ]
    },
    {
     "name": "stdout",
     "output_type": "stream",
     "text": [
      "\n"
     ]
    },
    {
     "name": "stdout",
     "output_type": "stream",
     "text": [
      "#FitnessEvals:\t9690"
     ]
    },
    {
     "name": "stdout",
     "output_type": "stream",
     "text": [
      "\n"
     ]
    },
    {
     "name": "stdout",
     "output_type": "stream",
     "text": [
      "Mean Fitness:\t200.0004"
     ]
    },
    {
     "name": "stdout",
     "output_type": "stream",
     "text": [
      "\n"
     ]
    },
    {
     "name": "stdout",
     "output_type": "stream",
     "text": [
      "Best Fitness:\t200.0002\n",
      "Solution:\t200.0000\n",
      "Diff:\t\t0.0002"
     ]
    },
    {
     "name": "stdout",
     "output_type": "stream",
     "text": [
      "\n"
     ]
    },
    {
     "name": "stdout",
     "output_type": "stream",
     "text": [
      "\r",
      "[0:19:44][######----] 62.75% "
     ]
    },
    {
     "name": "stdout",
     "output_type": "stream",
     "text": [
      "Optimization ended due to max fitness evals (max = 10000.0, curr = 9690)"
     ]
    },
    {
     "name": "stdout",
     "output_type": "stream",
     "text": [
      "\n"
     ]
    },
    {
     "name": "stdout",
     "output_type": "stream",
     "text": [
      "\n",
      "#Generations:\t321"
     ]
    },
    {
     "name": "stdout",
     "output_type": "stream",
     "text": [
      "\n"
     ]
    },
    {
     "name": "stdout",
     "output_type": "stream",
     "text": [
      "#FitnessEvals:\t9690"
     ]
    },
    {
     "name": "stdout",
     "output_type": "stream",
     "text": [
      "\n"
     ]
    },
    {
     "name": "stdout",
     "output_type": "stream",
     "text": [
      "Mean Fitness:\t200.0013"
     ]
    },
    {
     "name": "stdout",
     "output_type": "stream",
     "text": [
      "\n"
     ]
    },
    {
     "name": "stdout",
     "output_type": "stream",
     "text": [
      "Best Fitness:\t200.0008\n",
      "Solution:\t200.0000\n",
      "Diff:\t\t0.0008"
     ]
    },
    {
     "name": "stdout",
     "output_type": "stream",
     "text": [
      "\n"
     ]
    },
    {
     "name": "stdout",
     "output_type": "stream",
     "text": [
      "\r",
      "[0:20:20][######----] 64.71% "
     ]
    },
    {
     "name": "stdout",
     "output_type": "stream",
     "text": [
      "Optimization ended due to max fitness evals (max = 10000.0, curr = 9690)"
     ]
    },
    {
     "name": "stdout",
     "output_type": "stream",
     "text": [
      "\n"
     ]
    },
    {
     "name": "stdout",
     "output_type": "stream",
     "text": [
      "\n",
      "#Generations:\t321"
     ]
    },
    {
     "name": "stdout",
     "output_type": "stream",
     "text": [
      "\n"
     ]
    },
    {
     "name": "stdout",
     "output_type": "stream",
     "text": [
      "#FitnessEvals:\t9690"
     ]
    },
    {
     "name": "stdout",
     "output_type": "stream",
     "text": [
      "\n"
     ]
    },
    {
     "name": "stdout",
     "output_type": "stream",
     "text": [
      "Mean Fitness:\t200.0094"
     ]
    },
    {
     "name": "stdout",
     "output_type": "stream",
     "text": [
      "\n"
     ]
    },
    {
     "name": "stdout",
     "output_type": "stream",
     "text": [
      "Best Fitness:\t200.0027\n",
      "Solution:\t200.0000\n",
      "Diff:\t\t0.0027"
     ]
    },
    {
     "name": "stdout",
     "output_type": "stream",
     "text": [
      "\n"
     ]
    },
    {
     "name": "stdout",
     "output_type": "stream",
     "text": [
      "\r",
      "[0:20:58][#######---] 66.67% "
     ]
    },
    {
     "name": "stdout",
     "output_type": "stream",
     "text": [
      "Optimization ended due to max fitness evals (max = 10000.0, curr = 9690)"
     ]
    },
    {
     "name": "stdout",
     "output_type": "stream",
     "text": [
      "\n"
     ]
    },
    {
     "name": "stdout",
     "output_type": "stream",
     "text": [
      "\n",
      "#Generations:\t321"
     ]
    },
    {
     "name": "stdout",
     "output_type": "stream",
     "text": [
      "\n"
     ]
    },
    {
     "name": "stdout",
     "output_type": "stream",
     "text": [
      "#FitnessEvals:\t9690"
     ]
    },
    {
     "name": "stdout",
     "output_type": "stream",
     "text": [
      "\n"
     ]
    },
    {
     "name": "stdout",
     "output_type": "stream",
     "text": [
      "Mean Fitness:\t200.0046"
     ]
    },
    {
     "name": "stdout",
     "output_type": "stream",
     "text": [
      "\n"
     ]
    },
    {
     "name": "stdout",
     "output_type": "stream",
     "text": [
      "Best Fitness:\t200.0023\n",
      "Solution:\t200.0000\n",
      "Diff:\t\t0.0023"
     ]
    },
    {
     "name": "stdout",
     "output_type": "stream",
     "text": [
      "\n"
     ]
    },
    {
     "name": "stdout",
     "output_type": "stream",
     "text": [
      "\r",
      "[0:21:35][#######---] 68.63% "
     ]
    },
    {
     "name": "stdout",
     "output_type": "stream",
     "text": [
      "Optimization ended due to max fitness evals (max = 10000.0, curr = 9690)"
     ]
    },
    {
     "name": "stdout",
     "output_type": "stream",
     "text": [
      "\n"
     ]
    },
    {
     "name": "stdout",
     "output_type": "stream",
     "text": [
      "\n",
      "#Generations:\t321"
     ]
    },
    {
     "name": "stdout",
     "output_type": "stream",
     "text": [
      "\n"
     ]
    },
    {
     "name": "stdout",
     "output_type": "stream",
     "text": [
      "#FitnessEvals:\t9690"
     ]
    },
    {
     "name": "stdout",
     "output_type": "stream",
     "text": [
      "\n"
     ]
    },
    {
     "name": "stdout",
     "output_type": "stream",
     "text": [
      "Mean Fitness:\t200.0001"
     ]
    },
    {
     "name": "stdout",
     "output_type": "stream",
     "text": [
      "\n"
     ]
    },
    {
     "name": "stdout",
     "output_type": "stream",
     "text": [
      "Best Fitness:\t200.0000\n",
      "Solution:\t200.0000\n",
      "Diff:\t\t0.0000"
     ]
    },
    {
     "name": "stdout",
     "output_type": "stream",
     "text": [
      "\n"
     ]
    },
    {
     "name": "stdout",
     "output_type": "stream",
     "text": [
      "\r",
      "[0:22:12][#######---] 70.59% "
     ]
    },
    {
     "name": "stdout",
     "output_type": "stream",
     "text": [
      "Optimization ended due to max fitness evals (max = 10000.0, curr = 9690)"
     ]
    },
    {
     "name": "stdout",
     "output_type": "stream",
     "text": [
      "\n"
     ]
    },
    {
     "name": "stdout",
     "output_type": "stream",
     "text": [
      "\n",
      "#Generations:\t321"
     ]
    },
    {
     "name": "stdout",
     "output_type": "stream",
     "text": [
      "\n"
     ]
    },
    {
     "name": "stdout",
     "output_type": "stream",
     "text": [
      "#FitnessEvals:\t9690"
     ]
    },
    {
     "name": "stdout",
     "output_type": "stream",
     "text": [
      "\n"
     ]
    },
    {
     "name": "stdout",
     "output_type": "stream",
     "text": [
      "Mean Fitness:\t200.0242"
     ]
    },
    {
     "name": "stdout",
     "output_type": "stream",
     "text": [
      "\n"
     ]
    },
    {
     "name": "stdout",
     "output_type": "stream",
     "text": [
      "Best Fitness:\t200.0149\n",
      "Solution:\t200.0000\n",
      "Diff:\t\t0.0149"
     ]
    },
    {
     "name": "stdout",
     "output_type": "stream",
     "text": [
      "\n"
     ]
    },
    {
     "name": "stdout",
     "output_type": "stream",
     "text": [
      "\r",
      "[0:22:49][#######---] 72.55% "
     ]
    },
    {
     "name": "stdout",
     "output_type": "stream",
     "text": [
      "Optimization ended due to max fitness evals (max = 10000.0, curr = 9690)"
     ]
    },
    {
     "name": "stdout",
     "output_type": "stream",
     "text": [
      "\n"
     ]
    },
    {
     "name": "stdout",
     "output_type": "stream",
     "text": [
      "\n",
      "#Generations:\t321"
     ]
    },
    {
     "name": "stdout",
     "output_type": "stream",
     "text": [
      "\n"
     ]
    },
    {
     "name": "stdout",
     "output_type": "stream",
     "text": [
      "#FitnessEvals:\t9690"
     ]
    },
    {
     "name": "stdout",
     "output_type": "stream",
     "text": [
      "\n"
     ]
    },
    {
     "name": "stdout",
     "output_type": "stream",
     "text": [
      "Mean Fitness:\t200.0013"
     ]
    },
    {
     "name": "stdout",
     "output_type": "stream",
     "text": [
      "\n"
     ]
    },
    {
     "name": "stdout",
     "output_type": "stream",
     "text": [
      "Best Fitness:\t200.0011\n",
      "Solution:\t200.0000\n",
      "Diff:\t\t0.0011"
     ]
    },
    {
     "name": "stdout",
     "output_type": "stream",
     "text": [
      "\n"
     ]
    },
    {
     "name": "stdout",
     "output_type": "stream",
     "text": [
      "\r",
      "[0:23:24][#######---] 74.51% "
     ]
    },
    {
     "name": "stdout",
     "output_type": "stream",
     "text": [
      "Optimization ended due to max fitness evals (max = 10000.0, curr = 9690)"
     ]
    },
    {
     "name": "stdout",
     "output_type": "stream",
     "text": [
      "\n"
     ]
    },
    {
     "name": "stdout",
     "output_type": "stream",
     "text": [
      "\n",
      "#Generations:\t321"
     ]
    },
    {
     "name": "stdout",
     "output_type": "stream",
     "text": [
      "\n"
     ]
    },
    {
     "name": "stdout",
     "output_type": "stream",
     "text": [
      "#FitnessEvals:\t9690"
     ]
    },
    {
     "name": "stdout",
     "output_type": "stream",
     "text": [
      "\n"
     ]
    },
    {
     "name": "stdout",
     "output_type": "stream",
     "text": [
      "Mean Fitness:\t200.0002"
     ]
    },
    {
     "name": "stdout",
     "output_type": "stream",
     "text": [
      "\n"
     ]
    },
    {
     "name": "stdout",
     "output_type": "stream",
     "text": [
      "Best Fitness:\t200.0000\n",
      "Solution:\t200.0000\n",
      "Diff:\t\t0.0000"
     ]
    },
    {
     "name": "stdout",
     "output_type": "stream",
     "text": [
      "\n"
     ]
    },
    {
     "name": "stdout",
     "output_type": "stream",
     "text": [
      "\r",
      "[0:23:59][########--] 76.47% "
     ]
    },
    {
     "name": "stdout",
     "output_type": "stream",
     "text": [
      "Optimization ended due to max fitness evals (max = 10000.0, curr = 9690)"
     ]
    },
    {
     "name": "stdout",
     "output_type": "stream",
     "text": [
      "\n"
     ]
    },
    {
     "name": "stdout",
     "output_type": "stream",
     "text": [
      "\n",
      "#Generations:\t321"
     ]
    },
    {
     "name": "stdout",
     "output_type": "stream",
     "text": [
      "\n"
     ]
    },
    {
     "name": "stdout",
     "output_type": "stream",
     "text": [
      "#FitnessEvals:\t9690"
     ]
    },
    {
     "name": "stdout",
     "output_type": "stream",
     "text": [
      "\n"
     ]
    },
    {
     "name": "stdout",
     "output_type": "stream",
     "text": [
      "Mean Fitness:\t200.0002"
     ]
    },
    {
     "name": "stdout",
     "output_type": "stream",
     "text": [
      "\n"
     ]
    },
    {
     "name": "stdout",
     "output_type": "stream",
     "text": [
      "Best Fitness:\t200.0001\n",
      "Solution:\t200.0000\n",
      "Diff:\t\t0.0001"
     ]
    },
    {
     "name": "stdout",
     "output_type": "stream",
     "text": [
      "\n"
     ]
    },
    {
     "name": "stdout",
     "output_type": "stream",
     "text": [
      "\r",
      "[0:24:35][########--] 78.43% "
     ]
    },
    {
     "name": "stdout",
     "output_type": "stream",
     "text": [
      "Optimization ended due to max fitness evals (max = 10000.0, curr = 9690)"
     ]
    },
    {
     "name": "stdout",
     "output_type": "stream",
     "text": [
      "\n"
     ]
    },
    {
     "name": "stdout",
     "output_type": "stream",
     "text": [
      "\n",
      "#Generations:\t321"
     ]
    },
    {
     "name": "stdout",
     "output_type": "stream",
     "text": [
      "\n"
     ]
    },
    {
     "name": "stdout",
     "output_type": "stream",
     "text": [
      "#FitnessEvals:\t9690"
     ]
    },
    {
     "name": "stdout",
     "output_type": "stream",
     "text": [
      "\n"
     ]
    },
    {
     "name": "stdout",
     "output_type": "stream",
     "text": [
      "Mean Fitness:\t200.0555"
     ]
    },
    {
     "name": "stdout",
     "output_type": "stream",
     "text": [
      "\n"
     ]
    },
    {
     "name": "stdout",
     "output_type": "stream",
     "text": [
      "Best Fitness:\t200.0215\n",
      "Solution:\t200.0000\n",
      "Diff:\t\t0.0215"
     ]
    },
    {
     "name": "stdout",
     "output_type": "stream",
     "text": [
      "\n"
     ]
    },
    {
     "name": "stdout",
     "output_type": "stream",
     "text": [
      "\r",
      "[0:25:12][########--] 80.39% "
     ]
    },
    {
     "name": "stdout",
     "output_type": "stream",
     "text": [
      "Optimization ended due to max fitness evals (max = 10000.0, curr = 9690)"
     ]
    },
    {
     "name": "stdout",
     "output_type": "stream",
     "text": [
      "\n"
     ]
    },
    {
     "name": "stdout",
     "output_type": "stream",
     "text": [
      "\n",
      "#Generations:\t321"
     ]
    },
    {
     "name": "stdout",
     "output_type": "stream",
     "text": [
      "\n"
     ]
    },
    {
     "name": "stdout",
     "output_type": "stream",
     "text": [
      "#FitnessEvals:\t9690"
     ]
    },
    {
     "name": "stdout",
     "output_type": "stream",
     "text": [
      "\n"
     ]
    },
    {
     "name": "stdout",
     "output_type": "stream",
     "text": [
      "Mean Fitness:\t200.0099"
     ]
    },
    {
     "name": "stdout",
     "output_type": "stream",
     "text": [
      "\n"
     ]
    },
    {
     "name": "stdout",
     "output_type": "stream",
     "text": [
      "Best Fitness:\t200.0039\n",
      "Solution:\t200.0000\n",
      "Diff:\t\t0.0039"
     ]
    },
    {
     "name": "stdout",
     "output_type": "stream",
     "text": [
      "\n"
     ]
    },
    {
     "name": "stdout",
     "output_type": "stream",
     "text": [
      "\r",
      "[0:25:46][########--] 82.35% "
     ]
    },
    {
     "name": "stdout",
     "output_type": "stream",
     "text": [
      "Optimization ended due to max fitness evals (max = 10000.0, curr = 9690)"
     ]
    },
    {
     "name": "stdout",
     "output_type": "stream",
     "text": [
      "\n"
     ]
    },
    {
     "name": "stdout",
     "output_type": "stream",
     "text": [
      "\n",
      "#Generations:\t321"
     ]
    },
    {
     "name": "stdout",
     "output_type": "stream",
     "text": [
      "\n"
     ]
    },
    {
     "name": "stdout",
     "output_type": "stream",
     "text": [
      "#FitnessEvals:\t9690"
     ]
    },
    {
     "name": "stdout",
     "output_type": "stream",
     "text": [
      "\n"
     ]
    },
    {
     "name": "stdout",
     "output_type": "stream",
     "text": [
      "Mean Fitness:\t200.0004"
     ]
    },
    {
     "name": "stdout",
     "output_type": "stream",
     "text": [
      "\n"
     ]
    },
    {
     "name": "stdout",
     "output_type": "stream",
     "text": [
      "Best Fitness:\t200.0001\n",
      "Solution:\t200.0000\n",
      "Diff:\t\t0.0001"
     ]
    },
    {
     "name": "stdout",
     "output_type": "stream",
     "text": [
      "\n"
     ]
    },
    {
     "name": "stdout",
     "output_type": "stream",
     "text": [
      "\r",
      "[0:26:22][########--] 84.31% "
     ]
    },
    {
     "name": "stdout",
     "output_type": "stream",
     "text": [
      "Optimization ended due to max fitness evals (max = 10000.0, curr = 9690)"
     ]
    },
    {
     "name": "stdout",
     "output_type": "stream",
     "text": [
      "\n"
     ]
    },
    {
     "name": "stdout",
     "output_type": "stream",
     "text": [
      "\n",
      "#Generations:\t321"
     ]
    },
    {
     "name": "stdout",
     "output_type": "stream",
     "text": [
      "\n"
     ]
    },
    {
     "name": "stdout",
     "output_type": "stream",
     "text": [
      "#FitnessEvals:\t9690"
     ]
    },
    {
     "name": "stdout",
     "output_type": "stream",
     "text": [
      "\n"
     ]
    },
    {
     "name": "stdout",
     "output_type": "stream",
     "text": [
      "Mean Fitness:\t200.0041"
     ]
    },
    {
     "name": "stdout",
     "output_type": "stream",
     "text": [
      "\n"
     ]
    },
    {
     "name": "stdout",
     "output_type": "stream",
     "text": [
      "Best Fitness:\t200.0024\n",
      "Solution:\t200.0000\n",
      "Diff:\t\t0.0024"
     ]
    },
    {
     "name": "stdout",
     "output_type": "stream",
     "text": [
      "\n"
     ]
    },
    {
     "name": "stdout",
     "output_type": "stream",
     "text": [
      "\r",
      "[0:26:57][#########-] 86.27% "
     ]
    },
    {
     "name": "stdout",
     "output_type": "stream",
     "text": [
      "Optimization ended due to max fitness evals (max = 10000.0, curr = 9690)"
     ]
    },
    {
     "name": "stdout",
     "output_type": "stream",
     "text": [
      "\n"
     ]
    },
    {
     "name": "stdout",
     "output_type": "stream",
     "text": [
      "\n",
      "#Generations:\t321"
     ]
    },
    {
     "name": "stdout",
     "output_type": "stream",
     "text": [
      "\n"
     ]
    },
    {
     "name": "stdout",
     "output_type": "stream",
     "text": [
      "#FitnessEvals:\t9690"
     ]
    },
    {
     "name": "stdout",
     "output_type": "stream",
     "text": [
      "\n"
     ]
    },
    {
     "name": "stdout",
     "output_type": "stream",
     "text": [
      "Mean Fitness:\t200.0000"
     ]
    },
    {
     "name": "stdout",
     "output_type": "stream",
     "text": [
      "\n"
     ]
    },
    {
     "name": "stdout",
     "output_type": "stream",
     "text": [
      "Best Fitness:\t200.0000\n",
      "Solution:\t200.0000\n",
      "Diff:\t\t0.0000"
     ]
    },
    {
     "name": "stdout",
     "output_type": "stream",
     "text": [
      "\n"
     ]
    },
    {
     "name": "stdout",
     "output_type": "stream",
     "text": [
      "\r",
      "[0:27:31][#########-] 88.24% "
     ]
    },
    {
     "name": "stdout",
     "output_type": "stream",
     "text": [
      "Optimization ended due to max fitness evals (max = 10000.0, curr = 9690)"
     ]
    },
    {
     "name": "stdout",
     "output_type": "stream",
     "text": [
      "\n"
     ]
    },
    {
     "name": "stdout",
     "output_type": "stream",
     "text": [
      "\n",
      "#Generations:\t321"
     ]
    },
    {
     "name": "stdout",
     "output_type": "stream",
     "text": [
      "\n"
     ]
    },
    {
     "name": "stdout",
     "output_type": "stream",
     "text": [
      "#FitnessEvals:\t9690"
     ]
    },
    {
     "name": "stdout",
     "output_type": "stream",
     "text": [
      "\n"
     ]
    },
    {
     "name": "stdout",
     "output_type": "stream",
     "text": [
      "Mean Fitness:\t200.0001"
     ]
    },
    {
     "name": "stdout",
     "output_type": "stream",
     "text": [
      "\n"
     ]
    },
    {
     "name": "stdout",
     "output_type": "stream",
     "text": [
      "Best Fitness:\t200.0000\n",
      "Solution:\t200.0000\n",
      "Diff:\t\t0.0000"
     ]
    },
    {
     "name": "stdout",
     "output_type": "stream",
     "text": [
      "\n"
     ]
    },
    {
     "name": "stdout",
     "output_type": "stream",
     "text": [
      "\r",
      "[0:28:07][#########-] 90.20% "
     ]
    },
    {
     "name": "stdout",
     "output_type": "stream",
     "text": [
      "Optimization ended due to max fitness evals (max = 10000.0, curr = 9690)"
     ]
    },
    {
     "name": "stdout",
     "output_type": "stream",
     "text": [
      "\n"
     ]
    },
    {
     "name": "stdout",
     "output_type": "stream",
     "text": [
      "\n",
      "#Generations:\t321"
     ]
    },
    {
     "name": "stdout",
     "output_type": "stream",
     "text": [
      "\n"
     ]
    },
    {
     "name": "stdout",
     "output_type": "stream",
     "text": [
      "#FitnessEvals:\t9690"
     ]
    },
    {
     "name": "stdout",
     "output_type": "stream",
     "text": [
      "\n"
     ]
    },
    {
     "name": "stdout",
     "output_type": "stream",
     "text": [
      "Mean Fitness:\t200.0002"
     ]
    },
    {
     "name": "stdout",
     "output_type": "stream",
     "text": [
      "\n"
     ]
    },
    {
     "name": "stdout",
     "output_type": "stream",
     "text": [
      "Best Fitness:\t200.0001\n",
      "Solution:\t200.0000\n",
      "Diff:\t\t0.0001"
     ]
    },
    {
     "name": "stdout",
     "output_type": "stream",
     "text": [
      "\n"
     ]
    },
    {
     "name": "stdout",
     "output_type": "stream",
     "text": [
      "\r",
      "[0:28:41][#########-] 92.16% "
     ]
    },
    {
     "name": "stdout",
     "output_type": "stream",
     "text": [
      "Optimization ended due to max fitness evals (max = 10000.0, curr = 9690)"
     ]
    },
    {
     "name": "stdout",
     "output_type": "stream",
     "text": [
      "\n"
     ]
    },
    {
     "name": "stdout",
     "output_type": "stream",
     "text": [
      "\n",
      "#Generations:\t321"
     ]
    },
    {
     "name": "stdout",
     "output_type": "stream",
     "text": [
      "\n"
     ]
    },
    {
     "name": "stdout",
     "output_type": "stream",
     "text": [
      "#FitnessEvals:\t9690"
     ]
    },
    {
     "name": "stdout",
     "output_type": "stream",
     "text": [
      "\n"
     ]
    },
    {
     "name": "stdout",
     "output_type": "stream",
     "text": [
      "Mean Fitness:\t200.0000"
     ]
    },
    {
     "name": "stdout",
     "output_type": "stream",
     "text": [
      "\n"
     ]
    },
    {
     "name": "stdout",
     "output_type": "stream",
     "text": [
      "Best Fitness:\t200.0000\n",
      "Solution:\t200.0000\n",
      "Diff:\t\t0.0000"
     ]
    },
    {
     "name": "stdout",
     "output_type": "stream",
     "text": [
      "\n"
     ]
    },
    {
     "name": "stdout",
     "output_type": "stream",
     "text": [
      "\r",
      "[0:29:16][#########-] 94.12% "
     ]
    },
    {
     "name": "stdout",
     "output_type": "stream",
     "text": [
      "Optimization ended due to max fitness evals (max = 10000.0, curr = 9690)"
     ]
    },
    {
     "name": "stdout",
     "output_type": "stream",
     "text": [
      "\n"
     ]
    },
    {
     "name": "stdout",
     "output_type": "stream",
     "text": [
      "\n",
      "#Generations:\t321"
     ]
    },
    {
     "name": "stdout",
     "output_type": "stream",
     "text": [
      "\n"
     ]
    },
    {
     "name": "stdout",
     "output_type": "stream",
     "text": [
      "#FitnessEvals:\t9690"
     ]
    },
    {
     "name": "stdout",
     "output_type": "stream",
     "text": [
      "\n"
     ]
    },
    {
     "name": "stdout",
     "output_type": "stream",
     "text": [
      "Mean Fitness:\t200.0045"
     ]
    },
    {
     "name": "stdout",
     "output_type": "stream",
     "text": [
      "\n"
     ]
    },
    {
     "name": "stdout",
     "output_type": "stream",
     "text": [
      "Best Fitness:\t200.0019\n",
      "Solution:\t200.0000\n",
      "Diff:\t\t0.0019"
     ]
    },
    {
     "name": "stdout",
     "output_type": "stream",
     "text": [
      "\n"
     ]
    },
    {
     "name": "stdout",
     "output_type": "stream",
     "text": [
      "\r",
      "[0:29:53][##########] 96.08% "
     ]
    },
    {
     "name": "stdout",
     "output_type": "stream",
     "text": [
      "Optimization ended due to max fitness evals (max = 10000.0, curr = 9690)"
     ]
    },
    {
     "name": "stdout",
     "output_type": "stream",
     "text": [
      "\n"
     ]
    },
    {
     "name": "stdout",
     "output_type": "stream",
     "text": [
      "\n",
      "#Generations:\t321"
     ]
    },
    {
     "name": "stdout",
     "output_type": "stream",
     "text": [
      "\n"
     ]
    },
    {
     "name": "stdout",
     "output_type": "stream",
     "text": [
      "#FitnessEvals:\t9690"
     ]
    },
    {
     "name": "stdout",
     "output_type": "stream",
     "text": [
      "\n"
     ]
    },
    {
     "name": "stdout",
     "output_type": "stream",
     "text": [
      "Mean Fitness:\t200.0002"
     ]
    },
    {
     "name": "stdout",
     "output_type": "stream",
     "text": [
      "\n"
     ]
    },
    {
     "name": "stdout",
     "output_type": "stream",
     "text": [
      "Best Fitness:\t200.0001\n",
      "Solution:\t200.0000\n",
      "Diff:\t\t0.0001"
     ]
    },
    {
     "name": "stdout",
     "output_type": "stream",
     "text": [
      "\n"
     ]
    },
    {
     "name": "stdout",
     "output_type": "stream",
     "text": [
      "\r",
      "[0:30:30][##########] 98.04% "
     ]
    },
    {
     "name": "stdout",
     "output_type": "stream",
     "text": [
      "Optimization ended due to max fitness evals (max = 10000.0, curr = 9690)"
     ]
    },
    {
     "name": "stdout",
     "output_type": "stream",
     "text": [
      "\n"
     ]
    },
    {
     "name": "stdout",
     "output_type": "stream",
     "text": [
      "\n",
      "#Generations:\t321"
     ]
    },
    {
     "name": "stdout",
     "output_type": "stream",
     "text": [
      "\n"
     ]
    },
    {
     "name": "stdout",
     "output_type": "stream",
     "text": [
      "#FitnessEvals:\t9690"
     ]
    },
    {
     "name": "stdout",
     "output_type": "stream",
     "text": [
      "\n"
     ]
    },
    {
     "name": "stdout",
     "output_type": "stream",
     "text": [
      "Mean Fitness:\t200.0014"
     ]
    },
    {
     "name": "stdout",
     "output_type": "stream",
     "text": [
      "\n"
     ]
    },
    {
     "name": "stdout",
     "output_type": "stream",
     "text": [
      "Best Fitness:\t200.0009\n",
      "Solution:\t200.0000\n",
      "Diff:\t\t0.0009"
     ]
    },
    {
     "name": "stdout",
     "output_type": "stream",
     "text": [
      "\n"
     ]
    },
    {
     "name": "stdout",
     "output_type": "stream",
     "text": [
      "\r",
      "[0:31:06][##########] 100.00% Done...\r\n"
     ]
    }
   ],
   "source": [
    "hist = pd.DataFrame()\n",
    "arr_runs = range(numRuns)\n",
    "solution = get_solution(funcId, dim, input_data_filepath=input_data_filepath)\n",
    "successRate = 0\n",
    "for idx_run in arr_runs:\n",
    "    progbar.update_progress(idx_run/float(len(arr_runs)))\n",
    "    \n",
    "    # Differential Evolution\n",
    "    alg = DifferentialEvolution(dim=dim, func_id=funcId, pop_size=pop_size, crossover=crossover, \n",
    "        opposition=opposition, mutation=mutation, lambda_mutation=.5, fitness_clusters=fitness_clusters)\n",
    "    \n",
    "    errorHist, fitnessHist = alg.optimize(target=solution, max_f_evals=maxEvals, target_error=targetError, verbose=True)        \n",
    "    bestError = errorHist.iloc[-1,:].min()\n",
    "    errorHist[\"run\"] = np.ones(errorHist.shape[0], dtype=int)*idx_run\n",
    "    hist = pd.concat([hist, errorHist], ignore_index=False)    \n",
    "    if bestError <= targetError:\n",
    "        print (\"Target error achieved with error {}\".format(bestError))\n",
    "        successRate += 1\n",
    "    \n",
    "    write_log(filepath=output_filepath + 'log.tsv', \n",
    "              text='[{}]\\t{}/{}\\t{}\\t{}\\n'.format(time.strftime(\"%Y-%m-%d %H:%M:%S\", time.gmtime()), \n",
    "                                              idx_run+1,\n",
    "                                              len(arr_runs),\n",
    "                                              progbar.get_elapsed_time(),\n",
    "                                              successRate)\n",
    "             )\n",
    "    \n",
    "hist.index.name = 'generation'\n",
    "hist.to_csv(output_filepath + 'hist.tsv', sep='\\t')\n",
    "progbar.update_progress(1)"
   ]
  },
  {
   "cell_type": "code",
   "execution_count": 7,
   "metadata": {
    "papermill": {
     "duration": 0.577457,
     "end_time": "2019-07-26T12:19:54.287162",
     "exception": false,
     "start_time": "2019-07-26T12:19:53.709705",
     "status": "completed"
    },
    "tags": []
   },
   "outputs": [
    {
     "name": "stdout",
     "output_type": "stream",
     "text": [
      "Elapsed Time: "
     ]
    },
    {
     "name": "stdout",
     "output_type": "stream",
     "text": [
      " "
     ]
    },
    {
     "name": "stdout",
     "output_type": "stream",
     "text": [
      "0:31:06"
     ]
    },
    {
     "name": "stdout",
     "output_type": "stream",
     "text": [
      "\n"
     ]
    }
   ],
   "source": [
    "print (\"Elapsed Time: \", progbar.get_elapsed_time())"
   ]
  },
  {
   "cell_type": "code",
   "execution_count": 8,
   "metadata": {
    "papermill": {
     "duration": 0.428878,
     "end_time": "2019-07-26T12:19:55.174813",
     "exception": false,
     "start_time": "2019-07-26T12:19:54.745935",
     "status": "completed"
    },
    "tags": []
   },
   "outputs": [
    {
     "data": {
      "text/html": [
       "<div>\n",
       "<style scoped>\n",
       "    .dataframe tbody tr th:only-of-type {\n",
       "        vertical-align: middle;\n",
       "    }\n",
       "\n",
       "    .dataframe tbody tr th {\n",
       "        vertical-align: top;\n",
       "    }\n",
       "\n",
       "    .dataframe thead th {\n",
       "        text-align: right;\n",
       "    }\n",
       "</style>\n",
       "<table border=\"1\" class=\"dataframe\">\n",
       "  <thead>\n",
       "    <tr style=\"text-align: right;\">\n",
       "      <th></th>\n",
       "      <th>0</th>\n",
       "      <th>1</th>\n",
       "      <th>2</th>\n",
       "      <th>3</th>\n",
       "      <th>4</th>\n",
       "      <th>5</th>\n",
       "      <th>6</th>\n",
       "      <th>7</th>\n",
       "      <th>8</th>\n",
       "      <th>9</th>\n",
       "      <th>...</th>\n",
       "      <th>21</th>\n",
       "      <th>22</th>\n",
       "      <th>23</th>\n",
       "      <th>24</th>\n",
       "      <th>25</th>\n",
       "      <th>26</th>\n",
       "      <th>27</th>\n",
       "      <th>28</th>\n",
       "      <th>29</th>\n",
       "      <th>run</th>\n",
       "    </tr>\n",
       "    <tr>\n",
       "      <th>generation</th>\n",
       "      <th></th>\n",
       "      <th></th>\n",
       "      <th></th>\n",
       "      <th></th>\n",
       "      <th></th>\n",
       "      <th></th>\n",
       "      <th></th>\n",
       "      <th></th>\n",
       "      <th></th>\n",
       "      <th></th>\n",
       "      <th></th>\n",
       "      <th></th>\n",
       "      <th></th>\n",
       "      <th></th>\n",
       "      <th></th>\n",
       "      <th></th>\n",
       "      <th></th>\n",
       "      <th></th>\n",
       "      <th></th>\n",
       "      <th></th>\n",
       "      <th></th>\n",
       "    </tr>\n",
       "  </thead>\n",
       "  <tbody>\n",
       "    <tr>\n",
       "      <th>316</th>\n",
       "      <td>0.002068</td>\n",
       "      <td>0.002121</td>\n",
       "      <td>0.002746</td>\n",
       "      <td>0.00194</td>\n",
       "      <td>0.001017</td>\n",
       "      <td>0.003930</td>\n",
       "      <td>0.000903</td>\n",
       "      <td>0.001544</td>\n",
       "      <td>0.002300</td>\n",
       "      <td>0.001500</td>\n",
       "      <td>...</td>\n",
       "      <td>0.001330</td>\n",
       "      <td>0.001297</td>\n",
       "      <td>0.001690</td>\n",
       "      <td>0.001203</td>\n",
       "      <td>0.001820</td>\n",
       "      <td>0.002490</td>\n",
       "      <td>0.001498</td>\n",
       "      <td>0.001157</td>\n",
       "      <td>0.002070</td>\n",
       "      <td>50</td>\n",
       "    </tr>\n",
       "    <tr>\n",
       "      <th>317</th>\n",
       "      <td>0.002068</td>\n",
       "      <td>0.001733</td>\n",
       "      <td>0.002746</td>\n",
       "      <td>0.00194</td>\n",
       "      <td>0.001017</td>\n",
       "      <td>0.001561</td>\n",
       "      <td>0.000903</td>\n",
       "      <td>0.001544</td>\n",
       "      <td>0.001306</td>\n",
       "      <td>0.001500</td>\n",
       "      <td>...</td>\n",
       "      <td>0.001306</td>\n",
       "      <td>0.001297</td>\n",
       "      <td>0.001414</td>\n",
       "      <td>0.001203</td>\n",
       "      <td>0.000934</td>\n",
       "      <td>0.002490</td>\n",
       "      <td>0.001237</td>\n",
       "      <td>0.001157</td>\n",
       "      <td>0.002070</td>\n",
       "      <td>50</td>\n",
       "    </tr>\n",
       "    <tr>\n",
       "      <th>318</th>\n",
       "      <td>0.002068</td>\n",
       "      <td>0.001733</td>\n",
       "      <td>0.002746</td>\n",
       "      <td>0.00194</td>\n",
       "      <td>0.001017</td>\n",
       "      <td>0.001561</td>\n",
       "      <td>0.000903</td>\n",
       "      <td>0.001544</td>\n",
       "      <td>0.001306</td>\n",
       "      <td>0.001500</td>\n",
       "      <td>...</td>\n",
       "      <td>0.001306</td>\n",
       "      <td>0.001297</td>\n",
       "      <td>0.001414</td>\n",
       "      <td>0.001156</td>\n",
       "      <td>0.000934</td>\n",
       "      <td>0.002490</td>\n",
       "      <td>0.001138</td>\n",
       "      <td>0.001157</td>\n",
       "      <td>0.001353</td>\n",
       "      <td>50</td>\n",
       "    </tr>\n",
       "    <tr>\n",
       "      <th>319</th>\n",
       "      <td>0.002068</td>\n",
       "      <td>0.001733</td>\n",
       "      <td>0.002199</td>\n",
       "      <td>0.00194</td>\n",
       "      <td>0.001017</td>\n",
       "      <td>0.001509</td>\n",
       "      <td>0.000903</td>\n",
       "      <td>0.001544</td>\n",
       "      <td>0.001306</td>\n",
       "      <td>0.000952</td>\n",
       "      <td>...</td>\n",
       "      <td>0.001306</td>\n",
       "      <td>0.001297</td>\n",
       "      <td>0.001414</td>\n",
       "      <td>0.001156</td>\n",
       "      <td>0.000934</td>\n",
       "      <td>0.001457</td>\n",
       "      <td>0.001138</td>\n",
       "      <td>0.001157</td>\n",
       "      <td>0.001353</td>\n",
       "      <td>50</td>\n",
       "    </tr>\n",
       "    <tr>\n",
       "      <th>320</th>\n",
       "      <td>0.002068</td>\n",
       "      <td>0.001311</td>\n",
       "      <td>0.002199</td>\n",
       "      <td>0.00194</td>\n",
       "      <td>0.001017</td>\n",
       "      <td>0.001509</td>\n",
       "      <td>0.000903</td>\n",
       "      <td>0.001544</td>\n",
       "      <td>0.001306</td>\n",
       "      <td>0.000952</td>\n",
       "      <td>...</td>\n",
       "      <td>0.001306</td>\n",
       "      <td>0.001168</td>\n",
       "      <td>0.001414</td>\n",
       "      <td>0.001156</td>\n",
       "      <td>0.000934</td>\n",
       "      <td>0.001457</td>\n",
       "      <td>0.001138</td>\n",
       "      <td>0.001157</td>\n",
       "      <td>0.001353</td>\n",
       "      <td>50</td>\n",
       "    </tr>\n",
       "  </tbody>\n",
       "</table>\n",
       "<p>5 rows × 31 columns</p>\n",
       "</div>"
      ],
      "text/plain": [
       "                   0         1         2        3         4         5  \\\n",
       "generation                                                              \n",
       "316         0.002068  0.002121  0.002746  0.00194  0.001017  0.003930   \n",
       "317         0.002068  0.001733  0.002746  0.00194  0.001017  0.001561   \n",
       "318         0.002068  0.001733  0.002746  0.00194  0.001017  0.001561   \n",
       "319         0.002068  0.001733  0.002199  0.00194  0.001017  0.001509   \n",
       "320         0.002068  0.001311  0.002199  0.00194  0.001017  0.001509   \n",
       "\n",
       "                   6         7         8         9 ...         21        22  \\\n",
       "generation                                         ...                        \n",
       "316         0.000903  0.001544  0.002300  0.001500 ...   0.001330  0.001297   \n",
       "317         0.000903  0.001544  0.001306  0.001500 ...   0.001306  0.001297   \n",
       "318         0.000903  0.001544  0.001306  0.001500 ...   0.001306  0.001297   \n",
       "319         0.000903  0.001544  0.001306  0.000952 ...   0.001306  0.001297   \n",
       "320         0.000903  0.001544  0.001306  0.000952 ...   0.001306  0.001168   \n",
       "\n",
       "                  23        24        25        26        27        28  \\\n",
       "generation                                                               \n",
       "316         0.001690  0.001203  0.001820  0.002490  0.001498  0.001157   \n",
       "317         0.001414  0.001203  0.000934  0.002490  0.001237  0.001157   \n",
       "318         0.001414  0.001156  0.000934  0.002490  0.001138  0.001157   \n",
       "319         0.001414  0.001156  0.000934  0.001457  0.001138  0.001157   \n",
       "320         0.001414  0.001156  0.000934  0.001457  0.001138  0.001157   \n",
       "\n",
       "                  29  run  \n",
       "generation                 \n",
       "316         0.002070   50  \n",
       "317         0.002070   50  \n",
       "318         0.001353   50  \n",
       "319         0.001353   50  \n",
       "320         0.001353   50  \n",
       "\n",
       "[5 rows x 31 columns]"
      ]
     },
     "execution_count": 8,
     "metadata": {},
     "output_type": "execute_result"
    }
   ],
   "source": [
    "errorHist.tail()"
   ]
  },
  {
   "cell_type": "code",
   "execution_count": 9,
   "metadata": {
    "papermill": {
     "duration": 0.772105,
     "end_time": "2019-07-26T12:19:56.349864",
     "exception": false,
     "start_time": "2019-07-26T12:19:55.577759",
     "status": "completed"
    },
    "tags": []
   },
   "outputs": [
    {
     "name": "stdout",
     "output_type": "stream",
     "text": [
      "Best error for run 0: 0.0013118882224603112"
     ]
    },
    {
     "name": "stdout",
     "output_type": "stream",
     "text": [
      "\n"
     ]
    },
    {
     "name": "stdout",
     "output_type": "stream",
     "text": [
      "Best error for run 1: 0.0023435716839514953"
     ]
    },
    {
     "name": "stdout",
     "output_type": "stream",
     "text": [
      "\n"
     ]
    },
    {
     "name": "stdout",
     "output_type": "stream",
     "text": [
      "Best error for run 2: 0.0002674639296742498"
     ]
    },
    {
     "name": "stdout",
     "output_type": "stream",
     "text": [
      "\n"
     ]
    },
    {
     "name": "stdout",
     "output_type": "stream",
     "text": [
      "Best error for run 3: 0.0007653219827545854"
     ]
    },
    {
     "name": "stdout",
     "output_type": "stream",
     "text": [
      "\n"
     ]
    },
    {
     "name": "stdout",
     "output_type": "stream",
     "text": [
      "Best error for run 4: 8.522009741795955e-05"
     ]
    },
    {
     "name": "stdout",
     "output_type": "stream",
     "text": [
      "\n"
     ]
    },
    {
     "name": "stdout",
     "output_type": "stream",
     "text": [
      "Best error for run 5: 0.0001564188592624305"
     ]
    },
    {
     "name": "stdout",
     "output_type": "stream",
     "text": [
      "\n"
     ]
    },
    {
     "name": "stdout",
     "output_type": "stream",
     "text": [
      "Best error for run 6: 0.01346472122318687"
     ]
    },
    {
     "name": "stdout",
     "output_type": "stream",
     "text": [
      "\n"
     ]
    },
    {
     "name": "stdout",
     "output_type": "stream",
     "text": [
      "Best error for run 7: 0.0002877827377005815"
     ]
    },
    {
     "name": "stdout",
     "output_type": "stream",
     "text": [
      "\n"
     ]
    },
    {
     "name": "stdout",
     "output_type": "stream",
     "text": [
      "Best error for run 8: 0.0002404724948803505"
     ]
    },
    {
     "name": "stdout",
     "output_type": "stream",
     "text": [
      "\n"
     ]
    },
    {
     "name": "stdout",
     "output_type": "stream",
     "text": [
      "Best error for run 9: 6.504286648123525e-05"
     ]
    },
    {
     "name": "stdout",
     "output_type": "stream",
     "text": [
      "\n"
     ]
    },
    {
     "name": "stdout",
     "output_type": "stream",
     "text": [
      "Best error for run 10: 1.2359111337900686e-05"
     ]
    },
    {
     "name": "stdout",
     "output_type": "stream",
     "text": [
      "\n"
     ]
    },
    {
     "name": "stdout",
     "output_type": "stream",
     "text": [
      "Best error for run 11: 0.00014161452378402828"
     ]
    },
    {
     "name": "stdout",
     "output_type": "stream",
     "text": [
      "\n"
     ]
    },
    {
     "name": "stdout",
     "output_type": "stream",
     "text": [
      "Best error for run 12: 0.001853996252862089"
     ]
    },
    {
     "name": "stdout",
     "output_type": "stream",
     "text": [
      "\n"
     ]
    },
    {
     "name": "stdout",
     "output_type": "stream",
     "text": [
      "Best error for run 13: 0.013990051905494738"
     ]
    },
    {
     "name": "stdout",
     "output_type": "stream",
     "text": [
      "\n"
     ]
    },
    {
     "name": "stdout",
     "output_type": "stream",
     "text": [
      "Best error for run 14: 0.0007998320684521332"
     ]
    },
    {
     "name": "stdout",
     "output_type": "stream",
     "text": [
      "\n"
     ]
    },
    {
     "name": "stdout",
     "output_type": "stream",
     "text": [
      "Best error for run 15: 0.0003407491237510385"
     ]
    },
    {
     "name": "stdout",
     "output_type": "stream",
     "text": [
      "\n"
     ]
    },
    {
     "name": "stdout",
     "output_type": "stream",
     "text": [
      "Best error for run 16: 0.0031779273311940415"
     ]
    },
    {
     "name": "stdout",
     "output_type": "stream",
     "text": [
      "\n"
     ]
    },
    {
     "name": "stdout",
     "output_type": "stream",
     "text": [
      "Best error for run 17: 0.0005812732466665693"
     ]
    },
    {
     "name": "stdout",
     "output_type": "stream",
     "text": [
      "\n"
     ]
    },
    {
     "name": "stdout",
     "output_type": "stream",
     "text": [
      "Best error for run 18: 0.0005655703708953297"
     ]
    },
    {
     "name": "stdout",
     "output_type": "stream",
     "text": [
      "\n"
     ]
    },
    {
     "name": "stdout",
     "output_type": "stream",
     "text": [
      "Best error for run 19: 0.018649237223939963"
     ]
    },
    {
     "name": "stdout",
     "output_type": "stream",
     "text": [
      "\n"
     ]
    },
    {
     "name": "stdout",
     "output_type": "stream",
     "text": [
      "Best error for run 20: 0.008199377994287715"
     ]
    },
    {
     "name": "stdout",
     "output_type": "stream",
     "text": [
      "\n"
     ]
    },
    {
     "name": "stdout",
     "output_type": "stream",
     "text": [
      "Best error for run 21: 0.004867986515336042"
     ]
    },
    {
     "name": "stdout",
     "output_type": "stream",
     "text": [
      "\n"
     ]
    },
    {
     "name": "stdout",
     "output_type": "stream",
     "text": [
      "Best error for run 22: 0.00018971057994576768"
     ]
    },
    {
     "name": "stdout",
     "output_type": "stream",
     "text": [
      "\n"
     ]
    },
    {
     "name": "stdout",
     "output_type": "stream",
     "text": [
      "Best error for run 23: 0.008092730357333267"
     ]
    },
    {
     "name": "stdout",
     "output_type": "stream",
     "text": [
      "\n"
     ]
    },
    {
     "name": "stdout",
     "output_type": "stream",
     "text": [
      "Best error for run 24: 0.002145886192067792"
     ]
    },
    {
     "name": "stdout",
     "output_type": "stream",
     "text": [
      "\n"
     ]
    },
    {
     "name": "stdout",
     "output_type": "stream",
     "text": [
      "Best error for run 25: 0.0005005763807162111"
     ]
    },
    {
     "name": "stdout",
     "output_type": "stream",
     "text": [
      "\n"
     ]
    },
    {
     "name": "stdout",
     "output_type": "stream",
     "text": [
      "Best error for run 26: 0.0001379261582599156"
     ]
    },
    {
     "name": "stdout",
     "output_type": "stream",
     "text": [
      "\n"
     ]
    },
    {
     "name": "stdout",
     "output_type": "stream",
     "text": [
      "Best error for run 27: 0.007814787746355023"
     ]
    },
    {
     "name": "stdout",
     "output_type": "stream",
     "text": [
      "\n"
     ]
    },
    {
     "name": "stdout",
     "output_type": "stream",
     "text": [
      "Best error for run 28: 0.0007118679730808708"
     ]
    },
    {
     "name": "stdout",
     "output_type": "stream",
     "text": [
      "\n"
     ]
    },
    {
     "name": "stdout",
     "output_type": "stream",
     "text": [
      "Best error for run 29: 0.0017197717378394373"
     ]
    },
    {
     "name": "stdout",
     "output_type": "stream",
     "text": [
      "\n"
     ]
    },
    {
     "name": "stdout",
     "output_type": "stream",
     "text": [
      "Best error for run 30: 5.520166752148725e-06"
     ]
    },
    {
     "name": "stdout",
     "output_type": "stream",
     "text": [
      "\n"
     ]
    },
    {
     "name": "stdout",
     "output_type": "stream",
     "text": [
      "Best error for run 31: 0.0001531336463358457"
     ]
    },
    {
     "name": "stdout",
     "output_type": "stream",
     "text": [
      "\n"
     ]
    },
    {
     "name": "stdout",
     "output_type": "stream",
     "text": [
      "Best error for run 32: 0.000843218503831622"
     ]
    },
    {
     "name": "stdout",
     "output_type": "stream",
     "text": [
      "\n"
     ]
    },
    {
     "name": "stdout",
     "output_type": "stream",
     "text": [
      "Best error for run 33: 0.0026860265916752724"
     ]
    },
    {
     "name": "stdout",
     "output_type": "stream",
     "text": [
      "\n"
     ]
    },
    {
     "name": "stdout",
     "output_type": "stream",
     "text": [
      "Best error for run 34: 0.0023360115795867387"
     ]
    },
    {
     "name": "stdout",
     "output_type": "stream",
     "text": [
      "\n"
     ]
    },
    {
     "name": "stdout",
     "output_type": "stream",
     "text": [
      "Best error for run 35: 3.303956896161253e-05"
     ]
    },
    {
     "name": "stdout",
     "output_type": "stream",
     "text": [
      "\n"
     ]
    },
    {
     "name": "stdout",
     "output_type": "stream",
     "text": [
      "Best error for run 36: 0.014890608798708627"
     ]
    },
    {
     "name": "stdout",
     "output_type": "stream",
     "text": [
      "\n"
     ]
    },
    {
     "name": "stdout",
     "output_type": "stream",
     "text": [
      "Best error for run 37: 0.0011318935287931708"
     ]
    },
    {
     "name": "stdout",
     "output_type": "stream",
     "text": [
      "\n"
     ]
    },
    {
     "name": "stdout",
     "output_type": "stream",
     "text": [
      "Best error for run 38: 3.6461918426766715e-05"
     ]
    },
    {
     "name": "stdout",
     "output_type": "stream",
     "text": [
      "\n"
     ]
    },
    {
     "name": "stdout",
     "output_type": "stream",
     "text": [
      "Best error for run 39: 6.0265207252996333e-05"
     ]
    },
    {
     "name": "stdout",
     "output_type": "stream",
     "text": [
      "\n"
     ]
    },
    {
     "name": "stdout",
     "output_type": "stream",
     "text": [
      "Best error for run 40: 0.02149165024812305"
     ]
    },
    {
     "name": "stdout",
     "output_type": "stream",
     "text": [
      "\n"
     ]
    },
    {
     "name": "stdout",
     "output_type": "stream",
     "text": [
      "Best error for run 41: 0.003945279206163832"
     ]
    },
    {
     "name": "stdout",
     "output_type": "stream",
     "text": [
      "\n"
     ]
    },
    {
     "name": "stdout",
     "output_type": "stream",
     "text": [
      "Best error for run 42: 0.00011911551973753376"
     ]
    },
    {
     "name": "stdout",
     "output_type": "stream",
     "text": [
      "\n"
     ]
    },
    {
     "name": "stdout",
     "output_type": "stream",
     "text": [
      "Best error for run 43: 0.002415293443164046"
     ]
    },
    {
     "name": "stdout",
     "output_type": "stream",
     "text": [
      "\n"
     ]
    },
    {
     "name": "stdout",
     "output_type": "stream",
     "text": [
      "Best error for run 44: 1.8074736885864695e-05"
     ]
    },
    {
     "name": "stdout",
     "output_type": "stream",
     "text": [
      "\n"
     ]
    },
    {
     "name": "stdout",
     "output_type": "stream",
     "text": [
      "Best error for run 45: 3.42886045814339e-05"
     ]
    },
    {
     "name": "stdout",
     "output_type": "stream",
     "text": [
      "\n"
     ]
    },
    {
     "name": "stdout",
     "output_type": "stream",
     "text": [
      "Best error for run 46: 0.00010909345974141615"
     ]
    },
    {
     "name": "stdout",
     "output_type": "stream",
     "text": [
      "\n"
     ]
    },
    {
     "name": "stdout",
     "output_type": "stream",
     "text": [
      "Best error for run 47: 1.691451689112e-05"
     ]
    },
    {
     "name": "stdout",
     "output_type": "stream",
     "text": [
      "\n"
     ]
    },
    {
     "name": "stdout",
     "output_type": "stream",
     "text": [
      "Best error for run 48: 0.00186062277046517"
     ]
    },
    {
     "name": "stdout",
     "output_type": "stream",
     "text": [
      "\n"
     ]
    },
    {
     "name": "stdout",
     "output_type": "stream",
     "text": [
      "Best error for run 49: 0.00011059384709710685"
     ]
    },
    {
     "name": "stdout",
     "output_type": "stream",
     "text": [
      "\n"
     ]
    },
    {
     "name": "stdout",
     "output_type": "stream",
     "text": [
      "Best error for run 50: 0.0008913706498390184"
     ]
    },
    {
     "name": "stdout",
     "output_type": "stream",
     "text": [
      "\n"
     ]
    }
   ],
   "source": [
    "arr_error = list()\n",
    "arr_best_error = list()\n",
    "for run in hist['run'].unique():\n",
    "    df_run = hist[hist['run'] == run].drop(['run'], axis=1) \n",
    "    bestError = df_run.iloc[-1,:].min()    \n",
    "    arr_best_error.append(bestError)    \n",
    "    print ('Best error for run {}: {}'.format(run, bestError))\n",
    "    arr_error.append(np.array(df_run.min(axis=1)))        \n",
    "arr_error = np.array(arr_error)\n",
    "\n"
   ]
  },
  {
   "cell_type": "code",
   "execution_count": 10,
   "metadata": {
    "papermill": {
     "duration": 0.548533,
     "end_time": "2019-07-26T12:19:57.473164",
     "exception": false,
     "start_time": "2019-07-26T12:19:56.924631",
     "status": "completed"
    },
    "tags": []
   },
   "outputs": [
    {
     "name": "stdout",
     "output_type": "stream",
     "text": [
      "Saving df_sumup to "
     ]
    },
    {
     "name": "stdout",
     "output_type": "stream",
     "text": [
      " "
     ]
    },
    {
     "name": "stdout",
     "output_type": "stream",
     "text": [
      "./results/DE/best/1/bin/[2_10_51_30_0.1_0.5_False_None]df_sumup.tsv"
     ]
    },
    {
     "name": "stdout",
     "output_type": "stream",
     "text": [
      "\n"
     ]
    },
    {
     "data": {
      "text/html": [
       "<div>\n",
       "<style scoped>\n",
       "    .dataframe tbody tr th:only-of-type {\n",
       "        vertical-align: middle;\n",
       "    }\n",
       "\n",
       "    .dataframe tbody tr th {\n",
       "        vertical-align: top;\n",
       "    }\n",
       "\n",
       "    .dataframe thead th {\n",
       "        text-align: right;\n",
       "    }\n",
       "</style>\n",
       "<table border=\"1\" class=\"dataframe\">\n",
       "  <thead>\n",
       "    <tr style=\"text-align: right;\">\n",
       "      <th></th>\n",
       "      <th>algorithm</th>\n",
       "      <th>#Fc</th>\n",
       "      <th>D</th>\n",
       "      <th>percFES</th>\n",
       "      <th>run_1</th>\n",
       "      <th>run_2</th>\n",
       "      <th>run_3</th>\n",
       "      <th>run_4</th>\n",
       "      <th>run_5</th>\n",
       "      <th>run_6</th>\n",
       "      <th>...</th>\n",
       "      <th>run_45</th>\n",
       "      <th>run_46</th>\n",
       "      <th>run_47</th>\n",
       "      <th>run_48</th>\n",
       "      <th>run_49</th>\n",
       "      <th>run_50</th>\n",
       "      <th>run_51</th>\n",
       "      <th>mean</th>\n",
       "      <th>elapsed_time</th>\n",
       "      <th>evals</th>\n",
       "    </tr>\n",
       "  </thead>\n",
       "  <tbody>\n",
       "    <tr>\n",
       "      <th>0</th>\n",
       "      <td>DE/best/1/bin</td>\n",
       "      <td>2</td>\n",
       "      <td>10</td>\n",
       "      <td>0.1</td>\n",
       "      <td>0.001312</td>\n",
       "      <td>0.002344</td>\n",
       "      <td>0.000267</td>\n",
       "      <td>0.000765</td>\n",
       "      <td>0.000085</td>\n",
       "      <td>0.000156</td>\n",
       "      <td>...</td>\n",
       "      <td>0.000018</td>\n",
       "      <td>0.000034</td>\n",
       "      <td>0.000109</td>\n",
       "      <td>0.000017</td>\n",
       "      <td>0.001861</td>\n",
       "      <td>0.000111</td>\n",
       "      <td>0.000891</td>\n",
       "      <td>0.002876</td>\n",
       "      <td>0:31:06</td>\n",
       "      <td>9690</td>\n",
       "    </tr>\n",
       "  </tbody>\n",
       "</table>\n",
       "<p>1 rows × 58 columns</p>\n",
       "</div>"
      ],
      "text/plain": [
       "       algorithm #Fc   D  percFES     run_1     run_2     run_3     run_4  \\\n",
       "0  DE/best/1/bin   2  10      0.1  0.001312  0.002344  0.000267  0.000765   \n",
       "\n",
       "      run_5     run_6  ...      run_45    run_46    run_47    run_48  \\\n",
       "0  0.000085  0.000156  ...    0.000018  0.000034  0.000109  0.000017   \n",
       "\n",
       "     run_49    run_50    run_51      mean  elapsed_time  evals  \n",
       "0  0.001861  0.000111  0.000891  0.002876       0:31:06   9690  \n",
       "\n",
       "[1 rows x 58 columns]"
      ]
     },
     "execution_count": 10,
     "metadata": {},
     "output_type": "execute_result"
    }
   ],
   "source": [
    "df_sumup = pd.DataFrame(columns=['algorithm', '#Fc', 'D', 'percFES'] + ['run_' + str(i) for i in np.arange(1,numRuns+1,1)] + ['mean', 'elapsed_time', 'evals'])\n",
    "df_sumup.loc[df_sumup.shape[0]] = [str(alg), funcId, dim, percMaxEvals] + arr_best_error + [np.mean(arr_best_error), progbar.get_elapsed_time(), alg.fitnessEvals]\n",
    "print ('Saving df_sumup to ', output_filepath + 'df_sumup.tsv')\n",
    "df_sumup.to_csv(output_filepath + 'df_sumup.tsv', sep='\\t')\n",
    "df_sumup"
   ]
  },
  {
   "cell_type": "code",
   "execution_count": 11,
   "metadata": {
    "papermill": {
     "duration": 0.465141,
     "end_time": "2019-07-26T12:19:58.534920",
     "exception": false,
     "start_time": "2019-07-26T12:19:58.069779",
     "status": "completed"
    },
    "tags": []
   },
   "outputs": [],
   "source": [
    "# fig, ax = plt.subplots(nrows=1, ncols=1, figsize=(10,10))\n",
    "# label = 'Success Rate: {}%\\nMin Error Fitness: {}'.format(100*(successRate/float(numRuns)), arr_error.min())\n",
    "# # label = ''\n",
    "# ax.errorbar(np.arange(alg.generations), arr_error.mean(axis=0), yerr=arr_error.std(axis=0), label=label)\n",
    "# ax2 = ax.twinx()\n",
    "# ax2.plot(np.arange(alg.generations), 20*np.log(arr_error.mean(axis=0)), label='Mean Min Error (dB)', color='red')\n",
    "# ax2.set_ylabel('Mean Minimum Error (dB)')\n",
    "\n",
    "# ax.grid(True)\n",
    "# ax.set_ylabel('Mean Minimum Error')\n",
    "# ax.legend()\n",
    "# ax.set_xlabel('Generation')\n",
    "# ax.set_title('Error Fitness Function {} (Solution = {})'.format(funcId, solution))\n",
    "# plt.savefig(output_filepath + 'mean_error_evolution.jpeg', bbox_inches = 'tight')"
   ]
  }
 ],
 "metadata": {
  "kernelspec": {
   "display_name": "Python 3",
   "language": "python",
   "name": "python3"
  },
  "language_info": {
   "codemirror_mode": {
    "name": "ipython",
    "version": 3
   },
   "file_extension": ".py",
   "mimetype": "text/x-python",
   "name": "python",
   "nbconvert_exporter": "python",
   "pygments_lexer": "ipython3",
   "version": "3.6.4"
  },
  "papermill": {
   "duration": 1881.158596,
   "end_time": "2019-07-26T12:20:00.335890",
   "environment_variables": {},
   "exception": null,
   "input_path": "./Notebooks/run_de.ipynb",
   "output_path": "./Notebooks/Output_Notebooks\\[de_best_1_bin_2_10_51_30_0.1_0.5_False_None].ipynb",
   "parameters": {
    "active": true,
    "algorithm": "de",
    "crossover": "bin",
    "dim": 10,
    "fitness_clusters": null,
    "funcId": 2,
    "input_data_filepath": "./input_data",
    "lambda_mutation": 0.5,
    "mutation": "best",
    "n_diff": 1,
    "numRuns": 51,
    "opposition": false,
    "percMaxEvals": 0.1,
    "pop_size": 30
   },
   "start_time": "2019-07-26T11:48:39.177294",
   "version": "1.0.1"
  }
 },
 "nbformat": 4,
 "nbformat_minor": 2
}