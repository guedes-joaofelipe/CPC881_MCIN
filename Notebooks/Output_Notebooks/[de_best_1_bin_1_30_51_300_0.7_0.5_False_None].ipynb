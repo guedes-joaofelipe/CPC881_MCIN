{
 "cells": [
  {
   "cell_type": "code",
   "execution_count": 1,
   "metadata": {
    "papermill": {
     "duration": 4.206754,
     "end_time": "2019-07-24T02:31:43.343239",
     "exception": false,
     "start_time": "2019-07-24T02:31:39.136485",
     "status": "completed"
    },
    "tags": []
   },
   "outputs": [],
   "source": [
    "import numpy as np\n",
    "import pandas as pd\n",
    "import sys, os, time\n",
    "main_folder = './../'\n",
    "if main_folder not in sys.path:\n",
    "    sys.path.append(main_folder)\n",
    "from evolution import DifferentialEvolution\n",
    "from glob       import glob\n",
    "from tqdm       import tqdm\n",
    "\n",
    "import dirs\n",
    "from utils      import get_solution, ProgressBar, write_log\n",
    "import matplotlib.pyplot as plt \n",
    "\n",
    "progbar = ProgressBar(elapsed_time=True)"
   ]
  },
  {
   "cell_type": "markdown",
   "metadata": {
    "papermill": {
     "duration": 0.022939,
     "end_time": "2019-07-24T02:31:43.390114",
     "exception": false,
     "start_time": "2019-07-24T02:31:43.367175",
     "status": "completed"
    },
    "tags": []
   },
   "source": [
    "### Parameters"
   ]
  },
  {
   "cell_type": "code",
   "execution_count": 2,
   "metadata": {
    "papermill": {
     "duration": 0.051861,
     "end_time": "2019-07-24T02:31:43.463916",
     "exception": false,
     "start_time": "2019-07-24T02:31:43.412055",
     "status": "completed"
    },
    "tags": [
     "parameters"
    ]
   },
   "outputs": [],
   "source": [
    "# Competition Parameters\n",
    "funcId      = 1\n",
    "dim         = 10\n",
    "numRuns     = 2\n",
    "targetError = 1e-8\n",
    "\n",
    "# Algorithm Parameters\n",
    "pop_size = 300\n",
    "percMaxEvals = 1\n",
    "maxEvals = 'auto'\n",
    "maxGenerations = None\n",
    "fitness_clusters = None\n",
    "crossover = 'binonial'\n",
    "mutation = 'best'\n",
    "n_diff = 1\n",
    "lambda_mutation = .5\n",
    "opposition = False\n",
    "input_data_filepath = './../input_data'\n",
    "active = False"
   ]
  },
  {
   "cell_type": "code",
   "execution_count": 3,
   "metadata": {
    "papermill": {
     "duration": 0.049867,
     "end_time": "2019-07-24T02:31:43.535725",
     "exception": false,
     "start_time": "2019-07-24T02:31:43.485858",
     "status": "completed"
    },
    "tags": [
     "injected-parameters"
    ]
   },
   "outputs": [],
   "source": [
    "# Parameters\n",
    "algorithm = \"de\"\n",
    "mutation = \"best\"\n",
    "n_diff = 1\n",
    "crossover = \"bin\"\n",
    "funcId = 1\n",
    "dim = 30\n",
    "numRuns = 51\n",
    "pop_size = 300\n",
    "percMaxEvals = 0.7\n",
    "lambda_mutation = 0.5\n",
    "opposition = False\n",
    "fitness_clusters = None\n",
    "input_data_filepath = \"./input_data\"\n",
    "active = True\n"
   ]
  },
  {
   "cell_type": "code",
   "execution_count": 4,
   "metadata": {
    "papermill": {
     "duration": 0.041888,
     "end_time": "2019-07-24T02:31:43.598557",
     "exception": false,
     "start_time": "2019-07-24T02:31:43.556669",
     "status": "completed"
    },
    "tags": []
   },
   "outputs": [
    {
     "data": {
      "text/plain": [
       "'[1_30_51_300_0.7_0.5_False_None]'"
      ]
     },
     "execution_count": 4,
     "metadata": {},
     "output_type": "execute_result"
    }
   ],
   "source": [
    "maxEvals = maxEvals if percMaxEvals is None else percMaxEvals*10000*dim\n",
    "run_tag = '[' + '_'.join([str(funcId), \n",
    "                          str(dim), \n",
    "                          str(numRuns),\n",
    "                          str(pop_size), \n",
    "                          str(percMaxEvals),                                                     \n",
    "                          '{}'.format(lambda_mutation), \n",
    "                          str(opposition),\n",
    "                          str(fitness_clusters)\n",
    "                         ])  + ']'\n",
    "run_tag"
   ]
  },
  {
   "cell_type": "code",
   "execution_count": 5,
   "metadata": {
    "papermill": {
     "duration": 0.140624,
     "end_time": "2019-07-24T02:31:43.763117",
     "exception": false,
     "start_time": "2019-07-24T02:31:43.622493",
     "status": "completed"
    },
    "tags": []
   },
   "outputs": [
    {
     "name": "stdout",
     "output_type": "stream",
     "text": [
      "Writing log at "
     ]
    },
    {
     "name": "stdout",
     "output_type": "stream",
     "text": [
      " "
     ]
    },
    {
     "name": "stdout",
     "output_type": "stream",
     "text": [
      "./results/DE/best/1/bin/[1_30_51_300_0.7_0.5_False_None]log.tsv"
     ]
    },
    {
     "name": "stdout",
     "output_type": "stream",
     "text": [
      "\n"
     ]
    }
   ],
   "source": [
    "alg = DifferentialEvolution(dim=dim, func_id=funcId, pop_size=pop_size, crossover=crossover, \n",
    "        opposition=opposition, mutation=mutation, lambda_mutation=.5, fitness_clusters=fitness_clusters)\n",
    "\n",
    "output_filepath = os.path.join(dirs.results, str(alg))\n",
    "if not os.path.exists(output_filepath):\n",
    "    os.makedirs(output_filepath)\n",
    "output_filepath = output_filepath + '/' + run_tag\n",
    "\n",
    "print ('Writing log at ', output_filepath + 'log.tsv')\n",
    "write_log(filepath=output_filepath + 'log.tsv', \n",
    "          mode=\"w+\", \n",
    "          text='[{}]\\trun\\telapsedTime\\tsuccessRate\\n'.format(time.strftime(\"%Y-%m-%d %H:%M:%S\", time.gmtime())))  "
   ]
  },
  {
   "cell_type": "code",
   "execution_count": 6,
   "metadata": {
    "papermill": {
     "duration": 37045.362805,
     "end_time": "2019-07-24T12:49:09.180775",
     "exception": false,
     "start_time": "2019-07-24T02:31:43.817970",
     "status": "completed"
    },
    "tags": []
   },
   "outputs": [
    {
     "name": "stdout",
     "output_type": "stream",
     "text": [
      "\r",
      "[0:00:00][----------] 0.00% "
     ]
    },
    {
     "name": "stdout",
     "output_type": "stream",
     "text": [
      "Optimization ended due to max fitness evals (max = 210000.0, curr = 209400)"
     ]
    },
    {
     "name": "stdout",
     "output_type": "stream",
     "text": [
      "\n"
     ]
    },
    {
     "name": "stdout",
     "output_type": "stream",
     "text": [
      "\n",
      "#Generations:\t696"
     ]
    },
    {
     "name": "stdout",
     "output_type": "stream",
     "text": [
      "\n"
     ]
    },
    {
     "name": "stdout",
     "output_type": "stream",
     "text": [
      "#FitnessEvals:\t209400"
     ]
    },
    {
     "name": "stdout",
     "output_type": "stream",
     "text": [
      "\n"
     ]
    },
    {
     "name": "stdout",
     "output_type": "stream",
     "text": [
      "Mean Fitness:\t18823095.7473"
     ]
    },
    {
     "name": "stdout",
     "output_type": "stream",
     "text": [
      "\n"
     ]
    },
    {
     "name": "stdout",
     "output_type": "stream",
     "text": [
      "Best Fitness:\t7999126.6075\n",
      "Solution:\t100.0000\n",
      "Diff:\t\t7999026.6075"
     ]
    },
    {
     "name": "stdout",
     "output_type": "stream",
     "text": [
      "\n"
     ]
    },
    {
     "name": "stdout",
     "output_type": "stream",
     "text": [
      "\r",
      "[0:28:13][----------] 1.96% "
     ]
    },
    {
     "name": "stdout",
     "output_type": "stream",
     "text": [
      "Optimization ended due to max fitness evals (max = 210000.0, curr = 209400)"
     ]
    },
    {
     "name": "stdout",
     "output_type": "stream",
     "text": [
      "\n"
     ]
    },
    {
     "name": "stdout",
     "output_type": "stream",
     "text": [
      "\n",
      "#Generations:\t696"
     ]
    },
    {
     "name": "stdout",
     "output_type": "stream",
     "text": [
      "\n"
     ]
    },
    {
     "name": "stdout",
     "output_type": "stream",
     "text": [
      "#FitnessEvals:\t209400"
     ]
    },
    {
     "name": "stdout",
     "output_type": "stream",
     "text": [
      "\n"
     ]
    },
    {
     "name": "stdout",
     "output_type": "stream",
     "text": [
      "Mean Fitness:\t26892065.2423"
     ]
    },
    {
     "name": "stdout",
     "output_type": "stream",
     "text": [
      "\n"
     ]
    },
    {
     "name": "stdout",
     "output_type": "stream",
     "text": [
      "Best Fitness:\t11376656.6895\n",
      "Solution:\t100.0000\n",
      "Diff:\t\t11376556.6895"
     ]
    },
    {
     "name": "stdout",
     "output_type": "stream",
     "text": [
      "\n"
     ]
    },
    {
     "name": "stdout",
     "output_type": "stream",
     "text": [
      "\r",
      "[0:53:24][----------] 3.92% "
     ]
    },
    {
     "name": "stdout",
     "output_type": "stream",
     "text": [
      "Optimization ended due to max fitness evals (max = 210000.0, curr = 209400)"
     ]
    },
    {
     "name": "stdout",
     "output_type": "stream",
     "text": [
      "\n"
     ]
    },
    {
     "name": "stdout",
     "output_type": "stream",
     "text": [
      "\n",
      "#Generations:\t696"
     ]
    },
    {
     "name": "stdout",
     "output_type": "stream",
     "text": [
      "\n"
     ]
    },
    {
     "name": "stdout",
     "output_type": "stream",
     "text": [
      "#FitnessEvals:\t209400"
     ]
    },
    {
     "name": "stdout",
     "output_type": "stream",
     "text": [
      "\n"
     ]
    },
    {
     "name": "stdout",
     "output_type": "stream",
     "text": [
      "Mean Fitness:\t18891329.0923"
     ]
    },
    {
     "name": "stdout",
     "output_type": "stream",
     "text": [
      "\n"
     ]
    },
    {
     "name": "stdout",
     "output_type": "stream",
     "text": [
      "Best Fitness:\t8826784.4122\n",
      "Solution:\t100.0000\n",
      "Diff:\t\t8826684.4122"
     ]
    },
    {
     "name": "stdout",
     "output_type": "stream",
     "text": [
      "\n"
     ]
    },
    {
     "name": "stdout",
     "output_type": "stream",
     "text": [
      "\r",
      "[1:17:43][#---------] 5.88% "
     ]
    },
    {
     "name": "stdout",
     "output_type": "stream",
     "text": [
      "Optimization ended due to max fitness evals (max = 210000.0, curr = 209400)"
     ]
    },
    {
     "name": "stdout",
     "output_type": "stream",
     "text": [
      "\n"
     ]
    },
    {
     "name": "stdout",
     "output_type": "stream",
     "text": [
      "\n",
      "#Generations:\t696"
     ]
    },
    {
     "name": "stdout",
     "output_type": "stream",
     "text": [
      "\n"
     ]
    },
    {
     "name": "stdout",
     "output_type": "stream",
     "text": [
      "#FitnessEvals:\t209400"
     ]
    },
    {
     "name": "stdout",
     "output_type": "stream",
     "text": [
      "\n"
     ]
    },
    {
     "name": "stdout",
     "output_type": "stream",
     "text": [
      "Mean Fitness:\t12702349.1796"
     ]
    },
    {
     "name": "stdout",
     "output_type": "stream",
     "text": [
      "\n"
     ]
    },
    {
     "name": "stdout",
     "output_type": "stream",
     "text": [
      "Best Fitness:\t5050685.7393\n",
      "Solution:\t100.0000\n",
      "Diff:\t\t5050585.7393"
     ]
    },
    {
     "name": "stdout",
     "output_type": "stream",
     "text": [
      "\n"
     ]
    },
    {
     "name": "stdout",
     "output_type": "stream",
     "text": [
      "\r",
      "[1:41:50][#---------] 7.84% "
     ]
    },
    {
     "name": "stdout",
     "output_type": "stream",
     "text": [
      "Optimization ended due to max fitness evals (max = 210000.0, curr = 209400)"
     ]
    },
    {
     "name": "stdout",
     "output_type": "stream",
     "text": [
      "\n"
     ]
    },
    {
     "name": "stdout",
     "output_type": "stream",
     "text": [
      "\n",
      "#Generations:\t696"
     ]
    },
    {
     "name": "stdout",
     "output_type": "stream",
     "text": [
      "\n"
     ]
    },
    {
     "name": "stdout",
     "output_type": "stream",
     "text": [
      "#FitnessEvals:\t209400"
     ]
    },
    {
     "name": "stdout",
     "output_type": "stream",
     "text": [
      "\n"
     ]
    },
    {
     "name": "stdout",
     "output_type": "stream",
     "text": [
      "Mean Fitness:\t28422761.2536"
     ]
    },
    {
     "name": "stdout",
     "output_type": "stream",
     "text": [
      "\n"
     ]
    },
    {
     "name": "stdout",
     "output_type": "stream",
     "text": [
      "Best Fitness:\t12381501.5195\n",
      "Solution:\t100.0000\n",
      "Diff:\t\t12381401.5195"
     ]
    },
    {
     "name": "stdout",
     "output_type": "stream",
     "text": [
      "\n"
     ]
    },
    {
     "name": "stdout",
     "output_type": "stream",
     "text": [
      "\r",
      "[2:04:40][#---------] 9.80% "
     ]
    },
    {
     "name": "stdout",
     "output_type": "stream",
     "text": [
      "Optimization ended due to max fitness evals (max = 210000.0, curr = 209400)"
     ]
    },
    {
     "name": "stdout",
     "output_type": "stream",
     "text": [
      "\n"
     ]
    },
    {
     "name": "stdout",
     "output_type": "stream",
     "text": [
      "\n",
      "#Generations:\t696"
     ]
    },
    {
     "name": "stdout",
     "output_type": "stream",
     "text": [
      "\n"
     ]
    },
    {
     "name": "stdout",
     "output_type": "stream",
     "text": [
      "#FitnessEvals:\t209400"
     ]
    },
    {
     "name": "stdout",
     "output_type": "stream",
     "text": [
      "\n"
     ]
    },
    {
     "name": "stdout",
     "output_type": "stream",
     "text": [
      "Mean Fitness:\t12886458.6309"
     ]
    },
    {
     "name": "stdout",
     "output_type": "stream",
     "text": [
      "\n"
     ]
    },
    {
     "name": "stdout",
     "output_type": "stream",
     "text": [
      "Best Fitness:\t4354724.8373\n",
      "Solution:\t100.0000\n",
      "Diff:\t\t4354624.8373"
     ]
    },
    {
     "name": "stdout",
     "output_type": "stream",
     "text": [
      "\n"
     ]
    },
    {
     "name": "stdout",
     "output_type": "stream",
     "text": [
      "\r",
      "[2:27:21][#---------] 11.76% "
     ]
    },
    {
     "name": "stdout",
     "output_type": "stream",
     "text": [
      "Optimization ended due to max fitness evals (max = 210000.0, curr = 209400)"
     ]
    },
    {
     "name": "stdout",
     "output_type": "stream",
     "text": [
      "\n"
     ]
    },
    {
     "name": "stdout",
     "output_type": "stream",
     "text": [
      "\n",
      "#Generations:\t696"
     ]
    },
    {
     "name": "stdout",
     "output_type": "stream",
     "text": [
      "\n"
     ]
    },
    {
     "name": "stdout",
     "output_type": "stream",
     "text": [
      "#FitnessEvals:\t209400"
     ]
    },
    {
     "name": "stdout",
     "output_type": "stream",
     "text": [
      "\n"
     ]
    },
    {
     "name": "stdout",
     "output_type": "stream",
     "text": [
      "Mean Fitness:\t13053593.8395"
     ]
    },
    {
     "name": "stdout",
     "output_type": "stream",
     "text": [
      "\n"
     ]
    },
    {
     "name": "stdout",
     "output_type": "stream",
     "text": [
      "Best Fitness:\t4163232.1273\n",
      "Solution:\t100.0000\n",
      "Diff:\t\t4163132.1273"
     ]
    },
    {
     "name": "stdout",
     "output_type": "stream",
     "text": [
      "\n"
     ]
    },
    {
     "name": "stdout",
     "output_type": "stream",
     "text": [
      "\r",
      "[2:47:46][#---------] 13.73% "
     ]
    },
    {
     "name": "stdout",
     "output_type": "stream",
     "text": [
      "Optimization ended due to max fitness evals (max = 210000.0, curr = 209400)"
     ]
    },
    {
     "name": "stdout",
     "output_type": "stream",
     "text": [
      "\n"
     ]
    },
    {
     "name": "stdout",
     "output_type": "stream",
     "text": [
      "\n",
      "#Generations:\t696"
     ]
    },
    {
     "name": "stdout",
     "output_type": "stream",
     "text": [
      "\n"
     ]
    },
    {
     "name": "stdout",
     "output_type": "stream",
     "text": [
      "#FitnessEvals:\t209400"
     ]
    },
    {
     "name": "stdout",
     "output_type": "stream",
     "text": [
      "\n"
     ]
    },
    {
     "name": "stdout",
     "output_type": "stream",
     "text": [
      "Mean Fitness:\t14051161.1226"
     ]
    },
    {
     "name": "stdout",
     "output_type": "stream",
     "text": [
      "\n"
     ]
    },
    {
     "name": "stdout",
     "output_type": "stream",
     "text": [
      "Best Fitness:\t7373548.0987\n",
      "Solution:\t100.0000\n",
      "Diff:\t\t7373448.0987"
     ]
    },
    {
     "name": "stdout",
     "output_type": "stream",
     "text": [
      "\n"
     ]
    },
    {
     "name": "stdout",
     "output_type": "stream",
     "text": [
      "\r",
      "[3:07:43][##--------] 15.69% "
     ]
    },
    {
     "name": "stdout",
     "output_type": "stream",
     "text": [
      "Optimization ended due to max fitness evals (max = 210000.0, curr = 209400)"
     ]
    },
    {
     "name": "stdout",
     "output_type": "stream",
     "text": [
      "\n"
     ]
    },
    {
     "name": "stdout",
     "output_type": "stream",
     "text": [
      "\n",
      "#Generations:\t696"
     ]
    },
    {
     "name": "stdout",
     "output_type": "stream",
     "text": [
      "\n"
     ]
    },
    {
     "name": "stdout",
     "output_type": "stream",
     "text": [
      "#FitnessEvals:\t209400"
     ]
    },
    {
     "name": "stdout",
     "output_type": "stream",
     "text": [
      "\n"
     ]
    },
    {
     "name": "stdout",
     "output_type": "stream",
     "text": [
      "Mean Fitness:\t15121359.3056"
     ]
    },
    {
     "name": "stdout",
     "output_type": "stream",
     "text": [
      "\n"
     ]
    },
    {
     "name": "stdout",
     "output_type": "stream",
     "text": [
      "Best Fitness:\t7806199.4244\n",
      "Solution:\t100.0000\n",
      "Diff:\t\t7806099.4244"
     ]
    },
    {
     "name": "stdout",
     "output_type": "stream",
     "text": [
      "\n"
     ]
    },
    {
     "name": "stdout",
     "output_type": "stream",
     "text": [
      "\r",
      "[3:27:05][##--------] 17.65% "
     ]
    },
    {
     "name": "stdout",
     "output_type": "stream",
     "text": [
      "Optimization ended due to max fitness evals (max = 210000.0, curr = 209400)"
     ]
    },
    {
     "name": "stdout",
     "output_type": "stream",
     "text": [
      "\n"
     ]
    },
    {
     "name": "stdout",
     "output_type": "stream",
     "text": [
      "\n",
      "#Generations:\t696"
     ]
    },
    {
     "name": "stdout",
     "output_type": "stream",
     "text": [
      "\n"
     ]
    },
    {
     "name": "stdout",
     "output_type": "stream",
     "text": [
      "#FitnessEvals:\t209400"
     ]
    },
    {
     "name": "stdout",
     "output_type": "stream",
     "text": [
      "\n"
     ]
    },
    {
     "name": "stdout",
     "output_type": "stream",
     "text": [
      "Mean Fitness:\t10113927.3530"
     ]
    },
    {
     "name": "stdout",
     "output_type": "stream",
     "text": [
      "\n"
     ]
    },
    {
     "name": "stdout",
     "output_type": "stream",
     "text": [
      "Best Fitness:\t3762260.6315\n",
      "Solution:\t100.0000\n",
      "Diff:\t\t3762160.6315"
     ]
    },
    {
     "name": "stdout",
     "output_type": "stream",
     "text": [
      "\n"
     ]
    },
    {
     "name": "stdout",
     "output_type": "stream",
     "text": [
      "\r",
      "[3:45:15][##--------] 19.61% "
     ]
    },
    {
     "name": "stdout",
     "output_type": "stream",
     "text": [
      "Optimization ended due to max fitness evals (max = 210000.0, curr = 209400)"
     ]
    },
    {
     "name": "stdout",
     "output_type": "stream",
     "text": [
      "\n"
     ]
    },
    {
     "name": "stdout",
     "output_type": "stream",
     "text": [
      "\n",
      "#Generations:\t696"
     ]
    },
    {
     "name": "stdout",
     "output_type": "stream",
     "text": [
      "\n"
     ]
    },
    {
     "name": "stdout",
     "output_type": "stream",
     "text": [
      "#FitnessEvals:\t209400"
     ]
    },
    {
     "name": "stdout",
     "output_type": "stream",
     "text": [
      "\n"
     ]
    },
    {
     "name": "stdout",
     "output_type": "stream",
     "text": [
      "Mean Fitness:\t18539802.7005"
     ]
    },
    {
     "name": "stdout",
     "output_type": "stream",
     "text": [
      "\n"
     ]
    },
    {
     "name": "stdout",
     "output_type": "stream",
     "text": [
      "Best Fitness:\t7275373.1655\n",
      "Solution:\t100.0000\n",
      "Diff:\t\t7275273.1655"
     ]
    },
    {
     "name": "stdout",
     "output_type": "stream",
     "text": [
      "\n"
     ]
    },
    {
     "name": "stdout",
     "output_type": "stream",
     "text": [
      "\r",
      "[4:04:04][##--------] 21.57% "
     ]
    },
    {
     "name": "stdout",
     "output_type": "stream",
     "text": [
      "Optimization ended due to max fitness evals (max = 210000.0, curr = 209400)"
     ]
    },
    {
     "name": "stdout",
     "output_type": "stream",
     "text": [
      "\n"
     ]
    },
    {
     "name": "stdout",
     "output_type": "stream",
     "text": [
      "\n",
      "#Generations:\t696"
     ]
    },
    {
     "name": "stdout",
     "output_type": "stream",
     "text": [
      "\n"
     ]
    },
    {
     "name": "stdout",
     "output_type": "stream",
     "text": [
      "#FitnessEvals:\t209400"
     ]
    },
    {
     "name": "stdout",
     "output_type": "stream",
     "text": [
      "\n"
     ]
    },
    {
     "name": "stdout",
     "output_type": "stream",
     "text": [
      "Mean Fitness:\t14482760.6667"
     ]
    },
    {
     "name": "stdout",
     "output_type": "stream",
     "text": [
      "\n"
     ]
    },
    {
     "name": "stdout",
     "output_type": "stream",
     "text": [
      "Best Fitness:\t6409247.1891\n",
      "Solution:\t100.0000\n",
      "Diff:\t\t6409147.1891"
     ]
    },
    {
     "name": "stdout",
     "output_type": "stream",
     "text": [
      "\n"
     ]
    },
    {
     "name": "stdout",
     "output_type": "stream",
     "text": [
      "\r",
      "[4:22:10][##--------] 23.53% "
     ]
    },
    {
     "name": "stdout",
     "output_type": "stream",
     "text": [
      "Optimization ended due to max fitness evals (max = 210000.0, curr = 209400)"
     ]
    },
    {
     "name": "stdout",
     "output_type": "stream",
     "text": [
      "\n"
     ]
    },
    {
     "name": "stdout",
     "output_type": "stream",
     "text": [
      "\n",
      "#Generations:\t696"
     ]
    },
    {
     "name": "stdout",
     "output_type": "stream",
     "text": [
      "\n"
     ]
    },
    {
     "name": "stdout",
     "output_type": "stream",
     "text": [
      "#FitnessEvals:\t209400"
     ]
    },
    {
     "name": "stdout",
     "output_type": "stream",
     "text": [
      "\n"
     ]
    },
    {
     "name": "stdout",
     "output_type": "stream",
     "text": [
      "Mean Fitness:\t10946753.2477"
     ]
    },
    {
     "name": "stdout",
     "output_type": "stream",
     "text": [
      "\n"
     ]
    },
    {
     "name": "stdout",
     "output_type": "stream",
     "text": [
      "Best Fitness:\t4929070.1932\n",
      "Solution:\t100.0000\n",
      "Diff:\t\t4928970.1932"
     ]
    },
    {
     "name": "stdout",
     "output_type": "stream",
     "text": [
      "\n"
     ]
    },
    {
     "name": "stdout",
     "output_type": "stream",
     "text": [
      "\r",
      "[4:40:52][###-------] 25.49% "
     ]
    },
    {
     "name": "stdout",
     "output_type": "stream",
     "text": [
      "Optimization ended due to max fitness evals (max = 210000.0, curr = 209400)"
     ]
    },
    {
     "name": "stdout",
     "output_type": "stream",
     "text": [
      "\n"
     ]
    },
    {
     "name": "stdout",
     "output_type": "stream",
     "text": [
      "\n",
      "#Generations:\t696"
     ]
    },
    {
     "name": "stdout",
     "output_type": "stream",
     "text": [
      "\n"
     ]
    },
    {
     "name": "stdout",
     "output_type": "stream",
     "text": [
      "#FitnessEvals:\t209400"
     ]
    },
    {
     "name": "stdout",
     "output_type": "stream",
     "text": [
      "\n"
     ]
    },
    {
     "name": "stdout",
     "output_type": "stream",
     "text": [
      "Mean Fitness:\t9997333.2122"
     ]
    },
    {
     "name": "stdout",
     "output_type": "stream",
     "text": [
      "\n"
     ]
    },
    {
     "name": "stdout",
     "output_type": "stream",
     "text": [
      "Best Fitness:\t6310637.2522\n",
      "Solution:\t100.0000\n",
      "Diff:\t\t6310537.2522"
     ]
    },
    {
     "name": "stdout",
     "output_type": "stream",
     "text": [
      "\n"
     ]
    },
    {
     "name": "stdout",
     "output_type": "stream",
     "text": [
      "\r",
      "[4:58:27][###-------] 27.45% "
     ]
    },
    {
     "name": "stdout",
     "output_type": "stream",
     "text": [
      "Optimization ended due to max fitness evals (max = 210000.0, curr = 209400)"
     ]
    },
    {
     "name": "stdout",
     "output_type": "stream",
     "text": [
      "\n"
     ]
    },
    {
     "name": "stdout",
     "output_type": "stream",
     "text": [
      "\n",
      "#Generations:\t696"
     ]
    },
    {
     "name": "stdout",
     "output_type": "stream",
     "text": [
      "\n"
     ]
    },
    {
     "name": "stdout",
     "output_type": "stream",
     "text": [
      "#FitnessEvals:\t209400"
     ]
    },
    {
     "name": "stdout",
     "output_type": "stream",
     "text": [
      "\n"
     ]
    },
    {
     "name": "stdout",
     "output_type": "stream",
     "text": [
      "Mean Fitness:\t17977843.1105"
     ]
    },
    {
     "name": "stdout",
     "output_type": "stream",
     "text": [
      "\n"
     ]
    },
    {
     "name": "stdout",
     "output_type": "stream",
     "text": [
      "Best Fitness:\t8524410.3811\n",
      "Solution:\t100.0000\n",
      "Diff:\t\t8524310.3811"
     ]
    },
    {
     "name": "stdout",
     "output_type": "stream",
     "text": [
      "\n"
     ]
    },
    {
     "name": "stdout",
     "output_type": "stream",
     "text": [
      "\r",
      "[5:14:11][###-------] 29.41% "
     ]
    },
    {
     "name": "stdout",
     "output_type": "stream",
     "text": [
      "Optimization ended due to max fitness evals (max = 210000.0, curr = 209400)"
     ]
    },
    {
     "name": "stdout",
     "output_type": "stream",
     "text": [
      "\n"
     ]
    },
    {
     "name": "stdout",
     "output_type": "stream",
     "text": [
      "\n",
      "#Generations:\t696"
     ]
    },
    {
     "name": "stdout",
     "output_type": "stream",
     "text": [
      "\n"
     ]
    },
    {
     "name": "stdout",
     "output_type": "stream",
     "text": [
      "#FitnessEvals:\t209400"
     ]
    },
    {
     "name": "stdout",
     "output_type": "stream",
     "text": [
      "\n"
     ]
    },
    {
     "name": "stdout",
     "output_type": "stream",
     "text": [
      "Mean Fitness:\t20517482.6117"
     ]
    },
    {
     "name": "stdout",
     "output_type": "stream",
     "text": [
      "\n"
     ]
    },
    {
     "name": "stdout",
     "output_type": "stream",
     "text": [
      "Best Fitness:\t8123372.6338\n",
      "Solution:\t100.0000\n",
      "Diff:\t\t8123272.6338"
     ]
    },
    {
     "name": "stdout",
     "output_type": "stream",
     "text": [
      "\n"
     ]
    },
    {
     "name": "stdout",
     "output_type": "stream",
     "text": [
      "\r",
      "[5:28:28][###-------] 31.37% "
     ]
    },
    {
     "name": "stdout",
     "output_type": "stream",
     "text": [
      "Optimization ended due to max fitness evals (max = 210000.0, curr = 209400)"
     ]
    },
    {
     "name": "stdout",
     "output_type": "stream",
     "text": [
      "\n"
     ]
    },
    {
     "name": "stdout",
     "output_type": "stream",
     "text": [
      "\n",
      "#Generations:\t696"
     ]
    },
    {
     "name": "stdout",
     "output_type": "stream",
     "text": [
      "\n"
     ]
    },
    {
     "name": "stdout",
     "output_type": "stream",
     "text": [
      "#FitnessEvals:\t209400"
     ]
    },
    {
     "name": "stdout",
     "output_type": "stream",
     "text": [
      "\n"
     ]
    },
    {
     "name": "stdout",
     "output_type": "stream",
     "text": [
      "Mean Fitness:\t18185242.8508"
     ]
    },
    {
     "name": "stdout",
     "output_type": "stream",
     "text": [
      "\n"
     ]
    },
    {
     "name": "stdout",
     "output_type": "stream",
     "text": [
      "Best Fitness:\t7546490.3618\n",
      "Solution:\t100.0000\n",
      "Diff:\t\t7546390.3618"
     ]
    },
    {
     "name": "stdout",
     "output_type": "stream",
     "text": [
      "\n"
     ]
    },
    {
     "name": "stdout",
     "output_type": "stream",
     "text": [
      "\r",
      "[5:41:57][###-------] 33.33% "
     ]
    },
    {
     "name": "stdout",
     "output_type": "stream",
     "text": [
      "Optimization ended due to max fitness evals (max = 210000.0, curr = 209400)"
     ]
    },
    {
     "name": "stdout",
     "output_type": "stream",
     "text": [
      "\n"
     ]
    },
    {
     "name": "stdout",
     "output_type": "stream",
     "text": [
      "\n",
      "#Generations:\t696"
     ]
    },
    {
     "name": "stdout",
     "output_type": "stream",
     "text": [
      "\n"
     ]
    },
    {
     "name": "stdout",
     "output_type": "stream",
     "text": [
      "#FitnessEvals:\t209400"
     ]
    },
    {
     "name": "stdout",
     "output_type": "stream",
     "text": [
      "\n"
     ]
    },
    {
     "name": "stdout",
     "output_type": "stream",
     "text": [
      "Mean Fitness:\t30735718.7963"
     ]
    },
    {
     "name": "stdout",
     "output_type": "stream",
     "text": [
      "\n"
     ]
    },
    {
     "name": "stdout",
     "output_type": "stream",
     "text": [
      "Best Fitness:\t12658975.8781\n",
      "Solution:\t100.0000\n",
      "Diff:\t\t12658875.8781"
     ]
    },
    {
     "name": "stdout",
     "output_type": "stream",
     "text": [
      "\n"
     ]
    },
    {
     "name": "stdout",
     "output_type": "stream",
     "text": [
      "\r",
      "[5:55:29][####------] 35.29% "
     ]
    },
    {
     "name": "stdout",
     "output_type": "stream",
     "text": [
      "Optimization ended due to max fitness evals (max = 210000.0, curr = 209400)"
     ]
    },
    {
     "name": "stdout",
     "output_type": "stream",
     "text": [
      "\n"
     ]
    },
    {
     "name": "stdout",
     "output_type": "stream",
     "text": [
      "\n",
      "#Generations:\t696"
     ]
    },
    {
     "name": "stdout",
     "output_type": "stream",
     "text": [
      "\n"
     ]
    },
    {
     "name": "stdout",
     "output_type": "stream",
     "text": [
      "#FitnessEvals:\t209400"
     ]
    },
    {
     "name": "stdout",
     "output_type": "stream",
     "text": [
      "\n"
     ]
    },
    {
     "name": "stdout",
     "output_type": "stream",
     "text": [
      "Mean Fitness:\t19629194.8713"
     ]
    },
    {
     "name": "stdout",
     "output_type": "stream",
     "text": [
      "\n"
     ]
    },
    {
     "name": "stdout",
     "output_type": "stream",
     "text": [
      "Best Fitness:\t11006167.5718\n",
      "Solution:\t100.0000\n",
      "Diff:\t\t11006067.5718"
     ]
    },
    {
     "name": "stdout",
     "output_type": "stream",
     "text": [
      "\n"
     ]
    },
    {
     "name": "stdout",
     "output_type": "stream",
     "text": [
      "\r",
      "[6:07:49][####------] 37.25% "
     ]
    },
    {
     "name": "stdout",
     "output_type": "stream",
     "text": [
      "Optimization ended due to max fitness evals (max = 210000.0, curr = 209400)"
     ]
    },
    {
     "name": "stdout",
     "output_type": "stream",
     "text": [
      "\n"
     ]
    },
    {
     "name": "stdout",
     "output_type": "stream",
     "text": [
      "\n",
      "#Generations:\t696"
     ]
    },
    {
     "name": "stdout",
     "output_type": "stream",
     "text": [
      "\n"
     ]
    },
    {
     "name": "stdout",
     "output_type": "stream",
     "text": [
      "#FitnessEvals:\t209400"
     ]
    },
    {
     "name": "stdout",
     "output_type": "stream",
     "text": [
      "\n"
     ]
    },
    {
     "name": "stdout",
     "output_type": "stream",
     "text": [
      "Mean Fitness:\t15358250.8130"
     ]
    },
    {
     "name": "stdout",
     "output_type": "stream",
     "text": [
      "\n"
     ]
    },
    {
     "name": "stdout",
     "output_type": "stream",
     "text": [
      "Best Fitness:\t6613502.3229\n",
      "Solution:\t100.0000\n",
      "Diff:\t\t6613402.3229"
     ]
    },
    {
     "name": "stdout",
     "output_type": "stream",
     "text": [
      "\n"
     ]
    },
    {
     "name": "stdout",
     "output_type": "stream",
     "text": [
      "\r",
      "[6:20:03][####------] 39.22% "
     ]
    },
    {
     "name": "stdout",
     "output_type": "stream",
     "text": [
      "Optimization ended due to max fitness evals (max = 210000.0, curr = 209400)"
     ]
    },
    {
     "name": "stdout",
     "output_type": "stream",
     "text": [
      "\n"
     ]
    },
    {
     "name": "stdout",
     "output_type": "stream",
     "text": [
      "\n",
      "#Generations:\t696"
     ]
    },
    {
     "name": "stdout",
     "output_type": "stream",
     "text": [
      "\n"
     ]
    },
    {
     "name": "stdout",
     "output_type": "stream",
     "text": [
      "#FitnessEvals:\t209400"
     ]
    },
    {
     "name": "stdout",
     "output_type": "stream",
     "text": [
      "\n"
     ]
    },
    {
     "name": "stdout",
     "output_type": "stream",
     "text": [
      "Mean Fitness:\t11647414.3907"
     ]
    },
    {
     "name": "stdout",
     "output_type": "stream",
     "text": [
      "\n"
     ]
    },
    {
     "name": "stdout",
     "output_type": "stream",
     "text": [
      "Best Fitness:\t3959842.0706\n",
      "Solution:\t100.0000\n",
      "Diff:\t\t3959742.0706"
     ]
    },
    {
     "name": "stdout",
     "output_type": "stream",
     "text": [
      "\n"
     ]
    },
    {
     "name": "stdout",
     "output_type": "stream",
     "text": [
      "\r",
      "[6:31:31][####------] 41.18% "
     ]
    },
    {
     "name": "stdout",
     "output_type": "stream",
     "text": [
      "Optimization ended due to max fitness evals (max = 210000.0, curr = 209400)"
     ]
    },
    {
     "name": "stdout",
     "output_type": "stream",
     "text": [
      "\n"
     ]
    },
    {
     "name": "stdout",
     "output_type": "stream",
     "text": [
      "\n",
      "#Generations:\t696"
     ]
    },
    {
     "name": "stdout",
     "output_type": "stream",
     "text": [
      "\n"
     ]
    },
    {
     "name": "stdout",
     "output_type": "stream",
     "text": [
      "#FitnessEvals:\t209400"
     ]
    },
    {
     "name": "stdout",
     "output_type": "stream",
     "text": [
      "\n"
     ]
    },
    {
     "name": "stdout",
     "output_type": "stream",
     "text": [
      "Mean Fitness:\t17143612.3303"
     ]
    },
    {
     "name": "stdout",
     "output_type": "stream",
     "text": [
      "\n"
     ]
    },
    {
     "name": "stdout",
     "output_type": "stream",
     "text": [
      "Best Fitness:\t8307620.6510\n",
      "Solution:\t100.0000\n",
      "Diff:\t\t8307520.6510"
     ]
    },
    {
     "name": "stdout",
     "output_type": "stream",
     "text": [
      "\n"
     ]
    },
    {
     "name": "stdout",
     "output_type": "stream",
     "text": [
      "\r",
      "[6:41:48][####------] 43.14% "
     ]
    },
    {
     "name": "stdout",
     "output_type": "stream",
     "text": [
      "Optimization ended due to max fitness evals (max = 210000.0, curr = 209400)"
     ]
    },
    {
     "name": "stdout",
     "output_type": "stream",
     "text": [
      "\n"
     ]
    },
    {
     "name": "stdout",
     "output_type": "stream",
     "text": [
      "\n",
      "#Generations:\t696"
     ]
    },
    {
     "name": "stdout",
     "output_type": "stream",
     "text": [
      "\n"
     ]
    },
    {
     "name": "stdout",
     "output_type": "stream",
     "text": [
      "#FitnessEvals:\t209400"
     ]
    },
    {
     "name": "stdout",
     "output_type": "stream",
     "text": [
      "\n"
     ]
    },
    {
     "name": "stdout",
     "output_type": "stream",
     "text": [
      "Mean Fitness:\t12622344.6571"
     ]
    },
    {
     "name": "stdout",
     "output_type": "stream",
     "text": [
      "\n"
     ]
    },
    {
     "name": "stdout",
     "output_type": "stream",
     "text": [
      "Best Fitness:\t5862935.4218\n",
      "Solution:\t100.0000\n",
      "Diff:\t\t5862835.4218"
     ]
    },
    {
     "name": "stdout",
     "output_type": "stream",
     "text": [
      "\n"
     ]
    },
    {
     "name": "stdout",
     "output_type": "stream",
     "text": [
      "\r",
      "[6:51:29][#####-----] 45.10% "
     ]
    },
    {
     "name": "stdout",
     "output_type": "stream",
     "text": [
      "Optimization ended due to max fitness evals (max = 210000.0, curr = 209400)"
     ]
    },
    {
     "name": "stdout",
     "output_type": "stream",
     "text": [
      "\n"
     ]
    },
    {
     "name": "stdout",
     "output_type": "stream",
     "text": [
      "\n",
      "#Generations:\t696"
     ]
    },
    {
     "name": "stdout",
     "output_type": "stream",
     "text": [
      "\n"
     ]
    },
    {
     "name": "stdout",
     "output_type": "stream",
     "text": [
      "#FitnessEvals:\t209400"
     ]
    },
    {
     "name": "stdout",
     "output_type": "stream",
     "text": [
      "\n"
     ]
    },
    {
     "name": "stdout",
     "output_type": "stream",
     "text": [
      "Mean Fitness:\t13044235.8153"
     ]
    },
    {
     "name": "stdout",
     "output_type": "stream",
     "text": [
      "\n"
     ]
    },
    {
     "name": "stdout",
     "output_type": "stream",
     "text": [
      "Best Fitness:\t5493275.6777\n",
      "Solution:\t100.0000\n",
      "Diff:\t\t5493175.6777"
     ]
    },
    {
     "name": "stdout",
     "output_type": "stream",
     "text": [
      "\n"
     ]
    },
    {
     "name": "stdout",
     "output_type": "stream",
     "text": [
      "\r",
      "[7:00:12][#####-----] 47.06% "
     ]
    },
    {
     "name": "stdout",
     "output_type": "stream",
     "text": [
      "Optimization ended due to max fitness evals (max = 210000.0, curr = 209400)"
     ]
    },
    {
     "name": "stdout",
     "output_type": "stream",
     "text": [
      "\n"
     ]
    },
    {
     "name": "stdout",
     "output_type": "stream",
     "text": [
      "\n",
      "#Generations:\t696"
     ]
    },
    {
     "name": "stdout",
     "output_type": "stream",
     "text": [
      "\n"
     ]
    },
    {
     "name": "stdout",
     "output_type": "stream",
     "text": [
      "#FitnessEvals:\t209400"
     ]
    },
    {
     "name": "stdout",
     "output_type": "stream",
     "text": [
      "\n"
     ]
    },
    {
     "name": "stdout",
     "output_type": "stream",
     "text": [
      "Mean Fitness:\t17396318.2531"
     ]
    },
    {
     "name": "stdout",
     "output_type": "stream",
     "text": [
      "\n"
     ]
    },
    {
     "name": "stdout",
     "output_type": "stream",
     "text": [
      "Best Fitness:\t10462677.8531\n",
      "Solution:\t100.0000\n",
      "Diff:\t\t10462577.8531"
     ]
    },
    {
     "name": "stdout",
     "output_type": "stream",
     "text": [
      "\n"
     ]
    },
    {
     "name": "stdout",
     "output_type": "stream",
     "text": [
      "\r",
      "[7:08:54][#####-----] 49.02% "
     ]
    },
    {
     "name": "stdout",
     "output_type": "stream",
     "text": [
      "Optimization ended due to max fitness evals (max = 210000.0, curr = 209400)"
     ]
    },
    {
     "name": "stdout",
     "output_type": "stream",
     "text": [
      "\n"
     ]
    },
    {
     "name": "stdout",
     "output_type": "stream",
     "text": [
      "\n",
      "#Generations:\t696"
     ]
    },
    {
     "name": "stdout",
     "output_type": "stream",
     "text": [
      "\n"
     ]
    },
    {
     "name": "stdout",
     "output_type": "stream",
     "text": [
      "#FitnessEvals:\t209400"
     ]
    },
    {
     "name": "stdout",
     "output_type": "stream",
     "text": [
      "\n"
     ]
    },
    {
     "name": "stdout",
     "output_type": "stream",
     "text": [
      "Mean Fitness:\t9706178.5612"
     ]
    },
    {
     "name": "stdout",
     "output_type": "stream",
     "text": [
      "\n"
     ]
    },
    {
     "name": "stdout",
     "output_type": "stream",
     "text": [
      "Best Fitness:\t3653882.0842\n",
      "Solution:\t100.0000\n",
      "Diff:\t\t3653782.0842"
     ]
    },
    {
     "name": "stdout",
     "output_type": "stream",
     "text": [
      "\n"
     ]
    },
    {
     "name": "stdout",
     "output_type": "stream",
     "text": [
      "\r",
      "[7:17:33][#####-----] 50.98% "
     ]
    },
    {
     "name": "stdout",
     "output_type": "stream",
     "text": [
      "Optimization ended due to max fitness evals (max = 210000.0, curr = 209400)"
     ]
    },
    {
     "name": "stdout",
     "output_type": "stream",
     "text": [
      "\n"
     ]
    },
    {
     "name": "stdout",
     "output_type": "stream",
     "text": [
      "\n",
      "#Generations:\t696"
     ]
    },
    {
     "name": "stdout",
     "output_type": "stream",
     "text": [
      "\n"
     ]
    },
    {
     "name": "stdout",
     "output_type": "stream",
     "text": [
      "#FitnessEvals:\t209400"
     ]
    },
    {
     "name": "stdout",
     "output_type": "stream",
     "text": [
      "\n"
     ]
    },
    {
     "name": "stdout",
     "output_type": "stream",
     "text": [
      "Mean Fitness:\t11077162.9135"
     ]
    },
    {
     "name": "stdout",
     "output_type": "stream",
     "text": [
      "\n"
     ]
    },
    {
     "name": "stdout",
     "output_type": "stream",
     "text": [
      "Best Fitness:\t5205427.0113\n",
      "Solution:\t100.0000\n",
      "Diff:\t\t5205327.0113"
     ]
    },
    {
     "name": "stdout",
     "output_type": "stream",
     "text": [
      "\n"
     ]
    },
    {
     "name": "stdout",
     "output_type": "stream",
     "text": [
      "\r",
      "[7:26:12][#####-----] 52.94% "
     ]
    },
    {
     "name": "stdout",
     "output_type": "stream",
     "text": [
      "Optimization ended due to max fitness evals (max = 210000.0, curr = 209400)"
     ]
    },
    {
     "name": "stdout",
     "output_type": "stream",
     "text": [
      "\n"
     ]
    },
    {
     "name": "stdout",
     "output_type": "stream",
     "text": [
      "\n",
      "#Generations:\t696"
     ]
    },
    {
     "name": "stdout",
     "output_type": "stream",
     "text": [
      "\n"
     ]
    },
    {
     "name": "stdout",
     "output_type": "stream",
     "text": [
      "#FitnessEvals:\t209400"
     ]
    },
    {
     "name": "stdout",
     "output_type": "stream",
     "text": [
      "\n"
     ]
    },
    {
     "name": "stdout",
     "output_type": "stream",
     "text": [
      "Mean Fitness:\t15187821.0815"
     ]
    },
    {
     "name": "stdout",
     "output_type": "stream",
     "text": [
      "\n"
     ]
    },
    {
     "name": "stdout",
     "output_type": "stream",
     "text": [
      "Best Fitness:\t7764540.1125\n",
      "Solution:\t100.0000\n",
      "Diff:\t\t7764440.1125"
     ]
    },
    {
     "name": "stdout",
     "output_type": "stream",
     "text": [
      "\n"
     ]
    },
    {
     "name": "stdout",
     "output_type": "stream",
     "text": [
      "\r",
      "[7:34:50][#####-----] 54.90% "
     ]
    },
    {
     "name": "stdout",
     "output_type": "stream",
     "text": [
      "Optimization ended due to max fitness evals (max = 210000.0, curr = 209400)"
     ]
    },
    {
     "name": "stdout",
     "output_type": "stream",
     "text": [
      "\n"
     ]
    },
    {
     "name": "stdout",
     "output_type": "stream",
     "text": [
      "\n",
      "#Generations:\t696"
     ]
    },
    {
     "name": "stdout",
     "output_type": "stream",
     "text": [
      "\n"
     ]
    },
    {
     "name": "stdout",
     "output_type": "stream",
     "text": [
      "#FitnessEvals:\t209400"
     ]
    },
    {
     "name": "stdout",
     "output_type": "stream",
     "text": [
      "\n"
     ]
    },
    {
     "name": "stdout",
     "output_type": "stream",
     "text": [
      "Mean Fitness:\t12212338.5807"
     ]
    },
    {
     "name": "stdout",
     "output_type": "stream",
     "text": [
      "\n"
     ]
    },
    {
     "name": "stdout",
     "output_type": "stream",
     "text": [
      "Best Fitness:\t5465990.0934\n",
      "Solution:\t100.0000\n",
      "Diff:\t\t5465890.0934"
     ]
    },
    {
     "name": "stdout",
     "output_type": "stream",
     "text": [
      "\n"
     ]
    },
    {
     "name": "stdout",
     "output_type": "stream",
     "text": [
      "\r",
      "[7:43:24][######----] 56.86% "
     ]
    },
    {
     "name": "stdout",
     "output_type": "stream",
     "text": [
      "Optimization ended due to max fitness evals (max = 210000.0, curr = 209400)"
     ]
    },
    {
     "name": "stdout",
     "output_type": "stream",
     "text": [
      "\n"
     ]
    },
    {
     "name": "stdout",
     "output_type": "stream",
     "text": [
      "\n",
      "#Generations:\t696"
     ]
    },
    {
     "name": "stdout",
     "output_type": "stream",
     "text": [
      "\n"
     ]
    },
    {
     "name": "stdout",
     "output_type": "stream",
     "text": [
      "#FitnessEvals:\t209400"
     ]
    },
    {
     "name": "stdout",
     "output_type": "stream",
     "text": [
      "\n"
     ]
    },
    {
     "name": "stdout",
     "output_type": "stream",
     "text": [
      "Mean Fitness:\t10121446.1187"
     ]
    },
    {
     "name": "stdout",
     "output_type": "stream",
     "text": [
      "\n"
     ]
    },
    {
     "name": "stdout",
     "output_type": "stream",
     "text": [
      "Best Fitness:\t5957290.1476\n",
      "Solution:\t100.0000\n",
      "Diff:\t\t5957190.1476"
     ]
    },
    {
     "name": "stdout",
     "output_type": "stream",
     "text": [
      "\n"
     ]
    },
    {
     "name": "stdout",
     "output_type": "stream",
     "text": [
      "\r",
      "[7:50:59][######----] 58.82% "
     ]
    },
    {
     "name": "stdout",
     "output_type": "stream",
     "text": [
      "Optimization ended due to max fitness evals (max = 210000.0, curr = 209400)"
     ]
    },
    {
     "name": "stdout",
     "output_type": "stream",
     "text": [
      "\n"
     ]
    },
    {
     "name": "stdout",
     "output_type": "stream",
     "text": [
      "\n",
      "#Generations:\t696"
     ]
    },
    {
     "name": "stdout",
     "output_type": "stream",
     "text": [
      "\n"
     ]
    },
    {
     "name": "stdout",
     "output_type": "stream",
     "text": [
      "#FitnessEvals:\t209400"
     ]
    },
    {
     "name": "stdout",
     "output_type": "stream",
     "text": [
      "\n"
     ]
    },
    {
     "name": "stdout",
     "output_type": "stream",
     "text": [
      "Mean Fitness:\t12776650.5231"
     ]
    },
    {
     "name": "stdout",
     "output_type": "stream",
     "text": [
      "\n"
     ]
    },
    {
     "name": "stdout",
     "output_type": "stream",
     "text": [
      "Best Fitness:\t4650599.5610\n",
      "Solution:\t100.0000\n",
      "Diff:\t\t4650499.5610"
     ]
    },
    {
     "name": "stdout",
     "output_type": "stream",
     "text": [
      "\n"
     ]
    },
    {
     "name": "stdout",
     "output_type": "stream",
     "text": [
      "\r",
      "[7:58:32][######----] 60.78% "
     ]
    },
    {
     "name": "stdout",
     "output_type": "stream",
     "text": [
      "Optimization ended due to max fitness evals (max = 210000.0, curr = 209400)"
     ]
    },
    {
     "name": "stdout",
     "output_type": "stream",
     "text": [
      "\n"
     ]
    },
    {
     "name": "stdout",
     "output_type": "stream",
     "text": [
      "\n",
      "#Generations:\t696"
     ]
    },
    {
     "name": "stdout",
     "output_type": "stream",
     "text": [
      "\n"
     ]
    },
    {
     "name": "stdout",
     "output_type": "stream",
     "text": [
      "#FitnessEvals:\t209400"
     ]
    },
    {
     "name": "stdout",
     "output_type": "stream",
     "text": [
      "\n"
     ]
    },
    {
     "name": "stdout",
     "output_type": "stream",
     "text": [
      "Mean Fitness:\t10134045.1684"
     ]
    },
    {
     "name": "stdout",
     "output_type": "stream",
     "text": [
      "\n"
     ]
    },
    {
     "name": "stdout",
     "output_type": "stream",
     "text": [
      "Best Fitness:\t5290193.0588\n",
      "Solution:\t100.0000\n",
      "Diff:\t\t5290093.0588"
     ]
    },
    {
     "name": "stdout",
     "output_type": "stream",
     "text": [
      "\n"
     ]
    },
    {
     "name": "stdout",
     "output_type": "stream",
     "text": [
      "\r",
      "[8:06:02][######----] 62.75% "
     ]
    },
    {
     "name": "stdout",
     "output_type": "stream",
     "text": [
      "Optimization ended due to max fitness evals (max = 210000.0, curr = 209400)"
     ]
    },
    {
     "name": "stdout",
     "output_type": "stream",
     "text": [
      "\n"
     ]
    },
    {
     "name": "stdout",
     "output_type": "stream",
     "text": [
      "\n",
      "#Generations:\t696"
     ]
    },
    {
     "name": "stdout",
     "output_type": "stream",
     "text": [
      "\n"
     ]
    },
    {
     "name": "stdout",
     "output_type": "stream",
     "text": [
      "#FitnessEvals:\t209400"
     ]
    },
    {
     "name": "stdout",
     "output_type": "stream",
     "text": [
      "\n"
     ]
    },
    {
     "name": "stdout",
     "output_type": "stream",
     "text": [
      "Mean Fitness:\t16485539.6737"
     ]
    },
    {
     "name": "stdout",
     "output_type": "stream",
     "text": [
      "\n"
     ]
    },
    {
     "name": "stdout",
     "output_type": "stream",
     "text": [
      "Best Fitness:\t8450626.7217\n",
      "Solution:\t100.0000\n",
      "Diff:\t\t8450526.7217"
     ]
    },
    {
     "name": "stdout",
     "output_type": "stream",
     "text": [
      "\n"
     ]
    },
    {
     "name": "stdout",
     "output_type": "stream",
     "text": [
      "\r",
      "[8:13:32][######----] 64.71% "
     ]
    },
    {
     "name": "stdout",
     "output_type": "stream",
     "text": [
      "Optimization ended due to max fitness evals (max = 210000.0, curr = 209400)"
     ]
    },
    {
     "name": "stdout",
     "output_type": "stream",
     "text": [
      "\n"
     ]
    },
    {
     "name": "stdout",
     "output_type": "stream",
     "text": [
      "\n",
      "#Generations:\t696"
     ]
    },
    {
     "name": "stdout",
     "output_type": "stream",
     "text": [
      "\n"
     ]
    },
    {
     "name": "stdout",
     "output_type": "stream",
     "text": [
      "#FitnessEvals:\t209400"
     ]
    },
    {
     "name": "stdout",
     "output_type": "stream",
     "text": [
      "\n"
     ]
    },
    {
     "name": "stdout",
     "output_type": "stream",
     "text": [
      "Mean Fitness:\t10838201.8454"
     ]
    },
    {
     "name": "stdout",
     "output_type": "stream",
     "text": [
      "\n"
     ]
    },
    {
     "name": "stdout",
     "output_type": "stream",
     "text": [
      "Best Fitness:\t4130779.7365\n",
      "Solution:\t100.0000\n",
      "Diff:\t\t4130679.7365"
     ]
    },
    {
     "name": "stdout",
     "output_type": "stream",
     "text": [
      "\n"
     ]
    },
    {
     "name": "stdout",
     "output_type": "stream",
     "text": [
      "\r",
      "[8:21:02][#######---] 66.67% "
     ]
    },
    {
     "name": "stdout",
     "output_type": "stream",
     "text": [
      "Optimization ended due to max fitness evals (max = 210000.0, curr = 209400)"
     ]
    },
    {
     "name": "stdout",
     "output_type": "stream",
     "text": [
      "\n"
     ]
    },
    {
     "name": "stdout",
     "output_type": "stream",
     "text": [
      "\n",
      "#Generations:\t696"
     ]
    },
    {
     "name": "stdout",
     "output_type": "stream",
     "text": [
      "\n"
     ]
    },
    {
     "name": "stdout",
     "output_type": "stream",
     "text": [
      "#FitnessEvals:\t209400"
     ]
    },
    {
     "name": "stdout",
     "output_type": "stream",
     "text": [
      "\n"
     ]
    },
    {
     "name": "stdout",
     "output_type": "stream",
     "text": [
      "Mean Fitness:\t14211323.3906"
     ]
    },
    {
     "name": "stdout",
     "output_type": "stream",
     "text": [
      "\n"
     ]
    },
    {
     "name": "stdout",
     "output_type": "stream",
     "text": [
      "Best Fitness:\t6693294.5185\n",
      "Solution:\t100.0000\n",
      "Diff:\t\t6693194.5185"
     ]
    },
    {
     "name": "stdout",
     "output_type": "stream",
     "text": [
      "\n"
     ]
    },
    {
     "name": "stdout",
     "output_type": "stream",
     "text": [
      "\r",
      "[8:28:34][#######---] 68.63% "
     ]
    },
    {
     "name": "stdout",
     "output_type": "stream",
     "text": [
      "Optimization ended due to max fitness evals (max = 210000.0, curr = 209400)"
     ]
    },
    {
     "name": "stdout",
     "output_type": "stream",
     "text": [
      "\n"
     ]
    },
    {
     "name": "stdout",
     "output_type": "stream",
     "text": [
      "\n",
      "#Generations:\t696"
     ]
    },
    {
     "name": "stdout",
     "output_type": "stream",
     "text": [
      "\n"
     ]
    },
    {
     "name": "stdout",
     "output_type": "stream",
     "text": [
      "#FitnessEvals:\t209400"
     ]
    },
    {
     "name": "stdout",
     "output_type": "stream",
     "text": [
      "\n"
     ]
    },
    {
     "name": "stdout",
     "output_type": "stream",
     "text": [
      "Mean Fitness:\t13128604.0456"
     ]
    },
    {
     "name": "stdout",
     "output_type": "stream",
     "text": [
      "\n"
     ]
    },
    {
     "name": "stdout",
     "output_type": "stream",
     "text": [
      "Best Fitness:\t5229873.0003\n",
      "Solution:\t100.0000\n",
      "Diff:\t\t5229773.0003"
     ]
    },
    {
     "name": "stdout",
     "output_type": "stream",
     "text": [
      "\n"
     ]
    },
    {
     "name": "stdout",
     "output_type": "stream",
     "text": [
      "\r",
      "[8:36:05][#######---] 70.59% "
     ]
    },
    {
     "name": "stdout",
     "output_type": "stream",
     "text": [
      "Optimization ended due to max fitness evals (max = 210000.0, curr = 209400)"
     ]
    },
    {
     "name": "stdout",
     "output_type": "stream",
     "text": [
      "\n"
     ]
    },
    {
     "name": "stdout",
     "output_type": "stream",
     "text": [
      "\n",
      "#Generations:\t696"
     ]
    },
    {
     "name": "stdout",
     "output_type": "stream",
     "text": [
      "\n"
     ]
    },
    {
     "name": "stdout",
     "output_type": "stream",
     "text": [
      "#FitnessEvals:\t209400"
     ]
    },
    {
     "name": "stdout",
     "output_type": "stream",
     "text": [
      "\n"
     ]
    },
    {
     "name": "stdout",
     "output_type": "stream",
     "text": [
      "Mean Fitness:\t8584791.0110"
     ]
    },
    {
     "name": "stdout",
     "output_type": "stream",
     "text": [
      "\n"
     ]
    },
    {
     "name": "stdout",
     "output_type": "stream",
     "text": [
      "Best Fitness:\t3543436.2833\n",
      "Solution:\t100.0000\n",
      "Diff:\t\t3543336.2833"
     ]
    },
    {
     "name": "stdout",
     "output_type": "stream",
     "text": [
      "\n"
     ]
    },
    {
     "name": "stdout",
     "output_type": "stream",
     "text": [
      "\r",
      "[8:42:53][#######---] 72.55% "
     ]
    },
    {
     "name": "stdout",
     "output_type": "stream",
     "text": [
      "Optimization ended due to max fitness evals (max = 210000.0, curr = 209400)"
     ]
    },
    {
     "name": "stdout",
     "output_type": "stream",
     "text": [
      "\n"
     ]
    },
    {
     "name": "stdout",
     "output_type": "stream",
     "text": [
      "\n",
      "#Generations:\t696"
     ]
    },
    {
     "name": "stdout",
     "output_type": "stream",
     "text": [
      "\n"
     ]
    },
    {
     "name": "stdout",
     "output_type": "stream",
     "text": [
      "#FitnessEvals:\t209400"
     ]
    },
    {
     "name": "stdout",
     "output_type": "stream",
     "text": [
      "\n"
     ]
    },
    {
     "name": "stdout",
     "output_type": "stream",
     "text": [
      "Mean Fitness:\t13062495.2994"
     ]
    },
    {
     "name": "stdout",
     "output_type": "stream",
     "text": [
      "\n"
     ]
    },
    {
     "name": "stdout",
     "output_type": "stream",
     "text": [
      "Best Fitness:\t7056715.6055\n",
      "Solution:\t100.0000\n",
      "Diff:\t\t7056615.6055"
     ]
    },
    {
     "name": "stdout",
     "output_type": "stream",
     "text": [
      "\n"
     ]
    },
    {
     "name": "stdout",
     "output_type": "stream",
     "text": [
      "\r",
      "[8:49:40][#######---] 74.51% "
     ]
    },
    {
     "name": "stdout",
     "output_type": "stream",
     "text": [
      "Optimization ended due to max fitness evals (max = 210000.0, curr = 209400)"
     ]
    },
    {
     "name": "stdout",
     "output_type": "stream",
     "text": [
      "\n"
     ]
    },
    {
     "name": "stdout",
     "output_type": "stream",
     "text": [
      "\n",
      "#Generations:\t696"
     ]
    },
    {
     "name": "stdout",
     "output_type": "stream",
     "text": [
      "\n"
     ]
    },
    {
     "name": "stdout",
     "output_type": "stream",
     "text": [
      "#FitnessEvals:\t209400"
     ]
    },
    {
     "name": "stdout",
     "output_type": "stream",
     "text": [
      "\n"
     ]
    },
    {
     "name": "stdout",
     "output_type": "stream",
     "text": [
      "Mean Fitness:\t13224800.7888"
     ]
    },
    {
     "name": "stdout",
     "output_type": "stream",
     "text": [
      "\n"
     ]
    },
    {
     "name": "stdout",
     "output_type": "stream",
     "text": [
      "Best Fitness:\t5941588.9538\n",
      "Solution:\t100.0000\n",
      "Diff:\t\t5941488.9538"
     ]
    },
    {
     "name": "stdout",
     "output_type": "stream",
     "text": [
      "\n"
     ]
    },
    {
     "name": "stdout",
     "output_type": "stream",
     "text": [
      "\r",
      "[8:56:23][########--] 76.47% "
     ]
    },
    {
     "name": "stdout",
     "output_type": "stream",
     "text": [
      "Optimization ended due to max fitness evals (max = 210000.0, curr = 209400)"
     ]
    },
    {
     "name": "stdout",
     "output_type": "stream",
     "text": [
      "\n"
     ]
    },
    {
     "name": "stdout",
     "output_type": "stream",
     "text": [
      "\n",
      "#Generations:\t696"
     ]
    },
    {
     "name": "stdout",
     "output_type": "stream",
     "text": [
      "\n"
     ]
    },
    {
     "name": "stdout",
     "output_type": "stream",
     "text": [
      "#FitnessEvals:\t209400"
     ]
    },
    {
     "name": "stdout",
     "output_type": "stream",
     "text": [
      "\n"
     ]
    },
    {
     "name": "stdout",
     "output_type": "stream",
     "text": [
      "Mean Fitness:\t17611747.5688"
     ]
    },
    {
     "name": "stdout",
     "output_type": "stream",
     "text": [
      "\n"
     ]
    },
    {
     "name": "stdout",
     "output_type": "stream",
     "text": [
      "Best Fitness:\t8385794.5037\n",
      "Solution:\t100.0000\n",
      "Diff:\t\t8385694.5037"
     ]
    },
    {
     "name": "stdout",
     "output_type": "stream",
     "text": [
      "\n"
     ]
    },
    {
     "name": "stdout",
     "output_type": "stream",
     "text": [
      "\r",
      "[9:03:06][########--] 78.43% "
     ]
    },
    {
     "name": "stdout",
     "output_type": "stream",
     "text": [
      "Optimization ended due to max fitness evals (max = 210000.0, curr = 209400)"
     ]
    },
    {
     "name": "stdout",
     "output_type": "stream",
     "text": [
      "\n"
     ]
    },
    {
     "name": "stdout",
     "output_type": "stream",
     "text": [
      "\n",
      "#Generations:\t696"
     ]
    },
    {
     "name": "stdout",
     "output_type": "stream",
     "text": [
      "\n"
     ]
    },
    {
     "name": "stdout",
     "output_type": "stream",
     "text": [
      "#FitnessEvals:\t209400"
     ]
    },
    {
     "name": "stdout",
     "output_type": "stream",
     "text": [
      "\n"
     ]
    },
    {
     "name": "stdout",
     "output_type": "stream",
     "text": [
      "Mean Fitness:\t8008460.7087"
     ]
    },
    {
     "name": "stdout",
     "output_type": "stream",
     "text": [
      "\n"
     ]
    },
    {
     "name": "stdout",
     "output_type": "stream",
     "text": [
      "Best Fitness:\t3987756.9783\n",
      "Solution:\t100.0000\n",
      "Diff:\t\t3987656.9783"
     ]
    },
    {
     "name": "stdout",
     "output_type": "stream",
     "text": [
      "\n"
     ]
    },
    {
     "name": "stdout",
     "output_type": "stream",
     "text": [
      "\r",
      "[9:09:48][########--] 80.39% "
     ]
    },
    {
     "name": "stdout",
     "output_type": "stream",
     "text": [
      "Optimization ended due to max fitness evals (max = 210000.0, curr = 209400)"
     ]
    },
    {
     "name": "stdout",
     "output_type": "stream",
     "text": [
      "\n"
     ]
    },
    {
     "name": "stdout",
     "output_type": "stream",
     "text": [
      "\n",
      "#Generations:\t696"
     ]
    },
    {
     "name": "stdout",
     "output_type": "stream",
     "text": [
      "\n"
     ]
    },
    {
     "name": "stdout",
     "output_type": "stream",
     "text": [
      "#FitnessEvals:\t209400"
     ]
    },
    {
     "name": "stdout",
     "output_type": "stream",
     "text": [
      "\n"
     ]
    },
    {
     "name": "stdout",
     "output_type": "stream",
     "text": [
      "Mean Fitness:\t11026170.1237"
     ]
    },
    {
     "name": "stdout",
     "output_type": "stream",
     "text": [
      "\n"
     ]
    },
    {
     "name": "stdout",
     "output_type": "stream",
     "text": [
      "Best Fitness:\t5292797.9887\n",
      "Solution:\t100.0000\n",
      "Diff:\t\t5292697.9887"
     ]
    },
    {
     "name": "stdout",
     "output_type": "stream",
     "text": [
      "\n"
     ]
    },
    {
     "name": "stdout",
     "output_type": "stream",
     "text": [
      "\r",
      "[9:16:38][########--] 82.35% "
     ]
    },
    {
     "name": "stdout",
     "output_type": "stream",
     "text": [
      "Optimization ended due to max fitness evals (max = 210000.0, curr = 209400)"
     ]
    },
    {
     "name": "stdout",
     "output_type": "stream",
     "text": [
      "\n"
     ]
    },
    {
     "name": "stdout",
     "output_type": "stream",
     "text": [
      "\n",
      "#Generations:\t696"
     ]
    },
    {
     "name": "stdout",
     "output_type": "stream",
     "text": [
      "\n"
     ]
    },
    {
     "name": "stdout",
     "output_type": "stream",
     "text": [
      "#FitnessEvals:\t209400"
     ]
    },
    {
     "name": "stdout",
     "output_type": "stream",
     "text": [
      "\n"
     ]
    },
    {
     "name": "stdout",
     "output_type": "stream",
     "text": [
      "Mean Fitness:\t14416518.4856"
     ]
    },
    {
     "name": "stdout",
     "output_type": "stream",
     "text": [
      "\n"
     ]
    },
    {
     "name": "stdout",
     "output_type": "stream",
     "text": [
      "Best Fitness:\t6315524.3880\n",
      "Solution:\t100.0000\n",
      "Diff:\t\t6315424.3880"
     ]
    },
    {
     "name": "stdout",
     "output_type": "stream",
     "text": [
      "\n"
     ]
    },
    {
     "name": "stdout",
     "output_type": "stream",
     "text": [
      "\r",
      "[9:23:22][########--] 84.31% "
     ]
    },
    {
     "name": "stdout",
     "output_type": "stream",
     "text": [
      "Optimization ended due to max fitness evals (max = 210000.0, curr = 209400)"
     ]
    },
    {
     "name": "stdout",
     "output_type": "stream",
     "text": [
      "\n"
     ]
    },
    {
     "name": "stdout",
     "output_type": "stream",
     "text": [
      "\n",
      "#Generations:\t696"
     ]
    },
    {
     "name": "stdout",
     "output_type": "stream",
     "text": [
      "\n"
     ]
    },
    {
     "name": "stdout",
     "output_type": "stream",
     "text": [
      "#FitnessEvals:\t209400"
     ]
    },
    {
     "name": "stdout",
     "output_type": "stream",
     "text": [
      "\n"
     ]
    },
    {
     "name": "stdout",
     "output_type": "stream",
     "text": [
      "Mean Fitness:\t9910673.3929"
     ]
    },
    {
     "name": "stdout",
     "output_type": "stream",
     "text": [
      "\n"
     ]
    },
    {
     "name": "stdout",
     "output_type": "stream",
     "text": [
      "Best Fitness:\t3780395.8313\n",
      "Solution:\t100.0000\n",
      "Diff:\t\t3780295.8313"
     ]
    },
    {
     "name": "stdout",
     "output_type": "stream",
     "text": [
      "\n"
     ]
    },
    {
     "name": "stdout",
     "output_type": "stream",
     "text": [
      "\r",
      "[9:30:47][#########-] 86.27% "
     ]
    },
    {
     "name": "stdout",
     "output_type": "stream",
     "text": [
      "Optimization ended due to max fitness evals (max = 210000.0, curr = 209400)"
     ]
    },
    {
     "name": "stdout",
     "output_type": "stream",
     "text": [
      "\n"
     ]
    },
    {
     "name": "stdout",
     "output_type": "stream",
     "text": [
      "\n",
      "#Generations:\t696"
     ]
    },
    {
     "name": "stdout",
     "output_type": "stream",
     "text": [
      "\n"
     ]
    },
    {
     "name": "stdout",
     "output_type": "stream",
     "text": [
      "#FitnessEvals:\t209400"
     ]
    },
    {
     "name": "stdout",
     "output_type": "stream",
     "text": [
      "\n"
     ]
    },
    {
     "name": "stdout",
     "output_type": "stream",
     "text": [
      "Mean Fitness:\t13271592.9635"
     ]
    },
    {
     "name": "stdout",
     "output_type": "stream",
     "text": [
      "\n"
     ]
    },
    {
     "name": "stdout",
     "output_type": "stream",
     "text": [
      "Best Fitness:\t6569594.5864\n",
      "Solution:\t100.0000\n",
      "Diff:\t\t6569494.5864"
     ]
    },
    {
     "name": "stdout",
     "output_type": "stream",
     "text": [
      "\n"
     ]
    },
    {
     "name": "stdout",
     "output_type": "stream",
     "text": [
      "\r",
      "[9:37:26][#########-] 88.24% "
     ]
    },
    {
     "name": "stdout",
     "output_type": "stream",
     "text": [
      "Optimization ended due to max fitness evals (max = 210000.0, curr = 209400)"
     ]
    },
    {
     "name": "stdout",
     "output_type": "stream",
     "text": [
      "\n"
     ]
    },
    {
     "name": "stdout",
     "output_type": "stream",
     "text": [
      "\n",
      "#Generations:\t696"
     ]
    },
    {
     "name": "stdout",
     "output_type": "stream",
     "text": [
      "\n"
     ]
    },
    {
     "name": "stdout",
     "output_type": "stream",
     "text": [
      "#FitnessEvals:\t209400"
     ]
    },
    {
     "name": "stdout",
     "output_type": "stream",
     "text": [
      "\n"
     ]
    },
    {
     "name": "stdout",
     "output_type": "stream",
     "text": [
      "Mean Fitness:\t7252559.5858"
     ]
    },
    {
     "name": "stdout",
     "output_type": "stream",
     "text": [
      "\n"
     ]
    },
    {
     "name": "stdout",
     "output_type": "stream",
     "text": [
      "Best Fitness:\t3303184.6307\n",
      "Solution:\t100.0000\n",
      "Diff:\t\t3303084.6307"
     ]
    },
    {
     "name": "stdout",
     "output_type": "stream",
     "text": [
      "\n"
     ]
    },
    {
     "name": "stdout",
     "output_type": "stream",
     "text": [
      "\r",
      "[9:44:08][#########-] 90.20% "
     ]
    },
    {
     "name": "stdout",
     "output_type": "stream",
     "text": [
      "Optimization ended due to max fitness evals (max = 210000.0, curr = 209400)"
     ]
    },
    {
     "name": "stdout",
     "output_type": "stream",
     "text": [
      "\n"
     ]
    },
    {
     "name": "stdout",
     "output_type": "stream",
     "text": [
      "\n",
      "#Generations:\t696"
     ]
    },
    {
     "name": "stdout",
     "output_type": "stream",
     "text": [
      "\n"
     ]
    },
    {
     "name": "stdout",
     "output_type": "stream",
     "text": [
      "#FitnessEvals:\t209400"
     ]
    },
    {
     "name": "stdout",
     "output_type": "stream",
     "text": [
      "\n"
     ]
    },
    {
     "name": "stdout",
     "output_type": "stream",
     "text": [
      "Mean Fitness:\t10555475.4380"
     ]
    },
    {
     "name": "stdout",
     "output_type": "stream",
     "text": [
      "\n"
     ]
    },
    {
     "name": "stdout",
     "output_type": "stream",
     "text": [
      "Best Fitness:\t4168945.6819\n",
      "Solution:\t100.0000\n",
      "Diff:\t\t4168845.6819"
     ]
    },
    {
     "name": "stdout",
     "output_type": "stream",
     "text": [
      "\n"
     ]
    },
    {
     "name": "stdout",
     "output_type": "stream",
     "text": [
      "\r",
      "[9:50:39][#########-] 92.16% "
     ]
    },
    {
     "name": "stdout",
     "output_type": "stream",
     "text": [
      "Optimization ended due to max fitness evals (max = 210000.0, curr = 209400)"
     ]
    },
    {
     "name": "stdout",
     "output_type": "stream",
     "text": [
      "\n"
     ]
    },
    {
     "name": "stdout",
     "output_type": "stream",
     "text": [
      "\n",
      "#Generations:\t696"
     ]
    },
    {
     "name": "stdout",
     "output_type": "stream",
     "text": [
      "\n"
     ]
    },
    {
     "name": "stdout",
     "output_type": "stream",
     "text": [
      "#FitnessEvals:\t209400"
     ]
    },
    {
     "name": "stdout",
     "output_type": "stream",
     "text": [
      "\n"
     ]
    },
    {
     "name": "stdout",
     "output_type": "stream",
     "text": [
      "Mean Fitness:\t16342858.8248"
     ]
    },
    {
     "name": "stdout",
     "output_type": "stream",
     "text": [
      "\n"
     ]
    },
    {
     "name": "stdout",
     "output_type": "stream",
     "text": [
      "Best Fitness:\t6117008.7427\n",
      "Solution:\t100.0000\n",
      "Diff:\t\t6116908.7427"
     ]
    },
    {
     "name": "stdout",
     "output_type": "stream",
     "text": [
      "\n"
     ]
    },
    {
     "name": "stdout",
     "output_type": "stream",
     "text": [
      "\r",
      "[9:57:16][#########-] 94.12% "
     ]
    },
    {
     "name": "stdout",
     "output_type": "stream",
     "text": [
      "Optimization ended due to max fitness evals (max = 210000.0, curr = 209400)"
     ]
    },
    {
     "name": "stdout",
     "output_type": "stream",
     "text": [
      "\n"
     ]
    },
    {
     "name": "stdout",
     "output_type": "stream",
     "text": [
      "\n",
      "#Generations:\t696"
     ]
    },
    {
     "name": "stdout",
     "output_type": "stream",
     "text": [
      "\n"
     ]
    },
    {
     "name": "stdout",
     "output_type": "stream",
     "text": [
      "#FitnessEvals:\t209400"
     ]
    },
    {
     "name": "stdout",
     "output_type": "stream",
     "text": [
      "\n"
     ]
    },
    {
     "name": "stdout",
     "output_type": "stream",
     "text": [
      "Mean Fitness:\t15629578.6309"
     ]
    },
    {
     "name": "stdout",
     "output_type": "stream",
     "text": [
      "\n"
     ]
    },
    {
     "name": "stdout",
     "output_type": "stream",
     "text": [
      "Best Fitness:\t8985875.7999\n",
      "Solution:\t100.0000\n",
      "Diff:\t\t8985775.7999"
     ]
    },
    {
     "name": "stdout",
     "output_type": "stream",
     "text": [
      "\n"
     ]
    },
    {
     "name": "stdout",
     "output_type": "stream",
     "text": [
      "\r",
      "[10:03:59][##########] 96.08% "
     ]
    },
    {
     "name": "stdout",
     "output_type": "stream",
     "text": [
      "Optimization ended due to max fitness evals (max = 210000.0, curr = 209400)"
     ]
    },
    {
     "name": "stdout",
     "output_type": "stream",
     "text": [
      "\n"
     ]
    },
    {
     "name": "stdout",
     "output_type": "stream",
     "text": [
      "\n",
      "#Generations:\t696"
     ]
    },
    {
     "name": "stdout",
     "output_type": "stream",
     "text": [
      "\n"
     ]
    },
    {
     "name": "stdout",
     "output_type": "stream",
     "text": [
      "#FitnessEvals:\t209400"
     ]
    },
    {
     "name": "stdout",
     "output_type": "stream",
     "text": [
      "\n"
     ]
    },
    {
     "name": "stdout",
     "output_type": "stream",
     "text": [
      "Mean Fitness:\t8289024.4260"
     ]
    },
    {
     "name": "stdout",
     "output_type": "stream",
     "text": [
      "\n"
     ]
    },
    {
     "name": "stdout",
     "output_type": "stream",
     "text": [
      "Best Fitness:\t4030222.0298\n",
      "Solution:\t100.0000\n",
      "Diff:\t\t4030122.0298"
     ]
    },
    {
     "name": "stdout",
     "output_type": "stream",
     "text": [
      "\n"
     ]
    },
    {
     "name": "stdout",
     "output_type": "stream",
     "text": [
      "\r",
      "[10:10:32][##########] 98.04% "
     ]
    },
    {
     "name": "stdout",
     "output_type": "stream",
     "text": [
      "Optimization ended due to max fitness evals (max = 210000.0, curr = 209400)"
     ]
    },
    {
     "name": "stdout",
     "output_type": "stream",
     "text": [
      "\n"
     ]
    },
    {
     "name": "stdout",
     "output_type": "stream",
     "text": [
      "\n",
      "#Generations:\t696"
     ]
    },
    {
     "name": "stdout",
     "output_type": "stream",
     "text": [
      "\n"
     ]
    },
    {
     "name": "stdout",
     "output_type": "stream",
     "text": [
      "#FitnessEvals:\t209400"
     ]
    },
    {
     "name": "stdout",
     "output_type": "stream",
     "text": [
      "\n"
     ]
    },
    {
     "name": "stdout",
     "output_type": "stream",
     "text": [
      "Mean Fitness:\t14778105.7666"
     ]
    },
    {
     "name": "stdout",
     "output_type": "stream",
     "text": [
      "\n"
     ]
    },
    {
     "name": "stdout",
     "output_type": "stream",
     "text": [
      "Best Fitness:\t7214530.1404\n",
      "Solution:\t100.0000\n",
      "Diff:\t\t7214430.1404"
     ]
    },
    {
     "name": "stdout",
     "output_type": "stream",
     "text": [
      "\n"
     ]
    },
    {
     "name": "stdout",
     "output_type": "stream",
     "text": [
      "\r",
      "[10:17:24][##########] 100.00% Done...\r\n"
     ]
    }
   ],
   "source": [
    "hist = pd.DataFrame()\n",
    "arr_runs = range(numRuns)\n",
    "solution = get_solution(funcId, dim, input_data_filepath=input_data_filepath)\n",
    "successRate = 0\n",
    "for idx_run in arr_runs:\n",
    "    progbar.update_progress(idx_run/float(len(arr_runs)))\n",
    "    \n",
    "    # Differential Evolution\n",
    "    alg = DifferentialEvolution(dim=dim, func_id=funcId, pop_size=pop_size, crossover=crossover, \n",
    "        opposition=opposition, mutation=mutation, lambda_mutation=.5, fitness_clusters=fitness_clusters)\n",
    "    \n",
    "    errorHist, fitnessHist = alg.optimize(target=solution, max_f_evals=maxEvals, target_error=targetError, verbose=True)        \n",
    "    bestError = errorHist.iloc[-1,:].min()\n",
    "    errorHist[\"run\"] = np.ones(errorHist.shape[0], dtype=int)*idx_run\n",
    "    hist = pd.concat([hist, errorHist], ignore_index=False)    \n",
    "    if bestError <= targetError:\n",
    "        print (\"Target error achieved with error {}\".format(bestError))\n",
    "        successRate += 1\n",
    "    \n",
    "    write_log(filepath=output_filepath + 'log.tsv', \n",
    "              text='[{}]\\t{}/{}\\t{}\\t{}\\n'.format(time.strftime(\"%Y-%m-%d %H:%M:%S\", time.gmtime()), \n",
    "                                              idx_run+1,\n",
    "                                              len(arr_runs),\n",
    "                                              progbar.get_elapsed_time(),\n",
    "                                              successRate)\n",
    "             )\n",
    "    \n",
    "hist.index.name = 'generation'\n",
    "hist.to_csv(output_filepath + 'hist.tsv', sep='\\t')\n",
    "progbar.update_progress(1)"
   ]
  },
  {
   "cell_type": "code",
   "execution_count": 7,
   "metadata": {
    "papermill": {
     "duration": 0.331114,
     "end_time": "2019-07-24T12:49:09.690416",
     "exception": false,
     "start_time": "2019-07-24T12:49:09.359302",
     "status": "completed"
    },
    "tags": []
   },
   "outputs": [
    {
     "name": "stdout",
     "output_type": "stream",
     "text": [
      "Elapsed Time: "
     ]
    },
    {
     "name": "stdout",
     "output_type": "stream",
     "text": [
      " "
     ]
    },
    {
     "name": "stdout",
     "output_type": "stream",
     "text": [
      "10:17:24"
     ]
    },
    {
     "name": "stdout",
     "output_type": "stream",
     "text": [
      "\n"
     ]
    }
   ],
   "source": [
    "print (\"Elapsed Time: \", progbar.get_elapsed_time())"
   ]
  },
  {
   "cell_type": "code",
   "execution_count": 8,
   "metadata": {
    "papermill": {
     "duration": 0.208443,
     "end_time": "2019-07-24T12:49:10.066411",
     "exception": false,
     "start_time": "2019-07-24T12:49:09.857968",
     "status": "completed"
    },
    "tags": []
   },
   "outputs": [
    {
     "data": {
      "text/html": [
       "<div>\n",
       "<style scoped>\n",
       "    .dataframe tbody tr th:only-of-type {\n",
       "        vertical-align: middle;\n",
       "    }\n",
       "\n",
       "    .dataframe tbody tr th {\n",
       "        vertical-align: top;\n",
       "    }\n",
       "\n",
       "    .dataframe thead th {\n",
       "        text-align: right;\n",
       "    }\n",
       "</style>\n",
       "<table border=\"1\" class=\"dataframe\">\n",
       "  <thead>\n",
       "    <tr style=\"text-align: right;\">\n",
       "      <th></th>\n",
       "      <th>0</th>\n",
       "      <th>1</th>\n",
       "      <th>2</th>\n",
       "      <th>3</th>\n",
       "      <th>4</th>\n",
       "      <th>5</th>\n",
       "      <th>6</th>\n",
       "      <th>7</th>\n",
       "      <th>8</th>\n",
       "      <th>9</th>\n",
       "      <th>...</th>\n",
       "      <th>291</th>\n",
       "      <th>292</th>\n",
       "      <th>293</th>\n",
       "      <th>294</th>\n",
       "      <th>295</th>\n",
       "      <th>296</th>\n",
       "      <th>297</th>\n",
       "      <th>298</th>\n",
       "      <th>299</th>\n",
       "      <th>run</th>\n",
       "    </tr>\n",
       "    <tr>\n",
       "      <th>generation</th>\n",
       "      <th></th>\n",
       "      <th></th>\n",
       "      <th></th>\n",
       "      <th></th>\n",
       "      <th></th>\n",
       "      <th></th>\n",
       "      <th></th>\n",
       "      <th></th>\n",
       "      <th></th>\n",
       "      <th></th>\n",
       "      <th></th>\n",
       "      <th></th>\n",
       "      <th></th>\n",
       "      <th></th>\n",
       "      <th></th>\n",
       "      <th></th>\n",
       "      <th></th>\n",
       "      <th></th>\n",
       "      <th></th>\n",
       "      <th></th>\n",
       "      <th></th>\n",
       "    </tr>\n",
       "  </thead>\n",
       "  <tbody>\n",
       "    <tr>\n",
       "      <th>691</th>\n",
       "      <td>1.883817e+07</td>\n",
       "      <td>9.974728e+06</td>\n",
       "      <td>1.824754e+07</td>\n",
       "      <td>1.246580e+07</td>\n",
       "      <td>1.826041e+07</td>\n",
       "      <td>1.748241e+07</td>\n",
       "      <td>1.154848e+07</td>\n",
       "      <td>1.418112e+07</td>\n",
       "      <td>1.893438e+07</td>\n",
       "      <td>1.000354e+07</td>\n",
       "      <td>...</td>\n",
       "      <td>1.647611e+07</td>\n",
       "      <td>1.825466e+07</td>\n",
       "      <td>1.371458e+07</td>\n",
       "      <td>1.709628e+07</td>\n",
       "      <td>2.143210e+07</td>\n",
       "      <td>1.939730e+07</td>\n",
       "      <td>1.761880e+07</td>\n",
       "      <td>1.105419e+07</td>\n",
       "      <td>1.457554e+07</td>\n",
       "      <td>50</td>\n",
       "    </tr>\n",
       "    <tr>\n",
       "      <th>692</th>\n",
       "      <td>1.883817e+07</td>\n",
       "      <td>9.974728e+06</td>\n",
       "      <td>1.824754e+07</td>\n",
       "      <td>1.246580e+07</td>\n",
       "      <td>1.826041e+07</td>\n",
       "      <td>1.748241e+07</td>\n",
       "      <td>1.154848e+07</td>\n",
       "      <td>1.418112e+07</td>\n",
       "      <td>1.893438e+07</td>\n",
       "      <td>1.000354e+07</td>\n",
       "      <td>...</td>\n",
       "      <td>1.647611e+07</td>\n",
       "      <td>1.825466e+07</td>\n",
       "      <td>1.371458e+07</td>\n",
       "      <td>1.709628e+07</td>\n",
       "      <td>2.143210e+07</td>\n",
       "      <td>1.939730e+07</td>\n",
       "      <td>1.761880e+07</td>\n",
       "      <td>1.105419e+07</td>\n",
       "      <td>1.457554e+07</td>\n",
       "      <td>50</td>\n",
       "    </tr>\n",
       "    <tr>\n",
       "      <th>693</th>\n",
       "      <td>1.883817e+07</td>\n",
       "      <td>9.974728e+06</td>\n",
       "      <td>1.824754e+07</td>\n",
       "      <td>1.246580e+07</td>\n",
       "      <td>1.826041e+07</td>\n",
       "      <td>1.748241e+07</td>\n",
       "      <td>1.154848e+07</td>\n",
       "      <td>1.418112e+07</td>\n",
       "      <td>1.893438e+07</td>\n",
       "      <td>1.000354e+07</td>\n",
       "      <td>...</td>\n",
       "      <td>1.647611e+07</td>\n",
       "      <td>1.825466e+07</td>\n",
       "      <td>1.371458e+07</td>\n",
       "      <td>1.709628e+07</td>\n",
       "      <td>2.143210e+07</td>\n",
       "      <td>1.939730e+07</td>\n",
       "      <td>1.761880e+07</td>\n",
       "      <td>1.105419e+07</td>\n",
       "      <td>1.457554e+07</td>\n",
       "      <td>50</td>\n",
       "    </tr>\n",
       "    <tr>\n",
       "      <th>694</th>\n",
       "      <td>1.883817e+07</td>\n",
       "      <td>9.974728e+06</td>\n",
       "      <td>1.824754e+07</td>\n",
       "      <td>1.246580e+07</td>\n",
       "      <td>1.826041e+07</td>\n",
       "      <td>1.748241e+07</td>\n",
       "      <td>1.154848e+07</td>\n",
       "      <td>1.418112e+07</td>\n",
       "      <td>1.893438e+07</td>\n",
       "      <td>1.000354e+07</td>\n",
       "      <td>...</td>\n",
       "      <td>1.647611e+07</td>\n",
       "      <td>1.825466e+07</td>\n",
       "      <td>1.371458e+07</td>\n",
       "      <td>1.709628e+07</td>\n",
       "      <td>2.143210e+07</td>\n",
       "      <td>1.939730e+07</td>\n",
       "      <td>1.761880e+07</td>\n",
       "      <td>1.105419e+07</td>\n",
       "      <td>1.457554e+07</td>\n",
       "      <td>50</td>\n",
       "    </tr>\n",
       "    <tr>\n",
       "      <th>695</th>\n",
       "      <td>1.883817e+07</td>\n",
       "      <td>9.974728e+06</td>\n",
       "      <td>1.824754e+07</td>\n",
       "      <td>1.246580e+07</td>\n",
       "      <td>1.826041e+07</td>\n",
       "      <td>1.748241e+07</td>\n",
       "      <td>1.154848e+07</td>\n",
       "      <td>1.418112e+07</td>\n",
       "      <td>1.893438e+07</td>\n",
       "      <td>1.000354e+07</td>\n",
       "      <td>...</td>\n",
       "      <td>1.647611e+07</td>\n",
       "      <td>1.825466e+07</td>\n",
       "      <td>1.371458e+07</td>\n",
       "      <td>1.709628e+07</td>\n",
       "      <td>2.143210e+07</td>\n",
       "      <td>1.939730e+07</td>\n",
       "      <td>1.761880e+07</td>\n",
       "      <td>1.105419e+07</td>\n",
       "      <td>1.457554e+07</td>\n",
       "      <td>50</td>\n",
       "    </tr>\n",
       "  </tbody>\n",
       "</table>\n",
       "<p>5 rows × 301 columns</p>\n",
       "</div>"
      ],
      "text/plain": [
       "                       0             1             2             3  \\\n",
       "generation                                                           \n",
       "691         1.883817e+07  9.974728e+06  1.824754e+07  1.246580e+07   \n",
       "692         1.883817e+07  9.974728e+06  1.824754e+07  1.246580e+07   \n",
       "693         1.883817e+07  9.974728e+06  1.824754e+07  1.246580e+07   \n",
       "694         1.883817e+07  9.974728e+06  1.824754e+07  1.246580e+07   \n",
       "695         1.883817e+07  9.974728e+06  1.824754e+07  1.246580e+07   \n",
       "\n",
       "                       4             5             6             7  \\\n",
       "generation                                                           \n",
       "691         1.826041e+07  1.748241e+07  1.154848e+07  1.418112e+07   \n",
       "692         1.826041e+07  1.748241e+07  1.154848e+07  1.418112e+07   \n",
       "693         1.826041e+07  1.748241e+07  1.154848e+07  1.418112e+07   \n",
       "694         1.826041e+07  1.748241e+07  1.154848e+07  1.418112e+07   \n",
       "695         1.826041e+07  1.748241e+07  1.154848e+07  1.418112e+07   \n",
       "\n",
       "                       8             9 ...            291           292  \\\n",
       "generation                             ...                                \n",
       "691         1.893438e+07  1.000354e+07 ...   1.647611e+07  1.825466e+07   \n",
       "692         1.893438e+07  1.000354e+07 ...   1.647611e+07  1.825466e+07   \n",
       "693         1.893438e+07  1.000354e+07 ...   1.647611e+07  1.825466e+07   \n",
       "694         1.893438e+07  1.000354e+07 ...   1.647611e+07  1.825466e+07   \n",
       "695         1.893438e+07  1.000354e+07 ...   1.647611e+07  1.825466e+07   \n",
       "\n",
       "                     293           294           295           296  \\\n",
       "generation                                                           \n",
       "691         1.371458e+07  1.709628e+07  2.143210e+07  1.939730e+07   \n",
       "692         1.371458e+07  1.709628e+07  2.143210e+07  1.939730e+07   \n",
       "693         1.371458e+07  1.709628e+07  2.143210e+07  1.939730e+07   \n",
       "694         1.371458e+07  1.709628e+07  2.143210e+07  1.939730e+07   \n",
       "695         1.371458e+07  1.709628e+07  2.143210e+07  1.939730e+07   \n",
       "\n",
       "                     297           298           299  run  \n",
       "generation                                                 \n",
       "691         1.761880e+07  1.105419e+07  1.457554e+07   50  \n",
       "692         1.761880e+07  1.105419e+07  1.457554e+07   50  \n",
       "693         1.761880e+07  1.105419e+07  1.457554e+07   50  \n",
       "694         1.761880e+07  1.105419e+07  1.457554e+07   50  \n",
       "695         1.761880e+07  1.105419e+07  1.457554e+07   50  \n",
       "\n",
       "[5 rows x 301 columns]"
      ]
     },
     "execution_count": 8,
     "metadata": {},
     "output_type": "execute_result"
    }
   ],
   "source": [
    "errorHist.tail()"
   ]
  },
  {
   "cell_type": "code",
   "execution_count": 9,
   "metadata": {
    "papermill": {
     "duration": 0.551578,
     "end_time": "2019-07-24T12:49:10.769587",
     "exception": false,
     "start_time": "2019-07-24T12:49:10.218009",
     "status": "completed"
    },
    "tags": []
   },
   "outputs": [
    {
     "name": "stdout",
     "output_type": "stream",
     "text": [
      "Best error for run 0: 7999026.607476966"
     ]
    },
    {
     "name": "stdout",
     "output_type": "stream",
     "text": [
      "\n"
     ]
    },
    {
     "name": "stdout",
     "output_type": "stream",
     "text": [
      "Best error for run 1: 11376556.689466132"
     ]
    },
    {
     "name": "stdout",
     "output_type": "stream",
     "text": [
      "\n"
     ]
    },
    {
     "name": "stdout",
     "output_type": "stream",
     "text": [
      "Best error for run 2: 8826684.412195949"
     ]
    },
    {
     "name": "stdout",
     "output_type": "stream",
     "text": [
      "\n"
     ]
    },
    {
     "name": "stdout",
     "output_type": "stream",
     "text": [
      "Best error for run 3: 5050585.739317819"
     ]
    },
    {
     "name": "stdout",
     "output_type": "stream",
     "text": [
      "\n"
     ]
    },
    {
     "name": "stdout",
     "output_type": "stream",
     "text": [
      "Best error for run 4: 12381401.519462915"
     ]
    },
    {
     "name": "stdout",
     "output_type": "stream",
     "text": [
      "\n"
     ]
    },
    {
     "name": "stdout",
     "output_type": "stream",
     "text": [
      "Best error for run 5: 4354624.837272404"
     ]
    },
    {
     "name": "stdout",
     "output_type": "stream",
     "text": [
      "\n"
     ]
    },
    {
     "name": "stdout",
     "output_type": "stream",
     "text": [
      "Best error for run 6: 4163132.127321305"
     ]
    },
    {
     "name": "stdout",
     "output_type": "stream",
     "text": [
      "\n"
     ]
    },
    {
     "name": "stdout",
     "output_type": "stream",
     "text": [
      "Best error for run 7: 7373448.098667835"
     ]
    },
    {
     "name": "stdout",
     "output_type": "stream",
     "text": [
      "\n"
     ]
    },
    {
     "name": "stdout",
     "output_type": "stream",
     "text": [
      "Best error for run 8: 7806099.424443285"
     ]
    },
    {
     "name": "stdout",
     "output_type": "stream",
     "text": [
      "\n"
     ]
    },
    {
     "name": "stdout",
     "output_type": "stream",
     "text": [
      "Best error for run 9: 3762160.6314520906"
     ]
    },
    {
     "name": "stdout",
     "output_type": "stream",
     "text": [
      "\n"
     ]
    },
    {
     "name": "stdout",
     "output_type": "stream",
     "text": [
      "Best error for run 10: 7275273.165532047"
     ]
    },
    {
     "name": "stdout",
     "output_type": "stream",
     "text": [
      "\n"
     ]
    },
    {
     "name": "stdout",
     "output_type": "stream",
     "text": [
      "Best error for run 11: 6409147.189082012"
     ]
    },
    {
     "name": "stdout",
     "output_type": "stream",
     "text": [
      "\n"
     ]
    },
    {
     "name": "stdout",
     "output_type": "stream",
     "text": [
      "Best error for run 12: 4928970.193184691"
     ]
    },
    {
     "name": "stdout",
     "output_type": "stream",
     "text": [
      "\n"
     ]
    },
    {
     "name": "stdout",
     "output_type": "stream",
     "text": [
      "Best error for run 13: 6310537.252150811"
     ]
    },
    {
     "name": "stdout",
     "output_type": "stream",
     "text": [
      "\n"
     ]
    },
    {
     "name": "stdout",
     "output_type": "stream",
     "text": [
      "Best error for run 14: 8524310.381117702"
     ]
    },
    {
     "name": "stdout",
     "output_type": "stream",
     "text": [
      "\n"
     ]
    },
    {
     "name": "stdout",
     "output_type": "stream",
     "text": [
      "Best error for run 15: 8123272.633796624"
     ]
    },
    {
     "name": "stdout",
     "output_type": "stream",
     "text": [
      "\n"
     ]
    },
    {
     "name": "stdout",
     "output_type": "stream",
     "text": [
      "Best error for run 16: 7546390.361841916"
     ]
    },
    {
     "name": "stdout",
     "output_type": "stream",
     "text": [
      "\n"
     ]
    },
    {
     "name": "stdout",
     "output_type": "stream",
     "text": [
      "Best error for run 17: 12658875.878069904"
     ]
    },
    {
     "name": "stdout",
     "output_type": "stream",
     "text": [
      "\n"
     ]
    },
    {
     "name": "stdout",
     "output_type": "stream",
     "text": [
      "Best error for run 18: 11006067.571763642"
     ]
    },
    {
     "name": "stdout",
     "output_type": "stream",
     "text": [
      "\n"
     ]
    },
    {
     "name": "stdout",
     "output_type": "stream",
     "text": [
      "Best error for run 19: 6613402.322882079"
     ]
    },
    {
     "name": "stdout",
     "output_type": "stream",
     "text": [
      "\n"
     ]
    },
    {
     "name": "stdout",
     "output_type": "stream",
     "text": [
      "Best error for run 20: 3959742.0706439572"
     ]
    },
    {
     "name": "stdout",
     "output_type": "stream",
     "text": [
      "\n"
     ]
    },
    {
     "name": "stdout",
     "output_type": "stream",
     "text": [
      "Best error for run 21: 8307520.650951292"
     ]
    },
    {
     "name": "stdout",
     "output_type": "stream",
     "text": [
      "\n"
     ]
    },
    {
     "name": "stdout",
     "output_type": "stream",
     "text": [
      "Best error for run 22: 5862835.42178405"
     ]
    },
    {
     "name": "stdout",
     "output_type": "stream",
     "text": [
      "\n"
     ]
    },
    {
     "name": "stdout",
     "output_type": "stream",
     "text": [
      "Best error for run 23: 5493175.677708891"
     ]
    },
    {
     "name": "stdout",
     "output_type": "stream",
     "text": [
      "\n"
     ]
    },
    {
     "name": "stdout",
     "output_type": "stream",
     "text": [
      "Best error for run 24: 10462577.853140073"
     ]
    },
    {
     "name": "stdout",
     "output_type": "stream",
     "text": [
      "\n"
     ]
    },
    {
     "name": "stdout",
     "output_type": "stream",
     "text": [
      "Best error for run 25: 3653782.0842225226"
     ]
    },
    {
     "name": "stdout",
     "output_type": "stream",
     "text": [
      "\n"
     ]
    },
    {
     "name": "stdout",
     "output_type": "stream",
     "text": [
      "Best error for run 26: 5205327.011314027"
     ]
    },
    {
     "name": "stdout",
     "output_type": "stream",
     "text": [
      "\n"
     ]
    },
    {
     "name": "stdout",
     "output_type": "stream",
     "text": [
      "Best error for run 27: 7764440.1125059035"
     ]
    },
    {
     "name": "stdout",
     "output_type": "stream",
     "text": [
      "\n"
     ]
    },
    {
     "name": "stdout",
     "output_type": "stream",
     "text": [
      "Best error for run 28: 5465890.093444917"
     ]
    },
    {
     "name": "stdout",
     "output_type": "stream",
     "text": [
      "\n"
     ]
    },
    {
     "name": "stdout",
     "output_type": "stream",
     "text": [
      "Best error for run 29: 5957190.147648718"
     ]
    },
    {
     "name": "stdout",
     "output_type": "stream",
     "text": [
      "\n"
     ]
    },
    {
     "name": "stdout",
     "output_type": "stream",
     "text": [
      "Best error for run 30: 4650499.560999219"
     ]
    },
    {
     "name": "stdout",
     "output_type": "stream",
     "text": [
      "\n"
     ]
    },
    {
     "name": "stdout",
     "output_type": "stream",
     "text": [
      "Best error for run 31: 5290093.058785515"
     ]
    },
    {
     "name": "stdout",
     "output_type": "stream",
     "text": [
      "\n"
     ]
    },
    {
     "name": "stdout",
     "output_type": "stream",
     "text": [
      "Best error for run 32: 8450526.721687699"
     ]
    },
    {
     "name": "stdout",
     "output_type": "stream",
     "text": [
      "\n"
     ]
    },
    {
     "name": "stdout",
     "output_type": "stream",
     "text": [
      "Best error for run 33: 4130679.736474662"
     ]
    },
    {
     "name": "stdout",
     "output_type": "stream",
     "text": [
      "\n"
     ]
    },
    {
     "name": "stdout",
     "output_type": "stream",
     "text": [
      "Best error for run 34: 6693194.518549991"
     ]
    },
    {
     "name": "stdout",
     "output_type": "stream",
     "text": [
      "\n"
     ]
    },
    {
     "name": "stdout",
     "output_type": "stream",
     "text": [
      "Best error for run 35: 5229773.0002893"
     ]
    },
    {
     "name": "stdout",
     "output_type": "stream",
     "text": [
      "\n"
     ]
    },
    {
     "name": "stdout",
     "output_type": "stream",
     "text": [
      "Best error for run 36: 3543336.2833247315"
     ]
    },
    {
     "name": "stdout",
     "output_type": "stream",
     "text": [
      "\n"
     ]
    },
    {
     "name": "stdout",
     "output_type": "stream",
     "text": [
      "Best error for run 37: 7056615.6054651635"
     ]
    },
    {
     "name": "stdout",
     "output_type": "stream",
     "text": [
      "\n"
     ]
    },
    {
     "name": "stdout",
     "output_type": "stream",
     "text": [
      "Best error for run 38: 5941488.953834668"
     ]
    },
    {
     "name": "stdout",
     "output_type": "stream",
     "text": [
      "\n"
     ]
    },
    {
     "name": "stdout",
     "output_type": "stream",
     "text": [
      "Best error for run 39: 8385694.503716443"
     ]
    },
    {
     "name": "stdout",
     "output_type": "stream",
     "text": [
      "\n"
     ]
    },
    {
     "name": "stdout",
     "output_type": "stream",
     "text": [
      "Best error for run 40: 3987656.9782824195"
     ]
    },
    {
     "name": "stdout",
     "output_type": "stream",
     "text": [
      "\n"
     ]
    },
    {
     "name": "stdout",
     "output_type": "stream",
     "text": [
      "Best error for run 41: 5292697.988714894"
     ]
    },
    {
     "name": "stdout",
     "output_type": "stream",
     "text": [
      "\n"
     ]
    },
    {
     "name": "stdout",
     "output_type": "stream",
     "text": [
      "Best error for run 42: 6315424.387974666"
     ]
    },
    {
     "name": "stdout",
     "output_type": "stream",
     "text": [
      "\n"
     ]
    },
    {
     "name": "stdout",
     "output_type": "stream",
     "text": [
      "Best error for run 43: 3780295.831252669"
     ]
    },
    {
     "name": "stdout",
     "output_type": "stream",
     "text": [
      "\n"
     ]
    },
    {
     "name": "stdout",
     "output_type": "stream",
     "text": [
      "Best error for run 44: 6569494.586353172"
     ]
    },
    {
     "name": "stdout",
     "output_type": "stream",
     "text": [
      "\n"
     ]
    },
    {
     "name": "stdout",
     "output_type": "stream",
     "text": [
      "Best error for run 45: 3303084.6307301777"
     ]
    },
    {
     "name": "stdout",
     "output_type": "stream",
     "text": [
      "\n"
     ]
    },
    {
     "name": "stdout",
     "output_type": "stream",
     "text": [
      "Best error for run 46: 4168845.681888532"
     ]
    },
    {
     "name": "stdout",
     "output_type": "stream",
     "text": [
      "\n"
     ]
    },
    {
     "name": "stdout",
     "output_type": "stream",
     "text": [
      "Best error for run 47: 6116908.742727826"
     ]
    },
    {
     "name": "stdout",
     "output_type": "stream",
     "text": [
      "\n"
     ]
    },
    {
     "name": "stdout",
     "output_type": "stream",
     "text": [
      "Best error for run 48: 8985775.799880523"
     ]
    },
    {
     "name": "stdout",
     "output_type": "stream",
     "text": [
      "\n"
     ]
    },
    {
     "name": "stdout",
     "output_type": "stream",
     "text": [
      "Best error for run 49: 4030122.0298155304"
     ]
    },
    {
     "name": "stdout",
     "output_type": "stream",
     "text": [
      "\n"
     ]
    },
    {
     "name": "stdout",
     "output_type": "stream",
     "text": [
      "Best error for run 50: 7214430.140384367"
     ]
    },
    {
     "name": "stdout",
     "output_type": "stream",
     "text": [
      "\n"
     ]
    }
   ],
   "source": [
    "arr_error = list()\n",
    "arr_best_error = list()\n",
    "for run in hist['run'].unique():\n",
    "    df_run = hist[hist['run'] == run].drop(['run'], axis=1) \n",
    "    bestError = df_run.iloc[-1,:].min()    \n",
    "    arr_best_error.append(bestError)    \n",
    "    print ('Best error for run {}: {}'.format(run, bestError))\n",
    "    arr_error.append(np.array(df_run.min(axis=1)))    \n",
    "arr_error = np.array(arr_error)\n",
    "# arr_error"
   ]
  },
  {
   "cell_type": "code",
   "execution_count": 10,
   "metadata": {
    "papermill": {
     "duration": 0.614865,
     "end_time": "2019-07-24T12:49:11.578948",
     "exception": false,
     "start_time": "2019-07-24T12:49:10.964083",
     "status": "completed"
    },
    "tags": []
   },
   "outputs": [
    {
     "data": {
      "image/png": "[encoded data removed]",
      "text/plain": [
       "<matplotlib.figure.Figure at 0x16ea404d2e8>"
      ]
     },
     "metadata": {},
     "output_type": "display_data"
    }
   ],
   "source": [
    "fig, ax = plt.subplots(nrows=1, ncols=1, figsize=(10,10))\n",
    "label = 'Success Rate: {}%\\nMin Error Fitness: {}'.format(100*(successRate/float(numRuns)), arr_error.min())\n",
    "ax.errorbar(np.arange(alg.generations), arr_error.mean(axis=0), yerr=arr_error.std(axis=0), label=label)\n",
    "ax2 = ax.twinx()\n",
    "ax2.plot(np.arange(alg.generations), 20*np.log(arr_error.mean(axis=0)), label='Mean Min Error (dB)', color='red')\n",
    "ax2.set_ylabel('Mean Minimum Error (dB)')\n",
    "\n",
    "ax.grid(True)\n",
    "ax.set_ylabel('Mean Minimum Error')\n",
    "ax.legend()\n",
    "ax.set_xlabel('Generation')\n",
    "ax.set_title('Error Fitness Function {} (Solution = {})'.format(funcId, solution))\n",
    "plt.savefig(output_filepath + 'mean_error_evolution.jpeg', bbox_inches = 'tight')"
   ]
  },
  {
   "cell_type": "code",
   "execution_count": 11,
   "metadata": {
    "papermill": {
     "duration": 0.308178,
     "end_time": "2019-07-24T12:49:12.080607",
     "exception": false,
     "start_time": "2019-07-24T12:49:11.772429",
     "status": "completed"
    },
    "tags": []
   },
   "outputs": [
    {
     "name": "stdout",
     "output_type": "stream",
     "text": [
      "Saving df_sumup to "
     ]
    },
    {
     "name": "stdout",
     "output_type": "stream",
     "text": [
      " "
     ]
    },
    {
     "name": "stdout",
     "output_type": "stream",
     "text": [
      "./results/DE/best/1/bin/[1_30_51_300_0.7_0.5_False_None]df_sumup.tsv"
     ]
    },
    {
     "name": "stdout",
     "output_type": "stream",
     "text": [
      "\n"
     ]
    },
    {
     "data": {
      "text/html": [
       "<div>\n",
       "<style scoped>\n",
       "    .dataframe tbody tr th:only-of-type {\n",
       "        vertical-align: middle;\n",
       "    }\n",
       "\n",
       "    .dataframe tbody tr th {\n",
       "        vertical-align: top;\n",
       "    }\n",
       "\n",
       "    .dataframe thead th {\n",
       "        text-align: right;\n",
       "    }\n",
       "</style>\n",
       "<table border=\"1\" class=\"dataframe\">\n",
       "  <thead>\n",
       "    <tr style=\"text-align: right;\">\n",
       "      <th></th>\n",
       "      <th>algorithm</th>\n",
       "      <th>#Fc</th>\n",
       "      <th>D</th>\n",
       "      <th>percFES</th>\n",
       "      <th>run_1</th>\n",
       "      <th>run_2</th>\n",
       "      <th>run_3</th>\n",
       "      <th>run_4</th>\n",
       "      <th>run_5</th>\n",
       "      <th>run_6</th>\n",
       "      <th>...</th>\n",
       "      <th>run_45</th>\n",
       "      <th>run_46</th>\n",
       "      <th>run_47</th>\n",
       "      <th>run_48</th>\n",
       "      <th>run_49</th>\n",
       "      <th>run_50</th>\n",
       "      <th>run_51</th>\n",
       "      <th>mean</th>\n",
       "      <th>elapsed_time</th>\n",
       "      <th>evals</th>\n",
       "    </tr>\n",
       "  </thead>\n",
       "  <tbody>\n",
       "    <tr>\n",
       "      <th>0</th>\n",
       "      <td>DE/best/1/bin</td>\n",
       "      <td>1</td>\n",
       "      <td>30</td>\n",
       "      <td>0.7</td>\n",
       "      <td>7.999027e+06</td>\n",
       "      <td>1.137656e+07</td>\n",
       "      <td>8.826684e+06</td>\n",
       "      <td>5.050586e+06</td>\n",
       "      <td>1.238140e+07</td>\n",
       "      <td>4.354625e+06</td>\n",
       "      <td>...</td>\n",
       "      <td>6.569495e+06</td>\n",
       "      <td>3.303085e+06</td>\n",
       "      <td>4.168846e+06</td>\n",
       "      <td>6.116909e+06</td>\n",
       "      <td>8.985776e+06</td>\n",
       "      <td>4.030122e+06</td>\n",
       "      <td>7.214430e+06</td>\n",
       "      <td>6.544296e+06</td>\n",
       "      <td>10:17:24</td>\n",
       "      <td>209400</td>\n",
       "    </tr>\n",
       "  </tbody>\n",
       "</table>\n",
       "<p>1 rows × 58 columns</p>\n",
       "</div>"
      ],
      "text/plain": [
       "       algorithm #Fc   D  percFES         run_1         run_2         run_3  \\\n",
       "0  DE/best/1/bin   1  30      0.7  7.999027e+06  1.137656e+07  8.826684e+06   \n",
       "\n",
       "          run_4         run_5         run_6   ...          run_45  \\\n",
       "0  5.050586e+06  1.238140e+07  4.354625e+06   ...    6.569495e+06   \n",
       "\n",
       "         run_46        run_47        run_48        run_49        run_50  \\\n",
       "0  3.303085e+06  4.168846e+06  6.116909e+06  8.985776e+06  4.030122e+06   \n",
       "\n",
       "         run_51          mean  elapsed_time   evals  \n",
       "0  7.214430e+06  6.544296e+06      10:17:24  209400  \n",
       "\n",
       "[1 rows x 58 columns]"
      ]
     },
     "execution_count": 11,
     "metadata": {},
     "output_type": "execute_result"
    }
   ],
   "source": [
    "df_sumup = pd.DataFrame(columns=['algorithm', '#Fc', 'D', 'percFES'] + ['run_' + str(i) for i in np.arange(1,numRuns+1,1)] + ['mean', 'elapsed_time', 'evals'])\n",
    "df_sumup.loc[df_sumup.shape[0]] = [str(alg), funcId, dim, percMaxEvals] + arr_best_error + [np.mean(arr_best_error), progbar.get_elapsed_time(), alg.fitnessEvals]\n",
    "print ('Saving df_sumup to ', output_filepath + 'df_sumup.tsv')\n",
    "df_sumup.to_csv(output_filepath + 'df_sumup.tsv', sep='\\t')\n",
    "df_sumup"
   ]
  }
 ],
 "metadata": {
  "kernelspec": {
   "display_name": "Python 3",
   "language": "python",
   "name": "python3"
  },
  "language_info": {
   "codemirror_mode": {
    "name": "ipython",
    "version": 3
   },
   "file_extension": ".py",
   "mimetype": "text/x-python",
   "name": "python",
   "nbconvert_exporter": "python",
   "pygments_lexer": "ipython3",
   "version": "3.6.4"
  },
  "papermill": {
   "duration": 37063.253581,
   "end_time": "2019-07-24T12:49:13.687330",
   "environment_variables": {},
   "exception": null,
   "input_path": "./Notebooks/run_de.ipynb",
   "output_path": "./Notebooks/Output_Notebooks\\[de_best_1_bin_1_30_51_300_0.7_0.5_False_None].ipynb",
   "parameters": {
    "active": true,
    "algorithm": "de",
    "crossover": "bin",
    "dim": 30,
    "fitness_clusters": null,
    "funcId": 1,
    "input_data_filepath": "./input_data",
    "lambda_mutation": 0.5,
    "mutation": "best",
    "n_diff": 1,
    "numRuns": 51,
    "opposition": false,
    "percMaxEvals": 0.7,
    "pop_size": 300
   },
   "start_time": "2019-07-24T02:31:30.433749",
   "version": "1.0.1"
  }
 },
 "nbformat": 4,
 "nbformat_minor": 2
}