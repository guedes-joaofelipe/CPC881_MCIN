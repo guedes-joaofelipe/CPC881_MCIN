{
 "cells": [
  {
   "cell_type": "code",
   "execution_count": 1,
   "metadata": {
    "papermill": {
     "duration": 4.552636,
     "end_time": "2019-07-23T02:38:09.283511",
     "exception": false,
     "start_time": "2019-07-23T02:38:04.730875",
     "status": "completed"
    },
    "tags": []
   },
   "outputs": [],
   "source": [
    "import numpy as np\n",
    "import pandas as pd\n",
    "import sys, os, time\n",
    "main_folder = './../'\n",
    "if main_folder not in sys.path:\n",
    "    sys.path.append(main_folder)\n",
    "from evolution import DifferentialEvolution\n",
    "from glob       import glob\n",
    "from tqdm       import tqdm\n",
    "\n",
    "import dirs\n",
    "from utils      import get_solution, ProgressBar, write_log\n",
    "import matplotlib.pyplot as plt \n",
    "\n",
    "progbar = ProgressBar(elapsed_time=True)"
   ]
  },
  {
   "cell_type": "markdown",
   "metadata": {
    "papermill": {
     "duration": 0.027926,
     "end_time": "2019-07-23T02:38:09.336370",
     "exception": false,
     "start_time": "2019-07-23T02:38:09.308444",
     "status": "completed"
    },
    "tags": []
   },
   "source": [
    "### Parameters"
   ]
  },
  {
   "cell_type": "code",
   "execution_count": 2,
   "metadata": {
    "papermill": {
     "duration": 0.069992,
     "end_time": "2019-07-23T02:38:09.508256",
     "exception": false,
     "start_time": "2019-07-23T02:38:09.438264",
     "status": "completed"
    },
    "tags": [
     "parameters"
    ]
   },
   "outputs": [],
   "source": [
    "# Competition Parameters\n",
    "funcId      = 1\n",
    "dim         = 10\n",
    "numRuns     = 2\n",
    "targetError = 1e-8\n",
    "\n",
    "# Algorithm Parameters\n",
    "pop_size = 300\n",
    "percMaxEvals = 1\n",
    "maxEvals = 'auto'\n",
    "maxGenerations = None\n",
    "fitness_clusters = None\n",
    "crossover = 'binonial'\n",
    "mutation = 'best'\n",
    "n_diff = 1\n",
    "lambda_mutation = .5\n",
    "opposition = False\n",
    "input_data_filepath = './../input_data'\n",
    "active = False"
   ]
  },
  {
   "cell_type": "code",
   "execution_count": 3,
   "metadata": {
    "papermill": {
     "duration": 0.043941,
     "end_time": "2019-07-23T02:38:09.632187",
     "exception": false,
     "start_time": "2019-07-23T02:38:09.588246",
     "status": "completed"
    },
    "tags": [
     "injected-parameters"
    ]
   },
   "outputs": [],
   "source": [
    "# Parameters\n",
    "algorithm = \"de\"\n",
    "mutation = \"best\"\n",
    "n_diff = 1\n",
    "crossover = \"bin\"\n",
    "funcId = 7\n",
    "dim = 10\n",
    "numRuns = 51\n",
    "pop_size = 300\n",
    "percMaxEvals = 0.8\n",
    "lambda_mutation = 0.5\n",
    "opposition = False\n",
    "fitness_clusters = None\n",
    "input_data_filepath = \"./input_data\"\n",
    "active = True\n"
   ]
  },
  {
   "cell_type": "code",
   "execution_count": 4,
   "metadata": {
    "papermill": {
     "duration": 0.068029,
     "end_time": "2019-07-23T02:38:09.756197",
     "exception": false,
     "start_time": "2019-07-23T02:38:09.688168",
     "status": "completed"
    },
    "tags": []
   },
   "outputs": [
    {
     "data": {
      "text/plain": [
       "'[7_10_51_300_0.8_0.5_False_None]'"
      ]
     },
     "execution_count": 4,
     "metadata": {},
     "output_type": "execute_result"
    }
   ],
   "source": [
    "maxEvals = maxEvals if percMaxEvals is None else percMaxEvals*10000*dim\n",
    "run_tag = '[' + '_'.join([str(funcId), \n",
    "                          str(dim), \n",
    "                          str(numRuns),\n",
    "                          str(pop_size), \n",
    "                          str(percMaxEvals),                                                     \n",
    "                          '{}'.format(lambda_mutation), \n",
    "                          str(opposition),\n",
    "                          str(fitness_clusters)\n",
    "                         ])  + ']'\n",
    "run_tag"
   ]
  },
  {
   "cell_type": "code",
   "execution_count": 5,
   "metadata": {
    "papermill": {
     "duration": 0.148652,
     "end_time": "2019-07-23T02:38:09.960810",
     "exception": false,
     "start_time": "2019-07-23T02:38:09.812158",
     "status": "completed"
    },
    "tags": []
   },
   "outputs": [
    {
     "name": "stdout",
     "output_type": "stream",
     "text": [
      "Writing log at "
     ]
    },
    {
     "name": "stdout",
     "output_type": "stream",
     "text": [
      " "
     ]
    },
    {
     "name": "stdout",
     "output_type": "stream",
     "text": [
      "./results/DE/best/1/bin/[7_10_51_300_0.8_0.5_False_None]log.tsv"
     ]
    },
    {
     "name": "stdout",
     "output_type": "stream",
     "text": [
      "\n"
     ]
    }
   ],
   "source": [
    "alg = DifferentialEvolution(dim=dim, func_id=funcId, pop_size=pop_size, crossover=crossover, \n",
    "        opposition=opposition, mutation=mutation, lambda_mutation=.5, fitness_clusters=fitness_clusters)\n",
    "\n",
    "output_filepath = os.path.join(dirs.results, str(alg))\n",
    "if not os.path.exists(output_filepath):\n",
    "    os.makedirs(output_filepath)\n",
    "output_filepath = output_filepath + '/' + run_tag\n",
    "\n",
    "print ('Writing log at ', output_filepath + 'log.tsv')\n",
    "write_log(filepath=output_filepath + 'log.tsv', \n",
    "          mode=\"w+\", \n",
    "          text='[{}]\\trun\\telapsedTime\\tsuccessRate\\n'.format(time.strftime(\"%Y-%m-%d %H:%M:%S\", time.gmtime())))  "
   ]
  },
  {
   "cell_type": "code",
   "execution_count": 6,
   "metadata": {
    "papermill": {
     "duration": 17516.89476,
     "end_time": "2019-07-23T07:30:06.973256",
     "exception": false,
     "start_time": "2019-07-23T02:38:10.078496",
     "status": "completed"
    },
    "tags": []
   },
   "outputs": [
    {
     "name": "stdout",
     "output_type": "stream",
     "text": [
      "\r",
      "[0:00:00][----------] 0.00% "
     ]
    },
    {
     "name": "stdout",
     "output_type": "stream",
     "text": [
      "Optimization ended due to max fitness evals (max = 80000.0, curr = 79800)"
     ]
    },
    {
     "name": "stdout",
     "output_type": "stream",
     "text": [
      "\n"
     ]
    },
    {
     "name": "stdout",
     "output_type": "stream",
     "text": [
      "\n",
      "#Generations:\t264"
     ]
    },
    {
     "name": "stdout",
     "output_type": "stream",
     "text": [
      "\n"
     ]
    },
    {
     "name": "stdout",
     "output_type": "stream",
     "text": [
      "#FitnessEvals:\t79800"
     ]
    },
    {
     "name": "stdout",
     "output_type": "stream",
     "text": [
      "\n"
     ]
    },
    {
     "name": "stdout",
     "output_type": "stream",
     "text": [
      "Mean Fitness:\t701.0146"
     ]
    },
    {
     "name": "stdout",
     "output_type": "stream",
     "text": [
      "\n"
     ]
    },
    {
     "name": "stdout",
     "output_type": "stream",
     "text": [
      "Best Fitness:\t700.4865\n",
      "Solution:\t700.0000\n",
      "Diff:\t\t0.4865"
     ]
    },
    {
     "name": "stdout",
     "output_type": "stream",
     "text": [
      "\n"
     ]
    },
    {
     "name": "stdout",
     "output_type": "stream",
     "text": [
      "\r",
      "[0:10:14][----------] 1.96% "
     ]
    },
    {
     "name": "stdout",
     "output_type": "stream",
     "text": [
      "Optimization ended due to max fitness evals (max = 80000.0, curr = 79800)"
     ]
    },
    {
     "name": "stdout",
     "output_type": "stream",
     "text": [
      "\n"
     ]
    },
    {
     "name": "stdout",
     "output_type": "stream",
     "text": [
      "\n",
      "#Generations:\t264"
     ]
    },
    {
     "name": "stdout",
     "output_type": "stream",
     "text": [
      "\n"
     ]
    },
    {
     "name": "stdout",
     "output_type": "stream",
     "text": [
      "#FitnessEvals:\t79800"
     ]
    },
    {
     "name": "stdout",
     "output_type": "stream",
     "text": [
      "\n"
     ]
    },
    {
     "name": "stdout",
     "output_type": "stream",
     "text": [
      "Mean Fitness:\t700.9636"
     ]
    },
    {
     "name": "stdout",
     "output_type": "stream",
     "text": [
      "\n"
     ]
    },
    {
     "name": "stdout",
     "output_type": "stream",
     "text": [
      "Best Fitness:\t700.4411\n",
      "Solution:\t700.0000\n",
      "Diff:\t\t0.4411"
     ]
    },
    {
     "name": "stdout",
     "output_type": "stream",
     "text": [
      "\n"
     ]
    },
    {
     "name": "stdout",
     "output_type": "stream",
     "text": [
      "\r",
      "[0:19:33][----------] 3.92% "
     ]
    },
    {
     "name": "stdout",
     "output_type": "stream",
     "text": [
      "Optimization ended due to max fitness evals (max = 80000.0, curr = 79800)"
     ]
    },
    {
     "name": "stdout",
     "output_type": "stream",
     "text": [
      "\n"
     ]
    },
    {
     "name": "stdout",
     "output_type": "stream",
     "text": [
      "\n",
      "#Generations:\t264"
     ]
    },
    {
     "name": "stdout",
     "output_type": "stream",
     "text": [
      "\n"
     ]
    },
    {
     "name": "stdout",
     "output_type": "stream",
     "text": [
      "#FitnessEvals:\t79800"
     ]
    },
    {
     "name": "stdout",
     "output_type": "stream",
     "text": [
      "\n"
     ]
    },
    {
     "name": "stdout",
     "output_type": "stream",
     "text": [
      "Mean Fitness:\t700.9184"
     ]
    },
    {
     "name": "stdout",
     "output_type": "stream",
     "text": [
      "\n"
     ]
    },
    {
     "name": "stdout",
     "output_type": "stream",
     "text": [
      "Best Fitness:\t700.4156\n",
      "Solution:\t700.0000\n",
      "Diff:\t\t0.4156"
     ]
    },
    {
     "name": "stdout",
     "output_type": "stream",
     "text": [
      "\n"
     ]
    },
    {
     "name": "stdout",
     "output_type": "stream",
     "text": [
      "\r",
      "[0:28:51][#---------] 5.88% "
     ]
    },
    {
     "name": "stdout",
     "output_type": "stream",
     "text": [
      "Optimization ended due to max fitness evals (max = 80000.0, curr = 79800)"
     ]
    },
    {
     "name": "stdout",
     "output_type": "stream",
     "text": [
      "\n"
     ]
    },
    {
     "name": "stdout",
     "output_type": "stream",
     "text": [
      "\n",
      "#Generations:\t264"
     ]
    },
    {
     "name": "stdout",
     "output_type": "stream",
     "text": [
      "\n"
     ]
    },
    {
     "name": "stdout",
     "output_type": "stream",
     "text": [
      "#FitnessEvals:\t79800"
     ]
    },
    {
     "name": "stdout",
     "output_type": "stream",
     "text": [
      "\n"
     ]
    },
    {
     "name": "stdout",
     "output_type": "stream",
     "text": [
      "Mean Fitness:\t701.0054"
     ]
    },
    {
     "name": "stdout",
     "output_type": "stream",
     "text": [
      "\n"
     ]
    },
    {
     "name": "stdout",
     "output_type": "stream",
     "text": [
      "Best Fitness:\t700.6267\n",
      "Solution:\t700.0000\n",
      "Diff:\t\t0.6267"
     ]
    },
    {
     "name": "stdout",
     "output_type": "stream",
     "text": [
      "\n"
     ]
    },
    {
     "name": "stdout",
     "output_type": "stream",
     "text": [
      "\r",
      "[0:38:24][#---------] 7.84% "
     ]
    },
    {
     "name": "stdout",
     "output_type": "stream",
     "text": [
      "Optimization ended due to max fitness evals (max = 80000.0, curr = 79800)"
     ]
    },
    {
     "name": "stdout",
     "output_type": "stream",
     "text": [
      "\n"
     ]
    },
    {
     "name": "stdout",
     "output_type": "stream",
     "text": [
      "\n",
      "#Generations:\t264"
     ]
    },
    {
     "name": "stdout",
     "output_type": "stream",
     "text": [
      "\n"
     ]
    },
    {
     "name": "stdout",
     "output_type": "stream",
     "text": [
      "#FitnessEvals:\t79800"
     ]
    },
    {
     "name": "stdout",
     "output_type": "stream",
     "text": [
      "\n"
     ]
    },
    {
     "name": "stdout",
     "output_type": "stream",
     "text": [
      "Mean Fitness:\t700.9605"
     ]
    },
    {
     "name": "stdout",
     "output_type": "stream",
     "text": [
      "\n"
     ]
    },
    {
     "name": "stdout",
     "output_type": "stream",
     "text": [
      "Best Fitness:\t700.5785\n",
      "Solution:\t700.0000\n",
      "Diff:\t\t0.5785"
     ]
    },
    {
     "name": "stdout",
     "output_type": "stream",
     "text": [
      "\n"
     ]
    },
    {
     "name": "stdout",
     "output_type": "stream",
     "text": [
      "\r",
      "[0:46:36][#---------] 9.80% "
     ]
    },
    {
     "name": "stdout",
     "output_type": "stream",
     "text": [
      "Optimization ended due to max fitness evals (max = 80000.0, curr = 79800)"
     ]
    },
    {
     "name": "stdout",
     "output_type": "stream",
     "text": [
      "\n"
     ]
    },
    {
     "name": "stdout",
     "output_type": "stream",
     "text": [
      "\n",
      "#Generations:\t264"
     ]
    },
    {
     "name": "stdout",
     "output_type": "stream",
     "text": [
      "\n"
     ]
    },
    {
     "name": "stdout",
     "output_type": "stream",
     "text": [
      "#FitnessEvals:\t79800"
     ]
    },
    {
     "name": "stdout",
     "output_type": "stream",
     "text": [
      "\n"
     ]
    },
    {
     "name": "stdout",
     "output_type": "stream",
     "text": [
      "Mean Fitness:\t700.9193"
     ]
    },
    {
     "name": "stdout",
     "output_type": "stream",
     "text": [
      "\n"
     ]
    },
    {
     "name": "stdout",
     "output_type": "stream",
     "text": [
      "Best Fitness:\t700.5373\n",
      "Solution:\t700.0000\n",
      "Diff:\t\t0.5373"
     ]
    },
    {
     "name": "stdout",
     "output_type": "stream",
     "text": [
      "\n"
     ]
    },
    {
     "name": "stdout",
     "output_type": "stream",
     "text": [
      "\r",
      "[0:54:46][#---------] 11.76% "
     ]
    },
    {
     "name": "stdout",
     "output_type": "stream",
     "text": [
      "Optimization ended due to max fitness evals (max = 80000.0, curr = 79800)"
     ]
    },
    {
     "name": "stdout",
     "output_type": "stream",
     "text": [
      "\n"
     ]
    },
    {
     "name": "stdout",
     "output_type": "stream",
     "text": [
      "\n",
      "#Generations:\t264"
     ]
    },
    {
     "name": "stdout",
     "output_type": "stream",
     "text": [
      "\n"
     ]
    },
    {
     "name": "stdout",
     "output_type": "stream",
     "text": [
      "#FitnessEvals:\t79800"
     ]
    },
    {
     "name": "stdout",
     "output_type": "stream",
     "text": [
      "\n"
     ]
    },
    {
     "name": "stdout",
     "output_type": "stream",
     "text": [
      "Mean Fitness:\t700.9745"
     ]
    },
    {
     "name": "stdout",
     "output_type": "stream",
     "text": [
      "\n"
     ]
    },
    {
     "name": "stdout",
     "output_type": "stream",
     "text": [
      "Best Fitness:\t700.5441\n",
      "Solution:\t700.0000\n",
      "Diff:\t\t0.5441"
     ]
    },
    {
     "name": "stdout",
     "output_type": "stream",
     "text": [
      "\n"
     ]
    },
    {
     "name": "stdout",
     "output_type": "stream",
     "text": [
      "\r",
      "[1:02:58][#---------] 13.73% "
     ]
    },
    {
     "name": "stdout",
     "output_type": "stream",
     "text": [
      "Optimization ended due to max fitness evals (max = 80000.0, curr = 79800)"
     ]
    },
    {
     "name": "stdout",
     "output_type": "stream",
     "text": [
      "\n"
     ]
    },
    {
     "name": "stdout",
     "output_type": "stream",
     "text": [
      "\n",
      "#Generations:\t264"
     ]
    },
    {
     "name": "stdout",
     "output_type": "stream",
     "text": [
      "\n"
     ]
    },
    {
     "name": "stdout",
     "output_type": "stream",
     "text": [
      "#FitnessEvals:\t79800"
     ]
    },
    {
     "name": "stdout",
     "output_type": "stream",
     "text": [
      "\n"
     ]
    },
    {
     "name": "stdout",
     "output_type": "stream",
     "text": [
      "Mean Fitness:\t700.9740"
     ]
    },
    {
     "name": "stdout",
     "output_type": "stream",
     "text": [
      "\n"
     ]
    },
    {
     "name": "stdout",
     "output_type": "stream",
     "text": [
      "Best Fitness:\t700.6266\n",
      "Solution:\t700.0000\n",
      "Diff:\t\t0.6266"
     ]
    },
    {
     "name": "stdout",
     "output_type": "stream",
     "text": [
      "\n"
     ]
    },
    {
     "name": "stdout",
     "output_type": "stream",
     "text": [
      "\r",
      "[1:11:13][##--------] 15.69% "
     ]
    },
    {
     "name": "stdout",
     "output_type": "stream",
     "text": [
      "Optimization ended due to max fitness evals (max = 80000.0, curr = 79800)"
     ]
    },
    {
     "name": "stdout",
     "output_type": "stream",
     "text": [
      "\n"
     ]
    },
    {
     "name": "stdout",
     "output_type": "stream",
     "text": [
      "\n",
      "#Generations:\t264"
     ]
    },
    {
     "name": "stdout",
     "output_type": "stream",
     "text": [
      "\n"
     ]
    },
    {
     "name": "stdout",
     "output_type": "stream",
     "text": [
      "#FitnessEvals:\t79800"
     ]
    },
    {
     "name": "stdout",
     "output_type": "stream",
     "text": [
      "\n"
     ]
    },
    {
     "name": "stdout",
     "output_type": "stream",
     "text": [
      "Mean Fitness:\t700.9643"
     ]
    },
    {
     "name": "stdout",
     "output_type": "stream",
     "text": [
      "\n"
     ]
    },
    {
     "name": "stdout",
     "output_type": "stream",
     "text": [
      "Best Fitness:\t700.4194\n",
      "Solution:\t700.0000\n",
      "Diff:\t\t0.4194"
     ]
    },
    {
     "name": "stdout",
     "output_type": "stream",
     "text": [
      "\n"
     ]
    },
    {
     "name": "stdout",
     "output_type": "stream",
     "text": [
      "\r",
      "[1:19:25][##--------] 17.65% "
     ]
    },
    {
     "name": "stdout",
     "output_type": "stream",
     "text": [
      "Optimization ended due to max fitness evals (max = 80000.0, curr = 79800)"
     ]
    },
    {
     "name": "stdout",
     "output_type": "stream",
     "text": [
      "\n"
     ]
    },
    {
     "name": "stdout",
     "output_type": "stream",
     "text": [
      "\n",
      "#Generations:\t264"
     ]
    },
    {
     "name": "stdout",
     "output_type": "stream",
     "text": [
      "\n"
     ]
    },
    {
     "name": "stdout",
     "output_type": "stream",
     "text": [
      "#FitnessEvals:\t79800"
     ]
    },
    {
     "name": "stdout",
     "output_type": "stream",
     "text": [
      "\n"
     ]
    },
    {
     "name": "stdout",
     "output_type": "stream",
     "text": [
      "Mean Fitness:\t700.9222"
     ]
    },
    {
     "name": "stdout",
     "output_type": "stream",
     "text": [
      "\n"
     ]
    },
    {
     "name": "stdout",
     "output_type": "stream",
     "text": [
      "Best Fitness:\t700.4767\n",
      "Solution:\t700.0000\n",
      "Diff:\t\t0.4767"
     ]
    },
    {
     "name": "stdout",
     "output_type": "stream",
     "text": [
      "\n"
     ]
    },
    {
     "name": "stdout",
     "output_type": "stream",
     "text": [
      "\r",
      "[1:27:26][##--------] 19.61% "
     ]
    },
    {
     "name": "stdout",
     "output_type": "stream",
     "text": [
      "Optimization ended due to max fitness evals (max = 80000.0, curr = 79800)"
     ]
    },
    {
     "name": "stdout",
     "output_type": "stream",
     "text": [
      "\n"
     ]
    },
    {
     "name": "stdout",
     "output_type": "stream",
     "text": [
      "\n",
      "#Generations:\t264"
     ]
    },
    {
     "name": "stdout",
     "output_type": "stream",
     "text": [
      "\n"
     ]
    },
    {
     "name": "stdout",
     "output_type": "stream",
     "text": [
      "#FitnessEvals:\t79800"
     ]
    },
    {
     "name": "stdout",
     "output_type": "stream",
     "text": [
      "\n"
     ]
    },
    {
     "name": "stdout",
     "output_type": "stream",
     "text": [
      "Mean Fitness:\t701.0255"
     ]
    },
    {
     "name": "stdout",
     "output_type": "stream",
     "text": [
      "\n"
     ]
    },
    {
     "name": "stdout",
     "output_type": "stream",
     "text": [
      "Best Fitness:\t700.6014\n",
      "Solution:\t700.0000\n",
      "Diff:\t\t0.6014"
     ]
    },
    {
     "name": "stdout",
     "output_type": "stream",
     "text": [
      "\n"
     ]
    },
    {
     "name": "stdout",
     "output_type": "stream",
     "text": [
      "\r",
      "[1:35:32][##--------] 21.57% "
     ]
    },
    {
     "name": "stdout",
     "output_type": "stream",
     "text": [
      "Optimization ended due to max fitness evals (max = 80000.0, curr = 79800)"
     ]
    },
    {
     "name": "stdout",
     "output_type": "stream",
     "text": [
      "\n"
     ]
    },
    {
     "name": "stdout",
     "output_type": "stream",
     "text": [
      "\n",
      "#Generations:\t264"
     ]
    },
    {
     "name": "stdout",
     "output_type": "stream",
     "text": [
      "\n"
     ]
    },
    {
     "name": "stdout",
     "output_type": "stream",
     "text": [
      "#FitnessEvals:\t79800"
     ]
    },
    {
     "name": "stdout",
     "output_type": "stream",
     "text": [
      "\n"
     ]
    },
    {
     "name": "stdout",
     "output_type": "stream",
     "text": [
      "Mean Fitness:\t700.9522"
     ]
    },
    {
     "name": "stdout",
     "output_type": "stream",
     "text": [
      "\n"
     ]
    },
    {
     "name": "stdout",
     "output_type": "stream",
     "text": [
      "Best Fitness:\t700.2994\n",
      "Solution:\t700.0000\n",
      "Diff:\t\t0.2994"
     ]
    },
    {
     "name": "stdout",
     "output_type": "stream",
     "text": [
      "\n"
     ]
    },
    {
     "name": "stdout",
     "output_type": "stream",
     "text": [
      "\r",
      "[1:42:44][##--------] 23.53% "
     ]
    },
    {
     "name": "stdout",
     "output_type": "stream",
     "text": [
      "Optimization ended due to max fitness evals (max = 80000.0, curr = 79800)"
     ]
    },
    {
     "name": "stdout",
     "output_type": "stream",
     "text": [
      "\n"
     ]
    },
    {
     "name": "stdout",
     "output_type": "stream",
     "text": [
      "\n",
      "#Generations:\t264"
     ]
    },
    {
     "name": "stdout",
     "output_type": "stream",
     "text": [
      "\n"
     ]
    },
    {
     "name": "stdout",
     "output_type": "stream",
     "text": [
      "#FitnessEvals:\t79800"
     ]
    },
    {
     "name": "stdout",
     "output_type": "stream",
     "text": [
      "\n"
     ]
    },
    {
     "name": "stdout",
     "output_type": "stream",
     "text": [
      "Mean Fitness:\t700.9858"
     ]
    },
    {
     "name": "stdout",
     "output_type": "stream",
     "text": [
      "\n"
     ]
    },
    {
     "name": "stdout",
     "output_type": "stream",
     "text": [
      "Best Fitness:\t700.6282\n",
      "Solution:\t700.0000\n",
      "Diff:\t\t0.6282"
     ]
    },
    {
     "name": "stdout",
     "output_type": "stream",
     "text": [
      "\n"
     ]
    },
    {
     "name": "stdout",
     "output_type": "stream",
     "text": [
      "\r",
      "[1:50:03][###-------] 25.49% "
     ]
    },
    {
     "name": "stdout",
     "output_type": "stream",
     "text": [
      "Optimization ended due to max fitness evals (max = 80000.0, curr = 79800)"
     ]
    },
    {
     "name": "stdout",
     "output_type": "stream",
     "text": [
      "\n"
     ]
    },
    {
     "name": "stdout",
     "output_type": "stream",
     "text": [
      "\n",
      "#Generations:\t264"
     ]
    },
    {
     "name": "stdout",
     "output_type": "stream",
     "text": [
      "\n"
     ]
    },
    {
     "name": "stdout",
     "output_type": "stream",
     "text": [
      "#FitnessEvals:\t79800"
     ]
    },
    {
     "name": "stdout",
     "output_type": "stream",
     "text": [
      "\n"
     ]
    },
    {
     "name": "stdout",
     "output_type": "stream",
     "text": [
      "Mean Fitness:\t700.9765"
     ]
    },
    {
     "name": "stdout",
     "output_type": "stream",
     "text": [
      "\n"
     ]
    },
    {
     "name": "stdout",
     "output_type": "stream",
     "text": [
      "Best Fitness:\t700.6829\n",
      "Solution:\t700.0000\n",
      "Diff:\t\t0.6829"
     ]
    },
    {
     "name": "stdout",
     "output_type": "stream",
     "text": [
      "\n"
     ]
    },
    {
     "name": "stdout",
     "output_type": "stream",
     "text": [
      "\r",
      "[1:56:57][###-------] 27.45% "
     ]
    },
    {
     "name": "stdout",
     "output_type": "stream",
     "text": [
      "Optimization ended due to max fitness evals (max = 80000.0, curr = 79800)"
     ]
    },
    {
     "name": "stdout",
     "output_type": "stream",
     "text": [
      "\n"
     ]
    },
    {
     "name": "stdout",
     "output_type": "stream",
     "text": [
      "\n",
      "#Generations:\t264"
     ]
    },
    {
     "name": "stdout",
     "output_type": "stream",
     "text": [
      "\n"
     ]
    },
    {
     "name": "stdout",
     "output_type": "stream",
     "text": [
      "#FitnessEvals:\t79800"
     ]
    },
    {
     "name": "stdout",
     "output_type": "stream",
     "text": [
      "\n"
     ]
    },
    {
     "name": "stdout",
     "output_type": "stream",
     "text": [
      "Mean Fitness:\t700.9214"
     ]
    },
    {
     "name": "stdout",
     "output_type": "stream",
     "text": [
      "\n"
     ]
    },
    {
     "name": "stdout",
     "output_type": "stream",
     "text": [
      "Best Fitness:\t700.5300\n",
      "Solution:\t700.0000\n",
      "Diff:\t\t0.5300"
     ]
    },
    {
     "name": "stdout",
     "output_type": "stream",
     "text": [
      "\n"
     ]
    },
    {
     "name": "stdout",
     "output_type": "stream",
     "text": [
      "\r",
      "[2:04:14][###-------] 29.41% "
     ]
    },
    {
     "name": "stdout",
     "output_type": "stream",
     "text": [
      "Optimization ended due to max fitness evals (max = 80000.0, curr = 79800)"
     ]
    },
    {
     "name": "stdout",
     "output_type": "stream",
     "text": [
      "\n"
     ]
    },
    {
     "name": "stdout",
     "output_type": "stream",
     "text": [
      "\n",
      "#Generations:\t264"
     ]
    },
    {
     "name": "stdout",
     "output_type": "stream",
     "text": [
      "\n"
     ]
    },
    {
     "name": "stdout",
     "output_type": "stream",
     "text": [
      "#FitnessEvals:\t79800"
     ]
    },
    {
     "name": "stdout",
     "output_type": "stream",
     "text": [
      "\n"
     ]
    },
    {
     "name": "stdout",
     "output_type": "stream",
     "text": [
      "Mean Fitness:\t700.9477"
     ]
    },
    {
     "name": "stdout",
     "output_type": "stream",
     "text": [
      "\n"
     ]
    },
    {
     "name": "stdout",
     "output_type": "stream",
     "text": [
      "Best Fitness:\t700.3895\n",
      "Solution:\t700.0000\n",
      "Diff:\t\t0.3895"
     ]
    },
    {
     "name": "stdout",
     "output_type": "stream",
     "text": [
      "\n"
     ]
    },
    {
     "name": "stdout",
     "output_type": "stream",
     "text": [
      "\r",
      "[2:11:28][###-------] 31.37% "
     ]
    },
    {
     "name": "stdout",
     "output_type": "stream",
     "text": [
      "Optimization ended due to max fitness evals (max = 80000.0, curr = 79800)"
     ]
    },
    {
     "name": "stdout",
     "output_type": "stream",
     "text": [
      "\n"
     ]
    },
    {
     "name": "stdout",
     "output_type": "stream",
     "text": [
      "\n",
      "#Generations:\t264"
     ]
    },
    {
     "name": "stdout",
     "output_type": "stream",
     "text": [
      "\n"
     ]
    },
    {
     "name": "stdout",
     "output_type": "stream",
     "text": [
      "#FitnessEvals:\t79800"
     ]
    },
    {
     "name": "stdout",
     "output_type": "stream",
     "text": [
      "\n"
     ]
    },
    {
     "name": "stdout",
     "output_type": "stream",
     "text": [
      "Mean Fitness:\t701.0035"
     ]
    },
    {
     "name": "stdout",
     "output_type": "stream",
     "text": [
      "\n"
     ]
    },
    {
     "name": "stdout",
     "output_type": "stream",
     "text": [
      "Best Fitness:\t700.6100\n",
      "Solution:\t700.0000\n",
      "Diff:\t\t0.6100"
     ]
    },
    {
     "name": "stdout",
     "output_type": "stream",
     "text": [
      "\n"
     ]
    },
    {
     "name": "stdout",
     "output_type": "stream",
     "text": [
      "\r",
      "[2:18:21][###-------] 33.33% "
     ]
    },
    {
     "name": "stdout",
     "output_type": "stream",
     "text": [
      "Optimization ended due to max fitness evals (max = 80000.0, curr = 79800)"
     ]
    },
    {
     "name": "stdout",
     "output_type": "stream",
     "text": [
      "\n"
     ]
    },
    {
     "name": "stdout",
     "output_type": "stream",
     "text": [
      "\n",
      "#Generations:\t264"
     ]
    },
    {
     "name": "stdout",
     "output_type": "stream",
     "text": [
      "\n"
     ]
    },
    {
     "name": "stdout",
     "output_type": "stream",
     "text": [
      "#FitnessEvals:\t79800"
     ]
    },
    {
     "name": "stdout",
     "output_type": "stream",
     "text": [
      "\n"
     ]
    },
    {
     "name": "stdout",
     "output_type": "stream",
     "text": [
      "Mean Fitness:\t700.9230"
     ]
    },
    {
     "name": "stdout",
     "output_type": "stream",
     "text": [
      "\n"
     ]
    },
    {
     "name": "stdout",
     "output_type": "stream",
     "text": [
      "Best Fitness:\t700.5079\n",
      "Solution:\t700.0000\n",
      "Diff:\t\t0.5079"
     ]
    },
    {
     "name": "stdout",
     "output_type": "stream",
     "text": [
      "\n"
     ]
    },
    {
     "name": "stdout",
     "output_type": "stream",
     "text": [
      "\r",
      "[2:25:06][####------] 35.29% "
     ]
    },
    {
     "name": "stdout",
     "output_type": "stream",
     "text": [
      "Optimization ended due to max fitness evals (max = 80000.0, curr = 79800)"
     ]
    },
    {
     "name": "stdout",
     "output_type": "stream",
     "text": [
      "\n"
     ]
    },
    {
     "name": "stdout",
     "output_type": "stream",
     "text": [
      "\n",
      "#Generations:\t264"
     ]
    },
    {
     "name": "stdout",
     "output_type": "stream",
     "text": [
      "\n"
     ]
    },
    {
     "name": "stdout",
     "output_type": "stream",
     "text": [
      "#FitnessEvals:\t79800"
     ]
    },
    {
     "name": "stdout",
     "output_type": "stream",
     "text": [
      "\n"
     ]
    },
    {
     "name": "stdout",
     "output_type": "stream",
     "text": [
      "Mean Fitness:\t700.9843"
     ]
    },
    {
     "name": "stdout",
     "output_type": "stream",
     "text": [
      "\n"
     ]
    },
    {
     "name": "stdout",
     "output_type": "stream",
     "text": [
      "Best Fitness:\t700.5449\n",
      "Solution:\t700.0000\n",
      "Diff:\t\t0.5449"
     ]
    },
    {
     "name": "stdout",
     "output_type": "stream",
     "text": [
      "\n"
     ]
    },
    {
     "name": "stdout",
     "output_type": "stream",
     "text": [
      "\r",
      "[2:31:16][####------] 37.25% "
     ]
    },
    {
     "name": "stdout",
     "output_type": "stream",
     "text": [
      "Optimization ended due to max fitness evals (max = 80000.0, curr = 79800)"
     ]
    },
    {
     "name": "stdout",
     "output_type": "stream",
     "text": [
      "\n"
     ]
    },
    {
     "name": "stdout",
     "output_type": "stream",
     "text": [
      "\n",
      "#Generations:\t264"
     ]
    },
    {
     "name": "stdout",
     "output_type": "stream",
     "text": [
      "\n"
     ]
    },
    {
     "name": "stdout",
     "output_type": "stream",
     "text": [
      "#FitnessEvals:\t79800"
     ]
    },
    {
     "name": "stdout",
     "output_type": "stream",
     "text": [
      "\n"
     ]
    },
    {
     "name": "stdout",
     "output_type": "stream",
     "text": [
      "Mean Fitness:\t700.9272"
     ]
    },
    {
     "name": "stdout",
     "output_type": "stream",
     "text": [
      "\n"
     ]
    },
    {
     "name": "stdout",
     "output_type": "stream",
     "text": [
      "Best Fitness:\t700.5220\n",
      "Solution:\t700.0000\n",
      "Diff:\t\t0.5220"
     ]
    },
    {
     "name": "stdout",
     "output_type": "stream",
     "text": [
      "\n"
     ]
    },
    {
     "name": "stdout",
     "output_type": "stream",
     "text": [
      "\r",
      "[2:37:26][####------] 39.22% "
     ]
    },
    {
     "name": "stdout",
     "output_type": "stream",
     "text": [
      "Optimization ended due to max fitness evals (max = 80000.0, curr = 79800)"
     ]
    },
    {
     "name": "stdout",
     "output_type": "stream",
     "text": [
      "\n"
     ]
    },
    {
     "name": "stdout",
     "output_type": "stream",
     "text": [
      "\n",
      "#Generations:\t264"
     ]
    },
    {
     "name": "stdout",
     "output_type": "stream",
     "text": [
      "\n"
     ]
    },
    {
     "name": "stdout",
     "output_type": "stream",
     "text": [
      "#FitnessEvals:\t79800"
     ]
    },
    {
     "name": "stdout",
     "output_type": "stream",
     "text": [
      "\n"
     ]
    },
    {
     "name": "stdout",
     "output_type": "stream",
     "text": [
      "Mean Fitness:\t701.0267"
     ]
    },
    {
     "name": "stdout",
     "output_type": "stream",
     "text": [
      "\n"
     ]
    },
    {
     "name": "stdout",
     "output_type": "stream",
     "text": [
      "Best Fitness:\t700.7533\n",
      "Solution:\t700.0000\n",
      "Diff:\t\t0.7533"
     ]
    },
    {
     "name": "stdout",
     "output_type": "stream",
     "text": [
      "\n"
     ]
    },
    {
     "name": "stdout",
     "output_type": "stream",
     "text": [
      "\r",
      "[2:43:39][####------] 41.18% "
     ]
    },
    {
     "name": "stdout",
     "output_type": "stream",
     "text": [
      "Optimization ended due to max fitness evals (max = 80000.0, curr = 79800)"
     ]
    },
    {
     "name": "stdout",
     "output_type": "stream",
     "text": [
      "\n"
     ]
    },
    {
     "name": "stdout",
     "output_type": "stream",
     "text": [
      "\n",
      "#Generations:\t264"
     ]
    },
    {
     "name": "stdout",
     "output_type": "stream",
     "text": [
      "\n"
     ]
    },
    {
     "name": "stdout",
     "output_type": "stream",
     "text": [
      "#FitnessEvals:\t79800"
     ]
    },
    {
     "name": "stdout",
     "output_type": "stream",
     "text": [
      "\n"
     ]
    },
    {
     "name": "stdout",
     "output_type": "stream",
     "text": [
      "Mean Fitness:\t700.9455"
     ]
    },
    {
     "name": "stdout",
     "output_type": "stream",
     "text": [
      "\n"
     ]
    },
    {
     "name": "stdout",
     "output_type": "stream",
     "text": [
      "Best Fitness:\t700.5948\n",
      "Solution:\t700.0000\n",
      "Diff:\t\t0.5948"
     ]
    },
    {
     "name": "stdout",
     "output_type": "stream",
     "text": [
      "\n"
     ]
    },
    {
     "name": "stdout",
     "output_type": "stream",
     "text": [
      "\r",
      "[2:49:55][####------] 43.14% "
     ]
    },
    {
     "name": "stdout",
     "output_type": "stream",
     "text": [
      "Optimization ended due to max fitness evals (max = 80000.0, curr = 79800)"
     ]
    },
    {
     "name": "stdout",
     "output_type": "stream",
     "text": [
      "\n"
     ]
    },
    {
     "name": "stdout",
     "output_type": "stream",
     "text": [
      "\n",
      "#Generations:\t264"
     ]
    },
    {
     "name": "stdout",
     "output_type": "stream",
     "text": [
      "\n"
     ]
    },
    {
     "name": "stdout",
     "output_type": "stream",
     "text": [
      "#FitnessEvals:\t79800"
     ]
    },
    {
     "name": "stdout",
     "output_type": "stream",
     "text": [
      "\n"
     ]
    },
    {
     "name": "stdout",
     "output_type": "stream",
     "text": [
      "Mean Fitness:\t700.9422"
     ]
    },
    {
     "name": "stdout",
     "output_type": "stream",
     "text": [
      "\n"
     ]
    },
    {
     "name": "stdout",
     "output_type": "stream",
     "text": [
      "Best Fitness:\t700.4916\n",
      "Solution:\t700.0000\n",
      "Diff:\t\t0.4916"
     ]
    },
    {
     "name": "stdout",
     "output_type": "stream",
     "text": [
      "\n"
     ]
    },
    {
     "name": "stdout",
     "output_type": "stream",
     "text": [
      "\r",
      "[2:56:15][#####-----] 45.10% "
     ]
    },
    {
     "name": "stdout",
     "output_type": "stream",
     "text": [
      "Optimization ended due to max fitness evals (max = 80000.0, curr = 79800)"
     ]
    },
    {
     "name": "stdout",
     "output_type": "stream",
     "text": [
      "\n"
     ]
    },
    {
     "name": "stdout",
     "output_type": "stream",
     "text": [
      "\n",
      "#Generations:\t264"
     ]
    },
    {
     "name": "stdout",
     "output_type": "stream",
     "text": [
      "\n"
     ]
    },
    {
     "name": "stdout",
     "output_type": "stream",
     "text": [
      "#FitnessEvals:\t79800"
     ]
    },
    {
     "name": "stdout",
     "output_type": "stream",
     "text": [
      "\n"
     ]
    },
    {
     "name": "stdout",
     "output_type": "stream",
     "text": [
      "Mean Fitness:\t700.9807"
     ]
    },
    {
     "name": "stdout",
     "output_type": "stream",
     "text": [
      "\n"
     ]
    },
    {
     "name": "stdout",
     "output_type": "stream",
     "text": [
      "Best Fitness:\t700.6526\n",
      "Solution:\t700.0000\n",
      "Diff:\t\t0.6526"
     ]
    },
    {
     "name": "stdout",
     "output_type": "stream",
     "text": [
      "\n"
     ]
    },
    {
     "name": "stdout",
     "output_type": "stream",
     "text": [
      "\r",
      "[3:02:16][#####-----] 47.06% "
     ]
    },
    {
     "name": "stdout",
     "output_type": "stream",
     "text": [
      "Optimization ended due to max fitness evals (max = 80000.0, curr = 79800)"
     ]
    },
    {
     "name": "stdout",
     "output_type": "stream",
     "text": [
      "\n"
     ]
    },
    {
     "name": "stdout",
     "output_type": "stream",
     "text": [
      "\n",
      "#Generations:\t264"
     ]
    },
    {
     "name": "stdout",
     "output_type": "stream",
     "text": [
      "\n"
     ]
    },
    {
     "name": "stdout",
     "output_type": "stream",
     "text": [
      "#FitnessEvals:\t79800"
     ]
    },
    {
     "name": "stdout",
     "output_type": "stream",
     "text": [
      "\n"
     ]
    },
    {
     "name": "stdout",
     "output_type": "stream",
     "text": [
      "Mean Fitness:\t701.0661"
     ]
    },
    {
     "name": "stdout",
     "output_type": "stream",
     "text": [
      "\n"
     ]
    },
    {
     "name": "stdout",
     "output_type": "stream",
     "text": [
      "Best Fitness:\t700.5189\n",
      "Solution:\t700.0000\n",
      "Diff:\t\t0.5189"
     ]
    },
    {
     "name": "stdout",
     "output_type": "stream",
     "text": [
      "\n"
     ]
    },
    {
     "name": "stdout",
     "output_type": "stream",
     "text": [
      "\r",
      "[3:08:13][#####-----] 49.02% "
     ]
    },
    {
     "name": "stdout",
     "output_type": "stream",
     "text": [
      "Optimization ended due to max fitness evals (max = 80000.0, curr = 79800)"
     ]
    },
    {
     "name": "stdout",
     "output_type": "stream",
     "text": [
      "\n"
     ]
    },
    {
     "name": "stdout",
     "output_type": "stream",
     "text": [
      "\n",
      "#Generations:\t264"
     ]
    },
    {
     "name": "stdout",
     "output_type": "stream",
     "text": [
      "\n"
     ]
    },
    {
     "name": "stdout",
     "output_type": "stream",
     "text": [
      "#FitnessEvals:\t79800"
     ]
    },
    {
     "name": "stdout",
     "output_type": "stream",
     "text": [
      "\n"
     ]
    },
    {
     "name": "stdout",
     "output_type": "stream",
     "text": [
      "Mean Fitness:\t700.9793"
     ]
    },
    {
     "name": "stdout",
     "output_type": "stream",
     "text": [
      "\n"
     ]
    },
    {
     "name": "stdout",
     "output_type": "stream",
     "text": [
      "Best Fitness:\t700.5715\n",
      "Solution:\t700.0000\n",
      "Diff:\t\t0.5715"
     ]
    },
    {
     "name": "stdout",
     "output_type": "stream",
     "text": [
      "\n"
     ]
    },
    {
     "name": "stdout",
     "output_type": "stream",
     "text": [
      "\r",
      "[3:13:37][#####-----] 50.98% "
     ]
    },
    {
     "name": "stdout",
     "output_type": "stream",
     "text": [
      "Optimization ended due to max fitness evals (max = 80000.0, curr = 79800)"
     ]
    },
    {
     "name": "stdout",
     "output_type": "stream",
     "text": [
      "\n"
     ]
    },
    {
     "name": "stdout",
     "output_type": "stream",
     "text": [
      "\n",
      "#Generations:\t264"
     ]
    },
    {
     "name": "stdout",
     "output_type": "stream",
     "text": [
      "\n"
     ]
    },
    {
     "name": "stdout",
     "output_type": "stream",
     "text": [
      "#FitnessEvals:\t79800"
     ]
    },
    {
     "name": "stdout",
     "output_type": "stream",
     "text": [
      "\n"
     ]
    },
    {
     "name": "stdout",
     "output_type": "stream",
     "text": [
      "Mean Fitness:\t700.9568"
     ]
    },
    {
     "name": "stdout",
     "output_type": "stream",
     "text": [
      "\n"
     ]
    },
    {
     "name": "stdout",
     "output_type": "stream",
     "text": [
      "Best Fitness:\t700.4708\n",
      "Solution:\t700.0000\n",
      "Diff:\t\t0.4708"
     ]
    },
    {
     "name": "stdout",
     "output_type": "stream",
     "text": [
      "\n"
     ]
    },
    {
     "name": "stdout",
     "output_type": "stream",
     "text": [
      "\r",
      "[3:18:54][#####-----] 52.94% "
     ]
    },
    {
     "name": "stdout",
     "output_type": "stream",
     "text": [
      "Optimization ended due to max fitness evals (max = 80000.0, curr = 79800)"
     ]
    },
    {
     "name": "stdout",
     "output_type": "stream",
     "text": [
      "\n"
     ]
    },
    {
     "name": "stdout",
     "output_type": "stream",
     "text": [
      "\n",
      "#Generations:\t264"
     ]
    },
    {
     "name": "stdout",
     "output_type": "stream",
     "text": [
      "\n"
     ]
    },
    {
     "name": "stdout",
     "output_type": "stream",
     "text": [
      "#FitnessEvals:\t79800"
     ]
    },
    {
     "name": "stdout",
     "output_type": "stream",
     "text": [
      "\n"
     ]
    },
    {
     "name": "stdout",
     "output_type": "stream",
     "text": [
      "Mean Fitness:\t700.9299"
     ]
    },
    {
     "name": "stdout",
     "output_type": "stream",
     "text": [
      "\n"
     ]
    },
    {
     "name": "stdout",
     "output_type": "stream",
     "text": [
      "Best Fitness:\t700.4674\n",
      "Solution:\t700.0000\n",
      "Diff:\t\t0.4674"
     ]
    },
    {
     "name": "stdout",
     "output_type": "stream",
     "text": [
      "\n"
     ]
    },
    {
     "name": "stdout",
     "output_type": "stream",
     "text": [
      "\r",
      "[3:24:12][#####-----] 54.90% "
     ]
    },
    {
     "name": "stdout",
     "output_type": "stream",
     "text": [
      "Optimization ended due to max fitness evals (max = 80000.0, curr = 79800)"
     ]
    },
    {
     "name": "stdout",
     "output_type": "stream",
     "text": [
      "\n"
     ]
    },
    {
     "name": "stdout",
     "output_type": "stream",
     "text": [
      "\n",
      "#Generations:\t264"
     ]
    },
    {
     "name": "stdout",
     "output_type": "stream",
     "text": [
      "\n"
     ]
    },
    {
     "name": "stdout",
     "output_type": "stream",
     "text": [
      "#FitnessEvals:\t79800"
     ]
    },
    {
     "name": "stdout",
     "output_type": "stream",
     "text": [
      "\n"
     ]
    },
    {
     "name": "stdout",
     "output_type": "stream",
     "text": [
      "Mean Fitness:\t700.9710"
     ]
    },
    {
     "name": "stdout",
     "output_type": "stream",
     "text": [
      "\n"
     ]
    },
    {
     "name": "stdout",
     "output_type": "stream",
     "text": [
      "Best Fitness:\t700.5819\n",
      "Solution:\t700.0000\n",
      "Diff:\t\t0.5819"
     ]
    },
    {
     "name": "stdout",
     "output_type": "stream",
     "text": [
      "\n"
     ]
    },
    {
     "name": "stdout",
     "output_type": "stream",
     "text": [
      "\r",
      "[3:29:29][######----] 56.86% "
     ]
    },
    {
     "name": "stdout",
     "output_type": "stream",
     "text": [
      "Optimization ended due to max fitness evals (max = 80000.0, curr = 79800)"
     ]
    },
    {
     "name": "stdout",
     "output_type": "stream",
     "text": [
      "\n"
     ]
    },
    {
     "name": "stdout",
     "output_type": "stream",
     "text": [
      "\n",
      "#Generations:\t264"
     ]
    },
    {
     "name": "stdout",
     "output_type": "stream",
     "text": [
      "\n"
     ]
    },
    {
     "name": "stdout",
     "output_type": "stream",
     "text": [
      "#FitnessEvals:\t79800"
     ]
    },
    {
     "name": "stdout",
     "output_type": "stream",
     "text": [
      "\n"
     ]
    },
    {
     "name": "stdout",
     "output_type": "stream",
     "text": [
      "Mean Fitness:\t700.9527"
     ]
    },
    {
     "name": "stdout",
     "output_type": "stream",
     "text": [
      "\n"
     ]
    },
    {
     "name": "stdout",
     "output_type": "stream",
     "text": [
      "Best Fitness:\t700.4949\n",
      "Solution:\t700.0000\n",
      "Diff:\t\t0.4949"
     ]
    },
    {
     "name": "stdout",
     "output_type": "stream",
     "text": [
      "\n"
     ]
    },
    {
     "name": "stdout",
     "output_type": "stream",
     "text": [
      "\r",
      "[3:34:40][######----] 58.82% "
     ]
    },
    {
     "name": "stdout",
     "output_type": "stream",
     "text": [
      "Optimization ended due to max fitness evals (max = 80000.0, curr = 79800)"
     ]
    },
    {
     "name": "stdout",
     "output_type": "stream",
     "text": [
      "\n"
     ]
    },
    {
     "name": "stdout",
     "output_type": "stream",
     "text": [
      "\n",
      "#Generations:\t264"
     ]
    },
    {
     "name": "stdout",
     "output_type": "stream",
     "text": [
      "\n"
     ]
    },
    {
     "name": "stdout",
     "output_type": "stream",
     "text": [
      "#FitnessEvals:\t79800"
     ]
    },
    {
     "name": "stdout",
     "output_type": "stream",
     "text": [
      "\n"
     ]
    },
    {
     "name": "stdout",
     "output_type": "stream",
     "text": [
      "Mean Fitness:\t701.0096"
     ]
    },
    {
     "name": "stdout",
     "output_type": "stream",
     "text": [
      "\n"
     ]
    },
    {
     "name": "stdout",
     "output_type": "stream",
     "text": [
      "Best Fitness:\t700.5182\n",
      "Solution:\t700.0000\n",
      "Diff:\t\t0.5182"
     ]
    },
    {
     "name": "stdout",
     "output_type": "stream",
     "text": [
      "\n"
     ]
    },
    {
     "name": "stdout",
     "output_type": "stream",
     "text": [
      "\r",
      "[3:39:57][######----] 60.78% "
     ]
    },
    {
     "name": "stdout",
     "output_type": "stream",
     "text": [
      "Optimization ended due to max fitness evals (max = 80000.0, curr = 79800)"
     ]
    },
    {
     "name": "stdout",
     "output_type": "stream",
     "text": [
      "\n"
     ]
    },
    {
     "name": "stdout",
     "output_type": "stream",
     "text": [
      "\n",
      "#Generations:\t264"
     ]
    },
    {
     "name": "stdout",
     "output_type": "stream",
     "text": [
      "\n"
     ]
    },
    {
     "name": "stdout",
     "output_type": "stream",
     "text": [
      "#FitnessEvals:\t79800"
     ]
    },
    {
     "name": "stdout",
     "output_type": "stream",
     "text": [
      "\n"
     ]
    },
    {
     "name": "stdout",
     "output_type": "stream",
     "text": [
      "Mean Fitness:\t701.0992"
     ]
    },
    {
     "name": "stdout",
     "output_type": "stream",
     "text": [
      "\n"
     ]
    },
    {
     "name": "stdout",
     "output_type": "stream",
     "text": [
      "Best Fitness:\t700.7555\n",
      "Solution:\t700.0000\n",
      "Diff:\t\t0.7555"
     ]
    },
    {
     "name": "stdout",
     "output_type": "stream",
     "text": [
      "\n"
     ]
    },
    {
     "name": "stdout",
     "output_type": "stream",
     "text": [
      "\r",
      "[3:44:42][######----] 62.75% "
     ]
    },
    {
     "name": "stdout",
     "output_type": "stream",
     "text": [
      "Optimization ended due to max fitness evals (max = 80000.0, curr = 79800)"
     ]
    },
    {
     "name": "stdout",
     "output_type": "stream",
     "text": [
      "\n"
     ]
    },
    {
     "name": "stdout",
     "output_type": "stream",
     "text": [
      "\n",
      "#Generations:\t264"
     ]
    },
    {
     "name": "stdout",
     "output_type": "stream",
     "text": [
      "\n"
     ]
    },
    {
     "name": "stdout",
     "output_type": "stream",
     "text": [
      "#FitnessEvals:\t79800"
     ]
    },
    {
     "name": "stdout",
     "output_type": "stream",
     "text": [
      "\n"
     ]
    },
    {
     "name": "stdout",
     "output_type": "stream",
     "text": [
      "Mean Fitness:\t701.0084"
     ]
    },
    {
     "name": "stdout",
     "output_type": "stream",
     "text": [
      "\n"
     ]
    },
    {
     "name": "stdout",
     "output_type": "stream",
     "text": [
      "Best Fitness:\t700.5532\n",
      "Solution:\t700.0000\n",
      "Diff:\t\t0.5532"
     ]
    },
    {
     "name": "stdout",
     "output_type": "stream",
     "text": [
      "\n"
     ]
    },
    {
     "name": "stdout",
     "output_type": "stream",
     "text": [
      "\r",
      "[3:49:09][######----] 64.71% "
     ]
    },
    {
     "name": "stdout",
     "output_type": "stream",
     "text": [
      "Optimization ended due to max fitness evals (max = 80000.0, curr = 79800)"
     ]
    },
    {
     "name": "stdout",
     "output_type": "stream",
     "text": [
      "\n"
     ]
    },
    {
     "name": "stdout",
     "output_type": "stream",
     "text": [
      "\n",
      "#Generations:\t264"
     ]
    },
    {
     "name": "stdout",
     "output_type": "stream",
     "text": [
      "\n"
     ]
    },
    {
     "name": "stdout",
     "output_type": "stream",
     "text": [
      "#FitnessEvals:\t79800"
     ]
    },
    {
     "name": "stdout",
     "output_type": "stream",
     "text": [
      "\n"
     ]
    },
    {
     "name": "stdout",
     "output_type": "stream",
     "text": [
      "Mean Fitness:\t701.1003"
     ]
    },
    {
     "name": "stdout",
     "output_type": "stream",
     "text": [
      "\n"
     ]
    },
    {
     "name": "stdout",
     "output_type": "stream",
     "text": [
      "Best Fitness:\t700.8101\n",
      "Solution:\t700.0000\n",
      "Diff:\t\t0.8101"
     ]
    },
    {
     "name": "stdout",
     "output_type": "stream",
     "text": [
      "\n"
     ]
    },
    {
     "name": "stdout",
     "output_type": "stream",
     "text": [
      "\r",
      "[3:53:34][#######---] 66.67% "
     ]
    },
    {
     "name": "stdout",
     "output_type": "stream",
     "text": [
      "Optimization ended due to max fitness evals (max = 80000.0, curr = 79800)"
     ]
    },
    {
     "name": "stdout",
     "output_type": "stream",
     "text": [
      "\n"
     ]
    },
    {
     "name": "stdout",
     "output_type": "stream",
     "text": [
      "\n",
      "#Generations:\t264"
     ]
    },
    {
     "name": "stdout",
     "output_type": "stream",
     "text": [
      "\n"
     ]
    },
    {
     "name": "stdout",
     "output_type": "stream",
     "text": [
      "#FitnessEvals:\t79800"
     ]
    },
    {
     "name": "stdout",
     "output_type": "stream",
     "text": [
      "\n"
     ]
    },
    {
     "name": "stdout",
     "output_type": "stream",
     "text": [
      "Mean Fitness:\t700.9679"
     ]
    },
    {
     "name": "stdout",
     "output_type": "stream",
     "text": [
      "\n"
     ]
    },
    {
     "name": "stdout",
     "output_type": "stream",
     "text": [
      "Best Fitness:\t700.4051\n",
      "Solution:\t700.0000\n",
      "Diff:\t\t0.4051"
     ]
    },
    {
     "name": "stdout",
     "output_type": "stream",
     "text": [
      "\n"
     ]
    },
    {
     "name": "stdout",
     "output_type": "stream",
     "text": [
      "\r",
      "[3:57:54][#######---] 68.63% "
     ]
    },
    {
     "name": "stdout",
     "output_type": "stream",
     "text": [
      "Optimization ended due to max fitness evals (max = 80000.0, curr = 79800)"
     ]
    },
    {
     "name": "stdout",
     "output_type": "stream",
     "text": [
      "\n"
     ]
    },
    {
     "name": "stdout",
     "output_type": "stream",
     "text": [
      "\n",
      "#Generations:\t264"
     ]
    },
    {
     "name": "stdout",
     "output_type": "stream",
     "text": [
      "\n"
     ]
    },
    {
     "name": "stdout",
     "output_type": "stream",
     "text": [
      "#FitnessEvals:\t79800"
     ]
    },
    {
     "name": "stdout",
     "output_type": "stream",
     "text": [
      "\n"
     ]
    },
    {
     "name": "stdout",
     "output_type": "stream",
     "text": [
      "Mean Fitness:\t700.9661"
     ]
    },
    {
     "name": "stdout",
     "output_type": "stream",
     "text": [
      "\n"
     ]
    },
    {
     "name": "stdout",
     "output_type": "stream",
     "text": [
      "Best Fitness:\t700.6045\n",
      "Solution:\t700.0000\n",
      "Diff:\t\t0.6045"
     ]
    },
    {
     "name": "stdout",
     "output_type": "stream",
     "text": [
      "\n"
     ]
    },
    {
     "name": "stdout",
     "output_type": "stream",
     "text": [
      "\r",
      "[4:02:14][#######---] 70.59% "
     ]
    },
    {
     "name": "stdout",
     "output_type": "stream",
     "text": [
      "Optimization ended due to max fitness evals (max = 80000.0, curr = 79800)"
     ]
    },
    {
     "name": "stdout",
     "output_type": "stream",
     "text": [
      "\n"
     ]
    },
    {
     "name": "stdout",
     "output_type": "stream",
     "text": [
      "\n",
      "#Generations:\t264"
     ]
    },
    {
     "name": "stdout",
     "output_type": "stream",
     "text": [
      "\n"
     ]
    },
    {
     "name": "stdout",
     "output_type": "stream",
     "text": [
      "#FitnessEvals:\t79800"
     ]
    },
    {
     "name": "stdout",
     "output_type": "stream",
     "text": [
      "\n"
     ]
    },
    {
     "name": "stdout",
     "output_type": "stream",
     "text": [
      "Mean Fitness:\t701.0227"
     ]
    },
    {
     "name": "stdout",
     "output_type": "stream",
     "text": [
      "\n"
     ]
    },
    {
     "name": "stdout",
     "output_type": "stream",
     "text": [
      "Best Fitness:\t700.7125\n",
      "Solution:\t700.0000\n",
      "Diff:\t\t0.7125"
     ]
    },
    {
     "name": "stdout",
     "output_type": "stream",
     "text": [
      "\n"
     ]
    },
    {
     "name": "stdout",
     "output_type": "stream",
     "text": [
      "\r",
      "[4:06:35][#######---] 72.55% "
     ]
    },
    {
     "name": "stdout",
     "output_type": "stream",
     "text": [
      "Optimization ended due to max fitness evals (max = 80000.0, curr = 79800)"
     ]
    },
    {
     "name": "stdout",
     "output_type": "stream",
     "text": [
      "\n"
     ]
    },
    {
     "name": "stdout",
     "output_type": "stream",
     "text": [
      "\n",
      "#Generations:\t264"
     ]
    },
    {
     "name": "stdout",
     "output_type": "stream",
     "text": [
      "\n"
     ]
    },
    {
     "name": "stdout",
     "output_type": "stream",
     "text": [
      "#FitnessEvals:\t79800"
     ]
    },
    {
     "name": "stdout",
     "output_type": "stream",
     "text": [
      "\n"
     ]
    },
    {
     "name": "stdout",
     "output_type": "stream",
     "text": [
      "Mean Fitness:\t700.9760"
     ]
    },
    {
     "name": "stdout",
     "output_type": "stream",
     "text": [
      "\n"
     ]
    },
    {
     "name": "stdout",
     "output_type": "stream",
     "text": [
      "Best Fitness:\t700.6454\n",
      "Solution:\t700.0000\n",
      "Diff:\t\t0.6454"
     ]
    },
    {
     "name": "stdout",
     "output_type": "stream",
     "text": [
      "\n"
     ]
    },
    {
     "name": "stdout",
     "output_type": "stream",
     "text": [
      "\r",
      "[4:10:54][#######---] 74.51% "
     ]
    },
    {
     "name": "stdout",
     "output_type": "stream",
     "text": [
      "Optimization ended due to max fitness evals (max = 80000.0, curr = 79800)"
     ]
    },
    {
     "name": "stdout",
     "output_type": "stream",
     "text": [
      "\n"
     ]
    },
    {
     "name": "stdout",
     "output_type": "stream",
     "text": [
      "\n",
      "#Generations:\t264"
     ]
    },
    {
     "name": "stdout",
     "output_type": "stream",
     "text": [
      "\n"
     ]
    },
    {
     "name": "stdout",
     "output_type": "stream",
     "text": [
      "#FitnessEvals:\t79800"
     ]
    },
    {
     "name": "stdout",
     "output_type": "stream",
     "text": [
      "\n"
     ]
    },
    {
     "name": "stdout",
     "output_type": "stream",
     "text": [
      "Mean Fitness:\t700.9326"
     ]
    },
    {
     "name": "stdout",
     "output_type": "stream",
     "text": [
      "\n"
     ]
    },
    {
     "name": "stdout",
     "output_type": "stream",
     "text": [
      "Best Fitness:\t700.4356\n",
      "Solution:\t700.0000\n",
      "Diff:\t\t0.4356"
     ]
    },
    {
     "name": "stdout",
     "output_type": "stream",
     "text": [
      "\n"
     ]
    },
    {
     "name": "stdout",
     "output_type": "stream",
     "text": [
      "\r",
      "[4:14:33][########--] 76.47% "
     ]
    },
    {
     "name": "stdout",
     "output_type": "stream",
     "text": [
      "Optimization ended due to max fitness evals (max = 80000.0, curr = 79800)"
     ]
    },
    {
     "name": "stdout",
     "output_type": "stream",
     "text": [
      "\n"
     ]
    },
    {
     "name": "stdout",
     "output_type": "stream",
     "text": [
      "\n",
      "#Generations:\t264"
     ]
    },
    {
     "name": "stdout",
     "output_type": "stream",
     "text": [
      "\n"
     ]
    },
    {
     "name": "stdout",
     "output_type": "stream",
     "text": [
      "#FitnessEvals:\t79800"
     ]
    },
    {
     "name": "stdout",
     "output_type": "stream",
     "text": [
      "\n"
     ]
    },
    {
     "name": "stdout",
     "output_type": "stream",
     "text": [
      "Mean Fitness:\t700.9994"
     ]
    },
    {
     "name": "stdout",
     "output_type": "stream",
     "text": [
      "\n"
     ]
    },
    {
     "name": "stdout",
     "output_type": "stream",
     "text": [
      "Best Fitness:\t700.5503\n",
      "Solution:\t700.0000\n",
      "Diff:\t\t0.5503"
     ]
    },
    {
     "name": "stdout",
     "output_type": "stream",
     "text": [
      "\n"
     ]
    },
    {
     "name": "stdout",
     "output_type": "stream",
     "text": [
      "\r",
      "[4:18:02][########--] 78.43% "
     ]
    },
    {
     "name": "stdout",
     "output_type": "stream",
     "text": [
      "Optimization ended due to max fitness evals (max = 80000.0, curr = 79800)"
     ]
    },
    {
     "name": "stdout",
     "output_type": "stream",
     "text": [
      "\n"
     ]
    },
    {
     "name": "stdout",
     "output_type": "stream",
     "text": [
      "\n",
      "#Generations:\t264"
     ]
    },
    {
     "name": "stdout",
     "output_type": "stream",
     "text": [
      "\n"
     ]
    },
    {
     "name": "stdout",
     "output_type": "stream",
     "text": [
      "#FitnessEvals:\t79800"
     ]
    },
    {
     "name": "stdout",
     "output_type": "stream",
     "text": [
      "\n"
     ]
    },
    {
     "name": "stdout",
     "output_type": "stream",
     "text": [
      "Mean Fitness:\t700.8963"
     ]
    },
    {
     "name": "stdout",
     "output_type": "stream",
     "text": [
      "\n"
     ]
    },
    {
     "name": "stdout",
     "output_type": "stream",
     "text": [
      "Best Fitness:\t700.3070\n",
      "Solution:\t700.0000\n",
      "Diff:\t\t0.3070"
     ]
    },
    {
     "name": "stdout",
     "output_type": "stream",
     "text": [
      "\n"
     ]
    },
    {
     "name": "stdout",
     "output_type": "stream",
     "text": [
      "\r",
      "[4:21:32][########--] 80.39% "
     ]
    },
    {
     "name": "stdout",
     "output_type": "stream",
     "text": [
      "Optimization ended due to max fitness evals (max = 80000.0, curr = 79800)"
     ]
    },
    {
     "name": "stdout",
     "output_type": "stream",
     "text": [
      "\n"
     ]
    },
    {
     "name": "stdout",
     "output_type": "stream",
     "text": [
      "\n",
      "#Generations:\t264"
     ]
    },
    {
     "name": "stdout",
     "output_type": "stream",
     "text": [
      "\n"
     ]
    },
    {
     "name": "stdout",
     "output_type": "stream",
     "text": [
      "#FitnessEvals:\t79800"
     ]
    },
    {
     "name": "stdout",
     "output_type": "stream",
     "text": [
      "\n"
     ]
    },
    {
     "name": "stdout",
     "output_type": "stream",
     "text": [
      "Mean Fitness:\t700.9910"
     ]
    },
    {
     "name": "stdout",
     "output_type": "stream",
     "text": [
      "\n"
     ]
    },
    {
     "name": "stdout",
     "output_type": "stream",
     "text": [
      "Best Fitness:\t700.6225\n",
      "Solution:\t700.0000\n",
      "Diff:\t\t0.6225"
     ]
    },
    {
     "name": "stdout",
     "output_type": "stream",
     "text": [
      "\n"
     ]
    },
    {
     "name": "stdout",
     "output_type": "stream",
     "text": [
      "\r",
      "[4:25:00][########--] 82.35% "
     ]
    },
    {
     "name": "stdout",
     "output_type": "stream",
     "text": [
      "Optimization ended due to max fitness evals (max = 80000.0, curr = 79800)"
     ]
    },
    {
     "name": "stdout",
     "output_type": "stream",
     "text": [
      "\n"
     ]
    },
    {
     "name": "stdout",
     "output_type": "stream",
     "text": [
      "\n",
      "#Generations:\t264"
     ]
    },
    {
     "name": "stdout",
     "output_type": "stream",
     "text": [
      "\n"
     ]
    },
    {
     "name": "stdout",
     "output_type": "stream",
     "text": [
      "#FitnessEvals:\t79800"
     ]
    },
    {
     "name": "stdout",
     "output_type": "stream",
     "text": [
      "\n"
     ]
    },
    {
     "name": "stdout",
     "output_type": "stream",
     "text": [
      "Mean Fitness:\t700.9544"
     ]
    },
    {
     "name": "stdout",
     "output_type": "stream",
     "text": [
      "\n"
     ]
    },
    {
     "name": "stdout",
     "output_type": "stream",
     "text": [
      "Best Fitness:\t700.5539\n",
      "Solution:\t700.0000\n",
      "Diff:\t\t0.5539"
     ]
    },
    {
     "name": "stdout",
     "output_type": "stream",
     "text": [
      "\n"
     ]
    },
    {
     "name": "stdout",
     "output_type": "stream",
     "text": [
      "\r",
      "[4:28:29][########--] 84.31% "
     ]
    },
    {
     "name": "stdout",
     "output_type": "stream",
     "text": [
      "Optimization ended due to max fitness evals (max = 80000.0, curr = 79800)"
     ]
    },
    {
     "name": "stdout",
     "output_type": "stream",
     "text": [
      "\n"
     ]
    },
    {
     "name": "stdout",
     "output_type": "stream",
     "text": [
      "\n",
      "#Generations:\t264"
     ]
    },
    {
     "name": "stdout",
     "output_type": "stream",
     "text": [
      "\n"
     ]
    },
    {
     "name": "stdout",
     "output_type": "stream",
     "text": [
      "#FitnessEvals:\t79800"
     ]
    },
    {
     "name": "stdout",
     "output_type": "stream",
     "text": [
      "\n"
     ]
    },
    {
     "name": "stdout",
     "output_type": "stream",
     "text": [
      "Mean Fitness:\t700.9247"
     ]
    },
    {
     "name": "stdout",
     "output_type": "stream",
     "text": [
      "\n"
     ]
    },
    {
     "name": "stdout",
     "output_type": "stream",
     "text": [
      "Best Fitness:\t700.5833\n",
      "Solution:\t700.0000\n",
      "Diff:\t\t0.5833"
     ]
    },
    {
     "name": "stdout",
     "output_type": "stream",
     "text": [
      "\n"
     ]
    },
    {
     "name": "stdout",
     "output_type": "stream",
     "text": [
      "\r",
      "[4:32:08][#########-] 86.27% "
     ]
    },
    {
     "name": "stdout",
     "output_type": "stream",
     "text": [
      "Optimization ended due to max fitness evals (max = 80000.0, curr = 79800)"
     ]
    },
    {
     "name": "stdout",
     "output_type": "stream",
     "text": [
      "\n"
     ]
    },
    {
     "name": "stdout",
     "output_type": "stream",
     "text": [
      "\n",
      "#Generations:\t264"
     ]
    },
    {
     "name": "stdout",
     "output_type": "stream",
     "text": [
      "\n"
     ]
    },
    {
     "name": "stdout",
     "output_type": "stream",
     "text": [
      "#FitnessEvals:\t79800"
     ]
    },
    {
     "name": "stdout",
     "output_type": "stream",
     "text": [
      "\n"
     ]
    },
    {
     "name": "stdout",
     "output_type": "stream",
     "text": [
      "Mean Fitness:\t700.9908"
     ]
    },
    {
     "name": "stdout",
     "output_type": "stream",
     "text": [
      "\n"
     ]
    },
    {
     "name": "stdout",
     "output_type": "stream",
     "text": [
      "Best Fitness:\t700.6652\n",
      "Solution:\t700.0000\n",
      "Diff:\t\t0.6652"
     ]
    },
    {
     "name": "stdout",
     "output_type": "stream",
     "text": [
      "\n"
     ]
    },
    {
     "name": "stdout",
     "output_type": "stream",
     "text": [
      "\r",
      "[4:35:30][#########-] 88.24% "
     ]
    },
    {
     "name": "stdout",
     "output_type": "stream",
     "text": [
      "Optimization ended due to max fitness evals (max = 80000.0, curr = 79800)"
     ]
    },
    {
     "name": "stdout",
     "output_type": "stream",
     "text": [
      "\n"
     ]
    },
    {
     "name": "stdout",
     "output_type": "stream",
     "text": [
      "\n",
      "#Generations:\t264"
     ]
    },
    {
     "name": "stdout",
     "output_type": "stream",
     "text": [
      "\n"
     ]
    },
    {
     "name": "stdout",
     "output_type": "stream",
     "text": [
      "#FitnessEvals:\t79800"
     ]
    },
    {
     "name": "stdout",
     "output_type": "stream",
     "text": [
      "\n"
     ]
    },
    {
     "name": "stdout",
     "output_type": "stream",
     "text": [
      "Mean Fitness:\t700.9890"
     ]
    },
    {
     "name": "stdout",
     "output_type": "stream",
     "text": [
      "\n"
     ]
    },
    {
     "name": "stdout",
     "output_type": "stream",
     "text": [
      "Best Fitness:\t700.6993\n",
      "Solution:\t700.0000\n",
      "Diff:\t\t0.6993"
     ]
    },
    {
     "name": "stdout",
     "output_type": "stream",
     "text": [
      "\n"
     ]
    },
    {
     "name": "stdout",
     "output_type": "stream",
     "text": [
      "\r",
      "[4:38:28][#########-] 90.20% "
     ]
    },
    {
     "name": "stdout",
     "output_type": "stream",
     "text": [
      "Optimization ended due to max fitness evals (max = 80000.0, curr = 79800)"
     ]
    },
    {
     "name": "stdout",
     "output_type": "stream",
     "text": [
      "\n"
     ]
    },
    {
     "name": "stdout",
     "output_type": "stream",
     "text": [
      "\n",
      "#Generations:\t264"
     ]
    },
    {
     "name": "stdout",
     "output_type": "stream",
     "text": [
      "\n"
     ]
    },
    {
     "name": "stdout",
     "output_type": "stream",
     "text": [
      "#FitnessEvals:\t79800"
     ]
    },
    {
     "name": "stdout",
     "output_type": "stream",
     "text": [
      "\n"
     ]
    },
    {
     "name": "stdout",
     "output_type": "stream",
     "text": [
      "Mean Fitness:\t700.8824"
     ]
    },
    {
     "name": "stdout",
     "output_type": "stream",
     "text": [
      "\n"
     ]
    },
    {
     "name": "stdout",
     "output_type": "stream",
     "text": [
      "Best Fitness:\t700.4083\n",
      "Solution:\t700.0000\n",
      "Diff:\t\t0.4083"
     ]
    },
    {
     "name": "stdout",
     "output_type": "stream",
     "text": [
      "\n"
     ]
    },
    {
     "name": "stdout",
     "output_type": "stream",
     "text": [
      "\r",
      "[4:41:08][#########-] 92.16% "
     ]
    },
    {
     "name": "stdout",
     "output_type": "stream",
     "text": [
      "Optimization ended due to max fitness evals (max = 80000.0, curr = 79800)"
     ]
    },
    {
     "name": "stdout",
     "output_type": "stream",
     "text": [
      "\n"
     ]
    },
    {
     "name": "stdout",
     "output_type": "stream",
     "text": [
      "\n",
      "#Generations:\t264"
     ]
    },
    {
     "name": "stdout",
     "output_type": "stream",
     "text": [
      "\n"
     ]
    },
    {
     "name": "stdout",
     "output_type": "stream",
     "text": [
      "#FitnessEvals:\t79800"
     ]
    },
    {
     "name": "stdout",
     "output_type": "stream",
     "text": [
      "\n"
     ]
    },
    {
     "name": "stdout",
     "output_type": "stream",
     "text": [
      "Mean Fitness:\t700.9701"
     ]
    },
    {
     "name": "stdout",
     "output_type": "stream",
     "text": [
      "\n"
     ]
    },
    {
     "name": "stdout",
     "output_type": "stream",
     "text": [
      "Best Fitness:\t700.6349\n",
      "Solution:\t700.0000\n",
      "Diff:\t\t0.6349"
     ]
    },
    {
     "name": "stdout",
     "output_type": "stream",
     "text": [
      "\n"
     ]
    },
    {
     "name": "stdout",
     "output_type": "stream",
     "text": [
      "\r",
      "[4:43:49][#########-] 94.12% "
     ]
    },
    {
     "name": "stdout",
     "output_type": "stream",
     "text": [
      "Optimization ended due to max fitness evals (max = 80000.0, curr = 79800)"
     ]
    },
    {
     "name": "stdout",
     "output_type": "stream",
     "text": [
      "\n"
     ]
    },
    {
     "name": "stdout",
     "output_type": "stream",
     "text": [
      "\n",
      "#Generations:\t264"
     ]
    },
    {
     "name": "stdout",
     "output_type": "stream",
     "text": [
      "\n"
     ]
    },
    {
     "name": "stdout",
     "output_type": "stream",
     "text": [
      "#FitnessEvals:\t79800"
     ]
    },
    {
     "name": "stdout",
     "output_type": "stream",
     "text": [
      "\n"
     ]
    },
    {
     "name": "stdout",
     "output_type": "stream",
     "text": [
      "Mean Fitness:\t701.0831"
     ]
    },
    {
     "name": "stdout",
     "output_type": "stream",
     "text": [
      "\n"
     ]
    },
    {
     "name": "stdout",
     "output_type": "stream",
     "text": [
      "Best Fitness:\t700.7887\n",
      "Solution:\t700.0000\n",
      "Diff:\t\t0.7887"
     ]
    },
    {
     "name": "stdout",
     "output_type": "stream",
     "text": [
      "\n"
     ]
    },
    {
     "name": "stdout",
     "output_type": "stream",
     "text": [
      "\r",
      "[4:46:29][##########] 96.08% "
     ]
    },
    {
     "name": "stdout",
     "output_type": "stream",
     "text": [
      "Optimization ended due to max fitness evals (max = 80000.0, curr = 79800)"
     ]
    },
    {
     "name": "stdout",
     "output_type": "stream",
     "text": [
      "\n"
     ]
    },
    {
     "name": "stdout",
     "output_type": "stream",
     "text": [
      "\n",
      "#Generations:\t264"
     ]
    },
    {
     "name": "stdout",
     "output_type": "stream",
     "text": [
      "\n"
     ]
    },
    {
     "name": "stdout",
     "output_type": "stream",
     "text": [
      "#FitnessEvals:\t79800"
     ]
    },
    {
     "name": "stdout",
     "output_type": "stream",
     "text": [
      "\n"
     ]
    },
    {
     "name": "stdout",
     "output_type": "stream",
     "text": [
      "Mean Fitness:\t701.0243"
     ]
    },
    {
     "name": "stdout",
     "output_type": "stream",
     "text": [
      "\n"
     ]
    },
    {
     "name": "stdout",
     "output_type": "stream",
     "text": [
      "Best Fitness:\t700.7497\n",
      "Solution:\t700.0000\n",
      "Diff:\t\t0.7497"
     ]
    },
    {
     "name": "stdout",
     "output_type": "stream",
     "text": [
      "\n"
     ]
    },
    {
     "name": "stdout",
     "output_type": "stream",
     "text": [
      "\r",
      "[4:49:08][##########] 98.04% "
     ]
    },
    {
     "name": "stdout",
     "output_type": "stream",
     "text": [
      "Optimization ended due to max fitness evals (max = 80000.0, curr = 79800)"
     ]
    },
    {
     "name": "stdout",
     "output_type": "stream",
     "text": [
      "\n"
     ]
    },
    {
     "name": "stdout",
     "output_type": "stream",
     "text": [
      "\n",
      "#Generations:\t264"
     ]
    },
    {
     "name": "stdout",
     "output_type": "stream",
     "text": [
      "\n"
     ]
    },
    {
     "name": "stdout",
     "output_type": "stream",
     "text": [
      "#FitnessEvals:\t79800"
     ]
    },
    {
     "name": "stdout",
     "output_type": "stream",
     "text": [
      "\n"
     ]
    },
    {
     "name": "stdout",
     "output_type": "stream",
     "text": [
      "Mean Fitness:\t700.9330"
     ]
    },
    {
     "name": "stdout",
     "output_type": "stream",
     "text": [
      "\n"
     ]
    },
    {
     "name": "stdout",
     "output_type": "stream",
     "text": [
      "Best Fitness:\t700.4848\n",
      "Solution:\t700.0000\n",
      "Diff:\t\t0.4848"
     ]
    },
    {
     "name": "stdout",
     "output_type": "stream",
     "text": [
      "\n"
     ]
    },
    {
     "name": "stdout",
     "output_type": "stream",
     "text": [
      "\r",
      "[4:51:56][##########] 100.00% Done...\r\n"
     ]
    }
   ],
   "source": [
    "hist = pd.DataFrame()\n",
    "arr_runs = range(numRuns)\n",
    "solution = get_solution(funcId, dim, input_data_filepath=input_data_filepath)\n",
    "successRate = 0\n",
    "for idx_run in arr_runs:\n",
    "    progbar.update_progress(idx_run/float(len(arr_runs)))\n",
    "    \n",
    "    # Differential Evolution\n",
    "    alg = DifferentialEvolution(dim=dim, func_id=funcId, pop_size=pop_size, crossover=crossover, \n",
    "        opposition=opposition, mutation=mutation, lambda_mutation=.5, fitness_clusters=fitness_clusters)\n",
    "    \n",
    "    errorHist, fitnessHist = alg.optimize(target=solution, max_f_evals=maxEvals, target_error=targetError, verbose=True)        \n",
    "    bestError = errorHist.iloc[-1,:].min()\n",
    "    errorHist[\"run\"] = np.ones(errorHist.shape[0], dtype=int)*idx_run\n",
    "    hist = pd.concat([hist, errorHist], ignore_index=False)    \n",
    "    if bestError <= targetError:\n",
    "        print (\"Target error achieved with error {}\".format(bestError))\n",
    "        successRate += 1\n",
    "    \n",
    "    write_log(filepath=output_filepath + 'log.tsv', \n",
    "              text='[{}]\\t{}/{}\\t{}\\t{}\\n'.format(time.strftime(\"%Y-%m-%d %H:%M:%S\", time.gmtime()), \n",
    "                                              idx_run+1,\n",
    "                                              len(arr_runs),\n",
    "                                              progbar.get_elapsed_time(),\n",
    "                                              successRate)\n",
    "             )\n",
    "    \n",
    "hist.index.name = 'generation'\n",
    "hist.to_csv(output_filepath + 'hist.tsv', sep='\\t')\n",
    "progbar.update_progress(1)"
   ]
  },
  {
   "cell_type": "code",
   "execution_count": 7,
   "metadata": {
    "papermill": {
     "duration": 0.252325,
     "end_time": "2019-07-23T07:30:07.465939",
     "exception": false,
     "start_time": "2019-07-23T07:30:07.213614",
     "status": "completed"
    },
    "tags": []
   },
   "outputs": [
    {
     "name": "stdout",
     "output_type": "stream",
     "text": [
      "Elapsed Time: "
     ]
    },
    {
     "name": "stdout",
     "output_type": "stream",
     "text": [
      " "
     ]
    },
    {
     "name": "stdout",
     "output_type": "stream",
     "text": [
      "4:51:56"
     ]
    },
    {
     "name": "stdout",
     "output_type": "stream",
     "text": [
      "\n"
     ]
    }
   ],
   "source": [
    "print (\"Elapsed Time: \", progbar.get_elapsed_time())"
   ]
  },
  {
   "cell_type": "code",
   "execution_count": 8,
   "metadata": {
    "papermill": {
     "duration": 0.219414,
     "end_time": "2019-07-23T07:30:07.891801",
     "exception": false,
     "start_time": "2019-07-23T07:30:07.672387",
     "status": "completed"
    },
    "tags": []
   },
   "outputs": [
    {
     "data": {
      "text/html": [
       "<div>\n",
       "<style scoped>\n",
       "    .dataframe tbody tr th:only-of-type {\n",
       "        vertical-align: middle;\n",
       "    }\n",
       "\n",
       "    .dataframe tbody tr th {\n",
       "        vertical-align: top;\n",
       "    }\n",
       "\n",
       "    .dataframe thead th {\n",
       "        text-align: right;\n",
       "    }\n",
       "</style>\n",
       "<table border=\"1\" class=\"dataframe\">\n",
       "  <thead>\n",
       "    <tr style=\"text-align: right;\">\n",
       "      <th></th>\n",
       "      <th>0</th>\n",
       "      <th>1</th>\n",
       "      <th>2</th>\n",
       "      <th>3</th>\n",
       "      <th>4</th>\n",
       "      <th>5</th>\n",
       "      <th>6</th>\n",
       "      <th>7</th>\n",
       "      <th>8</th>\n",
       "      <th>9</th>\n",
       "      <th>...</th>\n",
       "      <th>291</th>\n",
       "      <th>292</th>\n",
       "      <th>293</th>\n",
       "      <th>294</th>\n",
       "      <th>295</th>\n",
       "      <th>296</th>\n",
       "      <th>297</th>\n",
       "      <th>298</th>\n",
       "      <th>299</th>\n",
       "      <th>run</th>\n",
       "    </tr>\n",
       "    <tr>\n",
       "      <th>generation</th>\n",
       "      <th></th>\n",
       "      <th></th>\n",
       "      <th></th>\n",
       "      <th></th>\n",
       "      <th></th>\n",
       "      <th></th>\n",
       "      <th></th>\n",
       "      <th></th>\n",
       "      <th></th>\n",
       "      <th></th>\n",
       "      <th></th>\n",
       "      <th></th>\n",
       "      <th></th>\n",
       "      <th></th>\n",
       "      <th></th>\n",
       "      <th></th>\n",
       "      <th></th>\n",
       "      <th></th>\n",
       "      <th></th>\n",
       "      <th></th>\n",
       "      <th></th>\n",
       "    </tr>\n",
       "  </thead>\n",
       "  <tbody>\n",
       "    <tr>\n",
       "      <th>259</th>\n",
       "      <td>0.89043</td>\n",
       "      <td>0.885098</td>\n",
       "      <td>1.031752</td>\n",
       "      <td>0.992159</td>\n",
       "      <td>1.008786</td>\n",
       "      <td>1.000263</td>\n",
       "      <td>1.020457</td>\n",
       "      <td>1.026133</td>\n",
       "      <td>1.027549</td>\n",
       "      <td>0.961145</td>\n",
       "      <td>...</td>\n",
       "      <td>0.985251</td>\n",
       "      <td>1.012842</td>\n",
       "      <td>0.923277</td>\n",
       "      <td>0.986855</td>\n",
       "      <td>0.78088</td>\n",
       "      <td>1.004617</td>\n",
       "      <td>0.823848</td>\n",
       "      <td>1.013732</td>\n",
       "      <td>0.991852</td>\n",
       "      <td>50</td>\n",
       "    </tr>\n",
       "    <tr>\n",
       "      <th>260</th>\n",
       "      <td>0.89043</td>\n",
       "      <td>0.885098</td>\n",
       "      <td>1.031752</td>\n",
       "      <td>0.992159</td>\n",
       "      <td>1.008786</td>\n",
       "      <td>0.939864</td>\n",
       "      <td>1.020457</td>\n",
       "      <td>1.026133</td>\n",
       "      <td>1.027549</td>\n",
       "      <td>0.961145</td>\n",
       "      <td>...</td>\n",
       "      <td>0.985251</td>\n",
       "      <td>1.012842</td>\n",
       "      <td>0.923277</td>\n",
       "      <td>0.986855</td>\n",
       "      <td>0.78088</td>\n",
       "      <td>1.004617</td>\n",
       "      <td>0.823848</td>\n",
       "      <td>1.013732</td>\n",
       "      <td>0.991852</td>\n",
       "      <td>50</td>\n",
       "    </tr>\n",
       "    <tr>\n",
       "      <th>261</th>\n",
       "      <td>0.89043</td>\n",
       "      <td>0.885098</td>\n",
       "      <td>1.031752</td>\n",
       "      <td>0.992159</td>\n",
       "      <td>1.008786</td>\n",
       "      <td>0.939864</td>\n",
       "      <td>1.020457</td>\n",
       "      <td>1.026133</td>\n",
       "      <td>1.027549</td>\n",
       "      <td>0.961145</td>\n",
       "      <td>...</td>\n",
       "      <td>0.985251</td>\n",
       "      <td>1.012842</td>\n",
       "      <td>0.923277</td>\n",
       "      <td>0.986855</td>\n",
       "      <td>0.78088</td>\n",
       "      <td>1.004617</td>\n",
       "      <td>0.823848</td>\n",
       "      <td>1.013732</td>\n",
       "      <td>0.991852</td>\n",
       "      <td>50</td>\n",
       "    </tr>\n",
       "    <tr>\n",
       "      <th>262</th>\n",
       "      <td>0.89043</td>\n",
       "      <td>0.885098</td>\n",
       "      <td>1.031752</td>\n",
       "      <td>0.992159</td>\n",
       "      <td>1.008786</td>\n",
       "      <td>0.939864</td>\n",
       "      <td>1.020457</td>\n",
       "      <td>1.026133</td>\n",
       "      <td>1.027549</td>\n",
       "      <td>0.961145</td>\n",
       "      <td>...</td>\n",
       "      <td>0.985251</td>\n",
       "      <td>1.012842</td>\n",
       "      <td>0.923277</td>\n",
       "      <td>0.986855</td>\n",
       "      <td>0.78088</td>\n",
       "      <td>1.004617</td>\n",
       "      <td>0.823848</td>\n",
       "      <td>1.013732</td>\n",
       "      <td>0.991852</td>\n",
       "      <td>50</td>\n",
       "    </tr>\n",
       "    <tr>\n",
       "      <th>263</th>\n",
       "      <td>0.89043</td>\n",
       "      <td>0.885098</td>\n",
       "      <td>1.031752</td>\n",
       "      <td>0.992159</td>\n",
       "      <td>1.008786</td>\n",
       "      <td>0.939864</td>\n",
       "      <td>1.020457</td>\n",
       "      <td>1.026133</td>\n",
       "      <td>1.027549</td>\n",
       "      <td>0.961145</td>\n",
       "      <td>...</td>\n",
       "      <td>0.985251</td>\n",
       "      <td>1.012842</td>\n",
       "      <td>0.923277</td>\n",
       "      <td>0.986855</td>\n",
       "      <td>0.78088</td>\n",
       "      <td>1.004617</td>\n",
       "      <td>0.823848</td>\n",
       "      <td>1.013732</td>\n",
       "      <td>0.991852</td>\n",
       "      <td>50</td>\n",
       "    </tr>\n",
       "  </tbody>\n",
       "</table>\n",
       "<p>5 rows × 301 columns</p>\n",
       "</div>"
      ],
      "text/plain": [
       "                  0         1         2         3         4         5  \\\n",
       "generation                                                              \n",
       "259         0.89043  0.885098  1.031752  0.992159  1.008786  1.000263   \n",
       "260         0.89043  0.885098  1.031752  0.992159  1.008786  0.939864   \n",
       "261         0.89043  0.885098  1.031752  0.992159  1.008786  0.939864   \n",
       "262         0.89043  0.885098  1.031752  0.992159  1.008786  0.939864   \n",
       "263         0.89043  0.885098  1.031752  0.992159  1.008786  0.939864   \n",
       "\n",
       "                   6         7         8         9 ...        291       292  \\\n",
       "generation                                         ...                        \n",
       "259         1.020457  1.026133  1.027549  0.961145 ...   0.985251  1.012842   \n",
       "260         1.020457  1.026133  1.027549  0.961145 ...   0.985251  1.012842   \n",
       "261         1.020457  1.026133  1.027549  0.961145 ...   0.985251  1.012842   \n",
       "262         1.020457  1.026133  1.027549  0.961145 ...   0.985251  1.012842   \n",
       "263         1.020457  1.026133  1.027549  0.961145 ...   0.985251  1.012842   \n",
       "\n",
       "                 293       294      295       296       297       298  \\\n",
       "generation                                                              \n",
       "259         0.923277  0.986855  0.78088  1.004617  0.823848  1.013732   \n",
       "260         0.923277  0.986855  0.78088  1.004617  0.823848  1.013732   \n",
       "261         0.923277  0.986855  0.78088  1.004617  0.823848  1.013732   \n",
       "262         0.923277  0.986855  0.78088  1.004617  0.823848  1.013732   \n",
       "263         0.923277  0.986855  0.78088  1.004617  0.823848  1.013732   \n",
       "\n",
       "                 299  run  \n",
       "generation                 \n",
       "259         0.991852   50  \n",
       "260         0.991852   50  \n",
       "261         0.991852   50  \n",
       "262         0.991852   50  \n",
       "263         0.991852   50  \n",
       "\n",
       "[5 rows x 301 columns]"
      ]
     },
     "execution_count": 8,
     "metadata": {},
     "output_type": "execute_result"
    }
   ],
   "source": [
    "errorHist.tail()"
   ]
  },
  {
   "cell_type": "code",
   "execution_count": 9,
   "metadata": {
    "papermill": {
     "duration": 0.483708,
     "end_time": "2019-07-23T07:30:08.573978",
     "exception": false,
     "start_time": "2019-07-23T07:30:08.090270",
     "status": "completed"
    },
    "tags": []
   },
   "outputs": [
    {
     "name": "stdout",
     "output_type": "stream",
     "text": [
      "Best error for run 0: 0.48654899261850915"
     ]
    },
    {
     "name": "stdout",
     "output_type": "stream",
     "text": [
      "\n"
     ]
    },
    {
     "name": "stdout",
     "output_type": "stream",
     "text": [
      "Best error for run 1: 0.4411102063598946"
     ]
    },
    {
     "name": "stdout",
     "output_type": "stream",
     "text": [
      "\n"
     ]
    },
    {
     "name": "stdout",
     "output_type": "stream",
     "text": [
      "Best error for run 2: 0.4155619897039742"
     ]
    },
    {
     "name": "stdout",
     "output_type": "stream",
     "text": [
      "\n"
     ]
    },
    {
     "name": "stdout",
     "output_type": "stream",
     "text": [
      "Best error for run 3: 0.6267241835539608"
     ]
    },
    {
     "name": "stdout",
     "output_type": "stream",
     "text": [
      "\n"
     ]
    },
    {
     "name": "stdout",
     "output_type": "stream",
     "text": [
      "Best error for run 4: 0.5784625781809609"
     ]
    },
    {
     "name": "stdout",
     "output_type": "stream",
     "text": [
      "\n"
     ]
    },
    {
     "name": "stdout",
     "output_type": "stream",
     "text": [
      "Best error for run 5: 0.5372670107434487"
     ]
    },
    {
     "name": "stdout",
     "output_type": "stream",
     "text": [
      "\n"
     ]
    },
    {
     "name": "stdout",
     "output_type": "stream",
     "text": [
      "Best error for run 6: 0.5440964791276883"
     ]
    },
    {
     "name": "stdout",
     "output_type": "stream",
     "text": [
      "\n"
     ]
    },
    {
     "name": "stdout",
     "output_type": "stream",
     "text": [
      "Best error for run 7: 0.6266116977901675"
     ]
    },
    {
     "name": "stdout",
     "output_type": "stream",
     "text": [
      "\n"
     ]
    },
    {
     "name": "stdout",
     "output_type": "stream",
     "text": [
      "Best error for run 8: 0.41936718751094304"
     ]
    },
    {
     "name": "stdout",
     "output_type": "stream",
     "text": [
      "\n"
     ]
    },
    {
     "name": "stdout",
     "output_type": "stream",
     "text": [
      "Best error for run 9: 0.47673223709625745"
     ]
    },
    {
     "name": "stdout",
     "output_type": "stream",
     "text": [
      "\n"
     ]
    },
    {
     "name": "stdout",
     "output_type": "stream",
     "text": [
      "Best error for run 10: 0.6014395834546349"
     ]
    },
    {
     "name": "stdout",
     "output_type": "stream",
     "text": [
      "\n"
     ]
    },
    {
     "name": "stdout",
     "output_type": "stream",
     "text": [
      "Best error for run 11: 0.2994242666256923"
     ]
    },
    {
     "name": "stdout",
     "output_type": "stream",
     "text": [
      "\n"
     ]
    },
    {
     "name": "stdout",
     "output_type": "stream",
     "text": [
      "Best error for run 12: 0.6282084051549646"
     ]
    },
    {
     "name": "stdout",
     "output_type": "stream",
     "text": [
      "\n"
     ]
    },
    {
     "name": "stdout",
     "output_type": "stream",
     "text": [
      "Best error for run 13: 0.6829297128449525"
     ]
    },
    {
     "name": "stdout",
     "output_type": "stream",
     "text": [
      "\n"
     ]
    },
    {
     "name": "stdout",
     "output_type": "stream",
     "text": [
      "Best error for run 14: 0.5299509578836705"
     ]
    },
    {
     "name": "stdout",
     "output_type": "stream",
     "text": [
      "\n"
     ]
    },
    {
     "name": "stdout",
     "output_type": "stream",
     "text": [
      "Best error for run 15: 0.38954693155994846"
     ]
    },
    {
     "name": "stdout",
     "output_type": "stream",
     "text": [
      "\n"
     ]
    },
    {
     "name": "stdout",
     "output_type": "stream",
     "text": [
      "Best error for run 16: 0.6099793498740382"
     ]
    },
    {
     "name": "stdout",
     "output_type": "stream",
     "text": [
      "\n"
     ]
    },
    {
     "name": "stdout",
     "output_type": "stream",
     "text": [
      "Best error for run 17: 0.5079225199845041"
     ]
    },
    {
     "name": "stdout",
     "output_type": "stream",
     "text": [
      "\n"
     ]
    },
    {
     "name": "stdout",
     "output_type": "stream",
     "text": [
      "Best error for run 18: 0.5449066200354764"
     ]
    },
    {
     "name": "stdout",
     "output_type": "stream",
     "text": [
      "\n"
     ]
    },
    {
     "name": "stdout",
     "output_type": "stream",
     "text": [
      "Best error for run 19: 0.5220182207124253"
     ]
    },
    {
     "name": "stdout",
     "output_type": "stream",
     "text": [
      "\n"
     ]
    },
    {
     "name": "stdout",
     "output_type": "stream",
     "text": [
      "Best error for run 20: 0.7533125302377357"
     ]
    },
    {
     "name": "stdout",
     "output_type": "stream",
     "text": [
      "\n"
     ]
    },
    {
     "name": "stdout",
     "output_type": "stream",
     "text": [
      "Best error for run 21: 0.5947944284731648"
     ]
    },
    {
     "name": "stdout",
     "output_type": "stream",
     "text": [
      "\n"
     ]
    },
    {
     "name": "stdout",
     "output_type": "stream",
     "text": [
      "Best error for run 22: 0.4915947234823079"
     ]
    },
    {
     "name": "stdout",
     "output_type": "stream",
     "text": [
      "\n"
     ]
    },
    {
     "name": "stdout",
     "output_type": "stream",
     "text": [
      "Best error for run 23: 0.6525981546861885"
     ]
    },
    {
     "name": "stdout",
     "output_type": "stream",
     "text": [
      "\n"
     ]
    },
    {
     "name": "stdout",
     "output_type": "stream",
     "text": [
      "Best error for run 24: 0.5189090689273144"
     ]
    },
    {
     "name": "stdout",
     "output_type": "stream",
     "text": [
      "\n"
     ]
    },
    {
     "name": "stdout",
     "output_type": "stream",
     "text": [
      "Best error for run 25: 0.571516559308975"
     ]
    },
    {
     "name": "stdout",
     "output_type": "stream",
     "text": [
      "\n"
     ]
    },
    {
     "name": "stdout",
     "output_type": "stream",
     "text": [
      "Best error for run 26: 0.47084737492309614"
     ]
    },
    {
     "name": "stdout",
     "output_type": "stream",
     "text": [
      "\n"
     ]
    },
    {
     "name": "stdout",
     "output_type": "stream",
     "text": [
      "Best error for run 27: 0.46743397872626247"
     ]
    },
    {
     "name": "stdout",
     "output_type": "stream",
     "text": [
      "\n"
     ]
    },
    {
     "name": "stdout",
     "output_type": "stream",
     "text": [
      "Best error for run 28: 0.5818573356639263"
     ]
    },
    {
     "name": "stdout",
     "output_type": "stream",
     "text": [
      "\n"
     ]
    },
    {
     "name": "stdout",
     "output_type": "stream",
     "text": [
      "Best error for run 29: 0.49491340079123347"
     ]
    },
    {
     "name": "stdout",
     "output_type": "stream",
     "text": [
      "\n"
     ]
    },
    {
     "name": "stdout",
     "output_type": "stream",
     "text": [
      "Best error for run 30: 0.5182156319316391"
     ]
    },
    {
     "name": "stdout",
     "output_type": "stream",
     "text": [
      "\n"
     ]
    },
    {
     "name": "stdout",
     "output_type": "stream",
     "text": [
      "Best error for run 31: 0.7555298420755889"
     ]
    },
    {
     "name": "stdout",
     "output_type": "stream",
     "text": [
      "\n"
     ]
    },
    {
     "name": "stdout",
     "output_type": "stream",
     "text": [
      "Best error for run 32: 0.5532456335844245"
     ]
    },
    {
     "name": "stdout",
     "output_type": "stream",
     "text": [
      "\n"
     ]
    },
    {
     "name": "stdout",
     "output_type": "stream",
     "text": [
      "Best error for run 33: 0.8101394544456753"
     ]
    },
    {
     "name": "stdout",
     "output_type": "stream",
     "text": [
      "\n"
     ]
    },
    {
     "name": "stdout",
     "output_type": "stream",
     "text": [
      "Best error for run 34: 0.4050694261186436"
     ]
    },
    {
     "name": "stdout",
     "output_type": "stream",
     "text": [
      "\n"
     ]
    },
    {
     "name": "stdout",
     "output_type": "stream",
     "text": [
      "Best error for run 35: 0.6044780436908468"
     ]
    },
    {
     "name": "stdout",
     "output_type": "stream",
     "text": [
      "\n"
     ]
    },
    {
     "name": "stdout",
     "output_type": "stream",
     "text": [
      "Best error for run 36: 0.7124673845103189"
     ]
    },
    {
     "name": "stdout",
     "output_type": "stream",
     "text": [
      "\n"
     ]
    },
    {
     "name": "stdout",
     "output_type": "stream",
     "text": [
      "Best error for run 37: 0.6454439941358032"
     ]
    },
    {
     "name": "stdout",
     "output_type": "stream",
     "text": [
      "\n"
     ]
    },
    {
     "name": "stdout",
     "output_type": "stream",
     "text": [
      "Best error for run 38: 0.4355640141392314"
     ]
    },
    {
     "name": "stdout",
     "output_type": "stream",
     "text": [
      "\n"
     ]
    },
    {
     "name": "stdout",
     "output_type": "stream",
     "text": [
      "Best error for run 39: 0.5503463133626383"
     ]
    },
    {
     "name": "stdout",
     "output_type": "stream",
     "text": [
      "\n"
     ]
    },
    {
     "name": "stdout",
     "output_type": "stream",
     "text": [
      "Best error for run 40: 0.3069874436985174"
     ]
    },
    {
     "name": "stdout",
     "output_type": "stream",
     "text": [
      "\n"
     ]
    },
    {
     "name": "stdout",
     "output_type": "stream",
     "text": [
      "Best error for run 41: 0.6224831836012754"
     ]
    },
    {
     "name": "stdout",
     "output_type": "stream",
     "text": [
      "\n"
     ]
    },
    {
     "name": "stdout",
     "output_type": "stream",
     "text": [
      "Best error for run 42: 0.553891527310725"
     ]
    },
    {
     "name": "stdout",
     "output_type": "stream",
     "text": [
      "\n"
     ]
    },
    {
     "name": "stdout",
     "output_type": "stream",
     "text": [
      "Best error for run 43: 0.5833018615429637"
     ]
    },
    {
     "name": "stdout",
     "output_type": "stream",
     "text": [
      "\n"
     ]
    },
    {
     "name": "stdout",
     "output_type": "stream",
     "text": [
      "Best error for run 44: 0.6651728281656233"
     ]
    },
    {
     "name": "stdout",
     "output_type": "stream",
     "text": [
      "\n"
     ]
    },
    {
     "name": "stdout",
     "output_type": "stream",
     "text": [
      "Best error for run 45: 0.6992806417708834"
     ]
    },
    {
     "name": "stdout",
     "output_type": "stream",
     "text": [
      "\n"
     ]
    },
    {
     "name": "stdout",
     "output_type": "stream",
     "text": [
      "Best error for run 46: 0.4082639939791761"
     ]
    },
    {
     "name": "stdout",
     "output_type": "stream",
     "text": [
      "\n"
     ]
    },
    {
     "name": "stdout",
     "output_type": "stream",
     "text": [
      "Best error for run 47: 0.6348800231924088"
     ]
    },
    {
     "name": "stdout",
     "output_type": "stream",
     "text": [
      "\n"
     ]
    },
    {
     "name": "stdout",
     "output_type": "stream",
     "text": [
      "Best error for run 48: 0.788689084951443"
     ]
    },
    {
     "name": "stdout",
     "output_type": "stream",
     "text": [
      "\n"
     ]
    },
    {
     "name": "stdout",
     "output_type": "stream",
     "text": [
      "Best error for run 49: 0.7496714956815822"
     ]
    },
    {
     "name": "stdout",
     "output_type": "stream",
     "text": [
      "\n"
     ]
    },
    {
     "name": "stdout",
     "output_type": "stream",
     "text": [
      "Best error for run 50: 0.4847579122528032"
     ]
    },
    {
     "name": "stdout",
     "output_type": "stream",
     "text": [
      "\n"
     ]
    }
   ],
   "source": [
    "arr_error = list()\n",
    "arr_best_error = list()\n",
    "for run in hist['run'].unique():\n",
    "    df_run = hist[hist['run'] == run].drop(['run'], axis=1) \n",
    "    bestError = df_run.iloc[-1,:].min()    \n",
    "    arr_best_error.append(bestError)    \n",
    "    print ('Best error for run {}: {}'.format(run, bestError))\n",
    "    arr_error.append(np.array(df_run.min(axis=1)))    \n",
    "arr_error = np.array(arr_error)\n",
    "# arr_error"
   ]
  },
  {
   "cell_type": "code",
   "execution_count": 10,
   "metadata": {
    "papermill": {
     "duration": 0.706113,
     "end_time": "2019-07-23T07:30:09.535408",
     "exception": false,
     "start_time": "2019-07-23T07:30:08.829295",
     "status": "completed"
    },
    "tags": []
   },
   "outputs": [
    {
     "data": {
      "image/png": "[encoded data removed]",
      "text/plain": [
       "<matplotlib.figure.Figure at 0x2b58b3f14e0>"
      ]
     },
     "metadata": {},
     "output_type": "display_data"
    }
   ],
   "source": [
    "fig, ax = plt.subplots(nrows=1, ncols=1, figsize=(10,10))\n",
    "label = 'Success Rate: {}%\\nMin Error Fitness: {}'.format(100*(successRate/float(numRuns)), arr_error.min())\n",
    "ax.errorbar(np.arange(alg.generations), arr_error.mean(axis=0), yerr=arr_error.std(axis=0), label=label)\n",
    "ax2 = ax.twinx()\n",
    "ax2.plot(np.arange(alg.generations), 20*np.log(arr_error.mean(axis=0)), label='Mean Min Error (dB)', color='red')\n",
    "ax2.set_ylabel('Mean Minimum Error (dB)')\n",
    "\n",
    "ax.grid(True)\n",
    "ax.set_ylabel('Mean Minimum Error')\n",
    "ax.legend()\n",
    "ax.set_xlabel('Generation')\n",
    "ax.set_title('Error Fitness Function {} (Solution = {})'.format(funcId, solution))\n",
    "plt.savefig(output_filepath + 'mean_error_evolution.jpeg', bbox_inches = 'tight')"
   ]
  },
  {
   "cell_type": "code",
   "execution_count": 11,
   "metadata": {
    "papermill": {
     "duration": 0.366021,
     "end_time": "2019-07-23T07:30:10.110869",
     "exception": false,
     "start_time": "2019-07-23T07:30:09.744848",
     "status": "completed"
    },
    "tags": []
   },
   "outputs": [
    {
     "name": "stdout",
     "output_type": "stream",
     "text": [
      "Saving df_sumup to "
     ]
    },
    {
     "name": "stdout",
     "output_type": "stream",
     "text": [
      " "
     ]
    },
    {
     "name": "stdout",
     "output_type": "stream",
     "text": [
      "./results/DE/best/1/bin/[7_10_51_300_0.8_0.5_False_None]df_sumup.tsv"
     ]
    },
    {
     "name": "stdout",
     "output_type": "stream",
     "text": [
      "\n"
     ]
    },
    {
     "data": {
      "text/html": [
       "<div>\n",
       "<style scoped>\n",
       "    .dataframe tbody tr th:only-of-type {\n",
       "        vertical-align: middle;\n",
       "    }\n",
       "\n",
       "    .dataframe tbody tr th {\n",
       "        vertical-align: top;\n",
       "    }\n",
       "\n",
       "    .dataframe thead th {\n",
       "        text-align: right;\n",
       "    }\n",
       "</style>\n",
       "<table border=\"1\" class=\"dataframe\">\n",
       "  <thead>\n",
       "    <tr style=\"text-align: right;\">\n",
       "      <th></th>\n",
       "      <th>algorithm</th>\n",
       "      <th>#Fc</th>\n",
       "      <th>D</th>\n",
       "      <th>percFES</th>\n",
       "      <th>run_1</th>\n",
       "      <th>run_2</th>\n",
       "      <th>run_3</th>\n",
       "      <th>run_4</th>\n",
       "      <th>run_5</th>\n",
       "      <th>run_6</th>\n",
       "      <th>...</th>\n",
       "      <th>run_45</th>\n",
       "      <th>run_46</th>\n",
       "      <th>run_47</th>\n",
       "      <th>run_48</th>\n",
       "      <th>run_49</th>\n",
       "      <th>run_50</th>\n",
       "      <th>run_51</th>\n",
       "      <th>mean</th>\n",
       "      <th>elapsed_time</th>\n",
       "      <th>evals</th>\n",
       "    </tr>\n",
       "  </thead>\n",
       "  <tbody>\n",
       "    <tr>\n",
       "      <th>0</th>\n",
       "      <td>DE/best/1/bin</td>\n",
       "      <td>7</td>\n",
       "      <td>10</td>\n",
       "      <td>0.8</td>\n",
       "      <td>0.486549</td>\n",
       "      <td>0.44111</td>\n",
       "      <td>0.415562</td>\n",
       "      <td>0.626724</td>\n",
       "      <td>0.578463</td>\n",
       "      <td>0.537267</td>\n",
       "      <td>...</td>\n",
       "      <td>0.665173</td>\n",
       "      <td>0.699281</td>\n",
       "      <td>0.408264</td>\n",
       "      <td>0.63488</td>\n",
       "      <td>0.788689</td>\n",
       "      <td>0.749671</td>\n",
       "      <td>0.484758</td>\n",
       "      <td>0.559891</td>\n",
       "      <td>4:51:56</td>\n",
       "      <td>79800</td>\n",
       "    </tr>\n",
       "  </tbody>\n",
       "</table>\n",
       "<p>1 rows × 58 columns</p>\n",
       "</div>"
      ],
      "text/plain": [
       "       algorithm #Fc   D  percFES     run_1    run_2     run_3     run_4  \\\n",
       "0  DE/best/1/bin   7  10      0.8  0.486549  0.44111  0.415562  0.626724   \n",
       "\n",
       "      run_5     run_6  ...      run_45    run_46    run_47   run_48    run_49  \\\n",
       "0  0.578463  0.537267  ...    0.665173  0.699281  0.408264  0.63488  0.788689   \n",
       "\n",
       "     run_50    run_51      mean  elapsed_time  evals  \n",
       "0  0.749671  0.484758  0.559891       4:51:56  79800  \n",
       "\n",
       "[1 rows x 58 columns]"
      ]
     },
     "execution_count": 11,
     "metadata": {},
     "output_type": "execute_result"
    }
   ],
   "source": [
    "df_sumup = pd.DataFrame(columns=['algorithm', '#Fc', 'D', 'percFES'] + ['run_' + str(i) for i in np.arange(1,numRuns+1,1)] + ['mean', 'elapsed_time', 'evals'])\n",
    "df_sumup.loc[df_sumup.shape[0]] = [str(alg), funcId, dim, percMaxEvals] + arr_best_error + [np.mean(arr_best_error), progbar.get_elapsed_time(), alg.fitnessEvals]\n",
    "print ('Saving df_sumup to ', output_filepath + 'df_sumup.tsv')\n",
    "df_sumup.to_csv(output_filepath + 'df_sumup.tsv', sep='\\t')\n",
    "df_sumup"
   ]
  }
 ],
 "metadata": {
  "kernelspec": {
   "display_name": "Python 3",
   "language": "python",
   "name": "python3"
  },
  "language_info": {
   "codemirror_mode": {
    "name": "ipython",
    "version": 3
   },
   "file_extension": ".py",
   "mimetype": "text/x-python",
   "name": "python",
   "nbconvert_exporter": "python",
   "pygments_lexer": "ipython3",
   "version": "3.6.4"
  },
  "papermill": {
   "duration": 17534.114774,
   "end_time": "2019-07-23T07:30:11.753478",
   "environment_variables": {},
   "exception": null,
   "input_path": "./Notebooks/run_de.ipynb",
   "output_path": "./Notebooks/Output_Notebooks\\[de_best_1_bin_7_10_51_300_0.8_0.5_False_None].ipynb",
   "parameters": {
    "active": true,
    "algorithm": "de",
    "crossover": "bin",
    "dim": 10,
    "fitness_clusters": null,
    "funcId": 7,
    "input_data_filepath": "./input_data",
    "lambda_mutation": 0.5,
    "mutation": "best",
    "n_diff": 1,
    "numRuns": 51,
    "opposition": false,
    "percMaxEvals": 0.8,
    "pop_size": 300
   },
   "start_time": "2019-07-23T02:37:57.638704",
   "version": "1.0.1"
  }
 },
 "nbformat": 4,
 "nbformat_minor": 2
}