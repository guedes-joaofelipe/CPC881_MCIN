{
 "cells": [
  {
   "cell_type": "code",
   "execution_count": 6,
   "metadata": {},
   "outputs": [],
   "source": [
    "import numpy as np\n",
    "import pandas as pd\n",
    "import sys, os, time\n",
    "main_folder = './../'\n",
    "if main_folder not in sys.path:\n",
    "    sys.path.append(main_folder)\n",
    "from evolution import DifferentialEvolution\n",
    "from glob       import glob\n",
    "from tqdm       import tqdm\n",
    "\n",
    "import dirs\n",
    "from utils      import get_solution, ProgressBar, write_log\n",
    "import matplotlib.pyplot as plt \n",
    "\n",
    "progbar = ProgressBar(elapsed_time=True)"
   ]
  },
  {
   "cell_type": "markdown",
   "metadata": {},
   "source": [
    "### Parameters"
   ]
  },
  {
   "cell_type": "code",
   "execution_count": 2,
   "metadata": {
    "tags": [
     "parameters"
    ]
   },
   "outputs": [],
   "source": [
    "# Competition Parameters\n",
    "funcId      = 1\n",
    "dim         = 10\n",
    "numRuns     = 2\n",
    "targetError = 1e-8\n",
    "\n",
    "# Algorithm Parameters\n",
    "pop_size = 300\n",
    "percMaxEvals = 1\n",
    "maxEvals = 'auto'\n",
    "maxGenerations = None\n",
    "fitness_clusters = None\n",
    "crossover = 'binonial'\n",
    "mutation = 'best'\n",
    "n_diff = 1\n",
    "lambda_mutation = .5\n",
    "opposition = False\n",
    "input_data_filepath = './../input_data'\n",
    "active = False"
   ]
  },
  {
   "cell_type": "code",
   "execution_count": 3,
   "metadata": {},
   "outputs": [
    {
     "data": {
      "text/plain": [
       "'[1_10_2_300_1_0.5_False_None]'"
      ]
     },
     "execution_count": 3,
     "metadata": {},
     "output_type": "execute_result"
    }
   ],
   "source": [
    "maxEvals = maxEvals if percMaxEvals is None else percMaxEvals*10000*dim\n",
    "run_tag = '[' + '_'.join([str(funcId), \n",
    "                          str(dim), \n",
    "                          str(numRuns),\n",
    "                          str(pop_size), \n",
    "                          str(percMaxEvals),                                                     \n",
    "                          '{}'.format(lambda_mutation), \n",
    "                          str(opposition),\n",
    "                          str(fitness_clusters)\n",
    "                         ])  + ']'\n",
    "run_tag"
   ]
  },
  {
   "cell_type": "code",
   "execution_count": 10,
   "metadata": {},
   "outputs": [
    {
     "name": "stdout",
     "output_type": "stream",
     "text": [
      "Writing log at  ./results/DE/best/1/bin/[1_10_2_300_1_0.5_False_None]log.tsv\n"
     ]
    }
   ],
   "source": [
    "alg = DifferentialEvolution(dim=dim, func_id=funcId, pop_size=pop_size, crossover=crossover, \n",
    "        opposition=opposition, mutation=mutation, lambda_mutation=.5, fitness_clusters=fitness_clusters)\n",
    "\n",
    "output_filepath = os.path.join(dirs.results, str(alg))\n",
    "if not os.path.exists(output_filepath):\n",
    "    os.makedirs(output_filepath)\n",
    "output_filepath = output_filepath + '/' + run_tag\n",
    "\n",
    "print ('Writing log at ', output_filepath + 'log.tsv')\n",
    "write_log(filepath=output_filepath + 'log.tsv', \n",
    "          mode=\"w+\", \n",
    "          text='[{}]\\trun\\telapsedTime\\tsuccessRate\\n'.format(time.strftime(\"%Y-%m-%d %H:%M:%S\", time.gmtime())))  "
   ]
  },
  {
   "cell_type": "code",
   "execution_count": 13,
   "metadata": {},
   "outputs": [
    {
     "name": "stdout",
     "output_type": "stream",
     "text": [
      "[0:00:00][----------] 0.00% Optimization ended due to max fitness evals (max = 100000, curr = 99900)\n",
      "\n",
      "#Generations:\t331\n",
      "#FitnessEvals:\t99900\n",
      "Mean Fitness:\t108.7750\n",
      "Best Fitness:\t101.2548\n",
      "Solution:\t100.0000\n",
      "Diff:\t\t1.2548\n",
      "[0:02:22][#####-----] 50.00% Optimization ended due to max fitness evals (max = 100000, curr = 99900)\n",
      "\n",
      "#Generations:\t331\n",
      "#FitnessEvals:\t99900\n",
      "Mean Fitness:\t110.6572\n",
      "Best Fitness:\t102.3049\n",
      "Solution:\t100.0000\n",
      "Diff:\t\t2.3049\n",
      "[0:04:45][##########] 100.00% Done...\n"
     ]
    }
   ],
   "source": [
    "hist = pd.DataFrame()\n",
    "arr_runs = range(numRuns)\n",
    "solution = get_solution(funcId, dim, input_data_filepath=input_data_filepath)\n",
    "successRate = 0\n",
    "for idx_run in arr_runs:\n",
    "    progbar.update_progress(idx_run/float(len(arr_runs)))\n",
    "    \n",
    "    # Differential Evolution\n",
    "    alg = DifferentialEvolution(dim=dim, func_id=funcId, pop_size=pop_size, crossover=crossover, \n",
    "        opposition=opposition, mutation=mutation, lambda_mutation=.5, fitness_clusters=fitness_clusters)\n",
    "    \n",
    "    errorHist, fitnessHist = alg.optimize(target=solution, max_f_evals=maxEvals, target_error=targetError, verbose=True)        \n",
    "    bestError = errorHist.iloc[-1,:].min()\n",
    "    errorHist[\"run\"] = np.ones(errorHist.shape[0], dtype=int)*idx_run\n",
    "    hist = pd.concat([hist, errorHist], ignore_index=False)    \n",
    "    if bestError <= targetError:\n",
    "        print (\"Target error achieved with error {}\".format(bestError))\n",
    "        successRate += 1\n",
    "    \n",
    "    write_log(filepath=output_filepath + 'log.tsv', \n",
    "              text='[{}]\\t{}/{}\\t{}\\t{}\\n'.format(time.strftime(\"%Y-%m-%d %H:%M:%S\", time.gmtime()), \n",
    "                                              idx_run+1,\n",
    "                                              len(arr_runs),\n",
    "                                              progbar.get_elapsed_time(),\n",
    "                                              successRate)\n",
    "             )\n",
    "    \n",
    "hist.index.name = 'generation'\n",
    "hist.to_csv(output_filepath + 'hist.tsv', sep='\\t')\n",
    "progbar.update_progress(1)"
   ]
  },
  {
   "cell_type": "code",
   "execution_count": 14,
   "metadata": {},
   "outputs": [
    {
     "name": "stdout",
     "output_type": "stream",
     "text": [
      "Elapsed Time:  0:04:45\n"
     ]
    }
   ],
   "source": [
    "print (\"Elapsed Time: \", progbar.get_elapsed_time())"
   ]
  },
  {
   "cell_type": "code",
   "execution_count": 15,
   "metadata": {},
   "outputs": [
    {
     "data": {
      "text/html": [
       "<div>\n",
       "<style scoped>\n",
       "    .dataframe tbody tr th:only-of-type {\n",
       "        vertical-align: middle;\n",
       "    }\n",
       "\n",
       "    .dataframe tbody tr th {\n",
       "        vertical-align: top;\n",
       "    }\n",
       "\n",
       "    .dataframe thead th {\n",
       "        text-align: right;\n",
       "    }\n",
       "</style>\n",
       "<table border=\"1\" class=\"dataframe\">\n",
       "  <thead>\n",
       "    <tr style=\"text-align: right;\">\n",
       "      <th></th>\n",
       "      <th>0</th>\n",
       "      <th>1</th>\n",
       "      <th>2</th>\n",
       "      <th>3</th>\n",
       "      <th>4</th>\n",
       "      <th>5</th>\n",
       "      <th>6</th>\n",
       "      <th>7</th>\n",
       "      <th>8</th>\n",
       "      <th>9</th>\n",
       "      <th>...</th>\n",
       "      <th>291</th>\n",
       "      <th>292</th>\n",
       "      <th>293</th>\n",
       "      <th>294</th>\n",
       "      <th>295</th>\n",
       "      <th>296</th>\n",
       "      <th>297</th>\n",
       "      <th>298</th>\n",
       "      <th>299</th>\n",
       "      <th>run</th>\n",
       "    </tr>\n",
       "    <tr>\n",
       "      <th>generation</th>\n",
       "      <th></th>\n",
       "      <th></th>\n",
       "      <th></th>\n",
       "      <th></th>\n",
       "      <th></th>\n",
       "      <th></th>\n",
       "      <th></th>\n",
       "      <th></th>\n",
       "      <th></th>\n",
       "      <th></th>\n",
       "      <th></th>\n",
       "      <th></th>\n",
       "      <th></th>\n",
       "      <th></th>\n",
       "      <th></th>\n",
       "      <th></th>\n",
       "      <th></th>\n",
       "      <th></th>\n",
       "      <th></th>\n",
       "      <th></th>\n",
       "      <th></th>\n",
       "    </tr>\n",
       "  </thead>\n",
       "  <tbody>\n",
       "    <tr>\n",
       "      <th>326</th>\n",
       "      <td>14.875881</td>\n",
       "      <td>9.075979</td>\n",
       "      <td>5.590868</td>\n",
       "      <td>12.349594</td>\n",
       "      <td>5.618836</td>\n",
       "      <td>11.382662</td>\n",
       "      <td>9.44572</td>\n",
       "      <td>5.708685</td>\n",
       "      <td>11.412976</td>\n",
       "      <td>10.543052</td>\n",
       "      <td>...</td>\n",
       "      <td>13.566161</td>\n",
       "      <td>5.903511</td>\n",
       "      <td>15.613954</td>\n",
       "      <td>12.332765</td>\n",
       "      <td>8.141611</td>\n",
       "      <td>9.276734</td>\n",
       "      <td>13.519232</td>\n",
       "      <td>20.082359</td>\n",
       "      <td>7.036256</td>\n",
       "      <td>1</td>\n",
       "    </tr>\n",
       "    <tr>\n",
       "      <th>327</th>\n",
       "      <td>14.875881</td>\n",
       "      <td>9.075979</td>\n",
       "      <td>5.590868</td>\n",
       "      <td>9.749157</td>\n",
       "      <td>5.618836</td>\n",
       "      <td>10.677946</td>\n",
       "      <td>9.44572</td>\n",
       "      <td>5.708685</td>\n",
       "      <td>11.412976</td>\n",
       "      <td>5.380548</td>\n",
       "      <td>...</td>\n",
       "      <td>13.566161</td>\n",
       "      <td>5.903511</td>\n",
       "      <td>15.613954</td>\n",
       "      <td>12.332765</td>\n",
       "      <td>8.141611</td>\n",
       "      <td>9.276734</td>\n",
       "      <td>13.519232</td>\n",
       "      <td>20.082359</td>\n",
       "      <td>7.036256</td>\n",
       "      <td>1</td>\n",
       "    </tr>\n",
       "    <tr>\n",
       "      <th>328</th>\n",
       "      <td>14.875881</td>\n",
       "      <td>9.075979</td>\n",
       "      <td>5.590868</td>\n",
       "      <td>9.749157</td>\n",
       "      <td>5.618836</td>\n",
       "      <td>10.677946</td>\n",
       "      <td>5.51690</td>\n",
       "      <td>5.708685</td>\n",
       "      <td>11.412976</td>\n",
       "      <td>5.380548</td>\n",
       "      <td>...</td>\n",
       "      <td>13.566161</td>\n",
       "      <td>5.903511</td>\n",
       "      <td>15.613954</td>\n",
       "      <td>8.625658</td>\n",
       "      <td>3.748108</td>\n",
       "      <td>9.276734</td>\n",
       "      <td>13.519232</td>\n",
       "      <td>20.082359</td>\n",
       "      <td>7.036256</td>\n",
       "      <td>1</td>\n",
       "    </tr>\n",
       "    <tr>\n",
       "      <th>329</th>\n",
       "      <td>13.827464</td>\n",
       "      <td>9.075979</td>\n",
       "      <td>5.590868</td>\n",
       "      <td>9.749157</td>\n",
       "      <td>5.618836</td>\n",
       "      <td>10.677946</td>\n",
       "      <td>5.51690</td>\n",
       "      <td>5.708685</td>\n",
       "      <td>11.412976</td>\n",
       "      <td>5.380548</td>\n",
       "      <td>...</td>\n",
       "      <td>13.566161</td>\n",
       "      <td>5.903511</td>\n",
       "      <td>15.613954</td>\n",
       "      <td>5.027812</td>\n",
       "      <td>3.748108</td>\n",
       "      <td>9.276734</td>\n",
       "      <td>13.519232</td>\n",
       "      <td>18.516392</td>\n",
       "      <td>7.036256</td>\n",
       "      <td>1</td>\n",
       "    </tr>\n",
       "    <tr>\n",
       "      <th>330</th>\n",
       "      <td>13.827464</td>\n",
       "      <td>9.075979</td>\n",
       "      <td>4.670027</td>\n",
       "      <td>9.749157</td>\n",
       "      <td>5.618836</td>\n",
       "      <td>8.673390</td>\n",
       "      <td>5.51690</td>\n",
       "      <td>5.708685</td>\n",
       "      <td>11.412976</td>\n",
       "      <td>5.380548</td>\n",
       "      <td>...</td>\n",
       "      <td>13.566161</td>\n",
       "      <td>5.903511</td>\n",
       "      <td>15.613954</td>\n",
       "      <td>5.027812</td>\n",
       "      <td>3.748108</td>\n",
       "      <td>9.276734</td>\n",
       "      <td>10.580690</td>\n",
       "      <td>18.516392</td>\n",
       "      <td>7.036256</td>\n",
       "      <td>1</td>\n",
       "    </tr>\n",
       "  </tbody>\n",
       "</table>\n",
       "<p>5 rows × 301 columns</p>\n",
       "</div>"
      ],
      "text/plain": [
       "                    0         1         2          3         4          5  \\\n",
       "generation                                                                  \n",
       "326         14.875881  9.075979  5.590868  12.349594  5.618836  11.382662   \n",
       "327         14.875881  9.075979  5.590868   9.749157  5.618836  10.677946   \n",
       "328         14.875881  9.075979  5.590868   9.749157  5.618836  10.677946   \n",
       "329         13.827464  9.075979  5.590868   9.749157  5.618836  10.677946   \n",
       "330         13.827464  9.075979  4.670027   9.749157  5.618836   8.673390   \n",
       "\n",
       "                  6         7          8          9 ...         291       292  \\\n",
       "generation                                          ...                         \n",
       "326         9.44572  5.708685  11.412976  10.543052 ...   13.566161  5.903511   \n",
       "327         9.44572  5.708685  11.412976   5.380548 ...   13.566161  5.903511   \n",
       "328         5.51690  5.708685  11.412976   5.380548 ...   13.566161  5.903511   \n",
       "329         5.51690  5.708685  11.412976   5.380548 ...   13.566161  5.903511   \n",
       "330         5.51690  5.708685  11.412976   5.380548 ...   13.566161  5.903511   \n",
       "\n",
       "                  293        294       295       296        297        298  \\\n",
       "generation                                                                   \n",
       "326         15.613954  12.332765  8.141611  9.276734  13.519232  20.082359   \n",
       "327         15.613954  12.332765  8.141611  9.276734  13.519232  20.082359   \n",
       "328         15.613954   8.625658  3.748108  9.276734  13.519232  20.082359   \n",
       "329         15.613954   5.027812  3.748108  9.276734  13.519232  18.516392   \n",
       "330         15.613954   5.027812  3.748108  9.276734  10.580690  18.516392   \n",
       "\n",
       "                 299  run  \n",
       "generation                 \n",
       "326         7.036256    1  \n",
       "327         7.036256    1  \n",
       "328         7.036256    1  \n",
       "329         7.036256    1  \n",
       "330         7.036256    1  \n",
       "\n",
       "[5 rows x 301 columns]"
      ]
     },
     "execution_count": 15,
     "metadata": {},
     "output_type": "execute_result"
    }
   ],
   "source": [
    "errorHist.tail()"
   ]
  },
  {
   "cell_type": "code",
   "execution_count": 18,
   "metadata": {},
   "outputs": [
    {
     "name": "stdout",
     "output_type": "stream",
     "text": [
      "Best error for run 0: 1.2548340082144875\n",
      "Best error for run 1: 2.304939732538898\n"
     ]
    }
   ],
   "source": [
    "arr_error = list()\n",
    "arr_best_error = list()\n",
    "for run in hist['run'].unique():\n",
    "    df_run = hist[hist['run'] == run].drop(['run'], axis=1) \n",
    "    bestError = df_run.iloc[-1,:].min()    \n",
    "    arr_best_error.append(bestError)    \n",
    "    print ('Best error for run {}: {}'.format(run, bestError))\n",
    "    arr_error.append(np.array(df_run.min(axis=1)))    \n",
    "arr_error = np.array(arr_error)\n",
    "# arr_error"
   ]
  },
  {
   "cell_type": "code",
   "execution_count": 19,
   "metadata": {},
   "outputs": [
    {
     "data": {
      "image/png": "[encoded data removed]",
      "text/plain": [
       "<matplotlib.figure.Figure at 0x20236b5b438>"
      ]
     },
     "metadata": {},
     "output_type": "display_data"
    }
   ],
   "source": [
    "fig, ax = plt.subplots(nrows=1, ncols=1, figsize=(10,10))\n",
    "label = 'Success Rate: {}%\\nMin Error Fitness: {}'.format(100*(successRate/float(numRuns)), arr_error.min())\n",
    "ax.errorbar(np.arange(alg.generations), arr_error.mean(axis=0), yerr=arr_error.std(axis=0), label=label)\n",
    "ax2 = ax.twinx()\n",
    "ax2.plot(np.arange(alg.generations), 20*np.log(arr_error.mean(axis=0)), label='Mean Min Error (dB)', color='red')\n",
    "ax2.set_ylabel('Mean Minimum Error (dB)')\n",
    "\n",
    "ax.grid(True)\n",
    "ax.set_ylabel('Mean Minimum Error')\n",
    "ax.legend()\n",
    "ax.set_xlabel('Generation')\n",
    "ax.set_title('Error Fitness Function {} (Solution = {})'.format(funcId, solution))\n",
    "plt.savefig(output_filepath + 'mean_error_evolution.jpeg', bbox_inches = 'tight')"
   ]
  },
  {
   "cell_type": "code",
   "execution_count": 23,
   "metadata": {},
   "outputs": [
    {
     "name": "stdout",
     "output_type": "stream",
     "text": [
      "Saving df_sumup to  ./results/DE/best/1/bin/[1_10_2_300_1_0.5_False_None]df_sumup.tsv\n"
     ]
    },
    {
     "data": {
      "text/html": [
       "<div>\n",
       "<style scoped>\n",
       "    .dataframe tbody tr th:only-of-type {\n",
       "        vertical-align: middle;\n",
       "    }\n",
       "\n",
       "    .dataframe tbody tr th {\n",
       "        vertical-align: top;\n",
       "    }\n",
       "\n",
       "    .dataframe thead th {\n",
       "        text-align: right;\n",
       "    }\n",
       "</style>\n",
       "<table border=\"1\" class=\"dataframe\">\n",
       "  <thead>\n",
       "    <tr style=\"text-align: right;\">\n",
       "      <th></th>\n",
       "      <th>algorithm</th>\n",
       "      <th>#Fc</th>\n",
       "      <th>D</th>\n",
       "      <th>percFES</th>\n",
       "      <th>run_1</th>\n",
       "      <th>run_2</th>\n",
       "      <th>mean</th>\n",
       "      <th>elapsed_time</th>\n",
       "      <th>evals</th>\n",
       "    </tr>\n",
       "  </thead>\n",
       "  <tbody>\n",
       "    <tr>\n",
       "      <th>0</th>\n",
       "      <td>DE/best/1/bin</td>\n",
       "      <td>1</td>\n",
       "      <td>10</td>\n",
       "      <td>1</td>\n",
       "      <td>1.254834</td>\n",
       "      <td>2.30494</td>\n",
       "      <td>1.779887</td>\n",
       "      <td>0:04:45</td>\n",
       "      <td>99900</td>\n",
       "    </tr>\n",
       "  </tbody>\n",
       "</table>\n",
       "</div>"
      ],
      "text/plain": [
       "       algorithm #Fc   D percFES     run_1    run_2      mean elapsed_time  \\\n",
       "0  DE/best/1/bin   1  10       1  1.254834  2.30494  1.779887      0:04:45   \n",
       "\n",
       "   evals  \n",
       "0  99900  "
      ]
     },
     "execution_count": 23,
     "metadata": {},
     "output_type": "execute_result"
    }
   ],
   "source": [
    "df_sumup = pd.DataFrame(columns=['algorithm', '#Fc', 'D', 'percFES'] + ['run_' + str(i) for i in np.arange(1,numRuns+1,1)] + ['mean', 'elapsed_time', 'evals'])\n",
    "df_sumup.loc[df_sumup.shape[0]] = [str(alg), funcId, dim, percMaxEvals] + arr_best_error + [np.mean(arr_best_error), progbar.get_elapsed_time(), alg.fitnessEvals]\n",
    "print ('Saving df_sumup to ', output_filepath + 'df_sumup.tsv')\n",
    "df_sumup.to_csv(output_filepath + 'df_sumup.tsv', sep='\\t')\n",
    "df_sumup"
   ]
  }
 ],
 "metadata": {
  "kernelspec": {
   "display_name": "Python 3",
   "language": "python",
   "name": "python3"
  },
  "language_info": {
   "codemirror_mode": {
    "name": "ipython",
    "version": 3
   },
   "file_extension": ".py",
   "mimetype": "text/x-python",
   "name": "python",
   "nbconvert_exporter": "python",
   "pygments_lexer": "ipython3",
   "version": "3.6.4"
  }
 },
 "nbformat": 4,
 "nbformat_minor": 2
}
