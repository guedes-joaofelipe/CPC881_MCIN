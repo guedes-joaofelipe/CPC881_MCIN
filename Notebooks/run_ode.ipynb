{
 "cells": [
  {
   "cell_type": "code",
   "execution_count": 1,
   "metadata": {},
   "outputs": [],
   "source": [
    "import numpy as np\n",
    "import pandas as pd\n",
    "import sys, os, time\n",
    "main_folder = './../'\n",
    "if main_folder not in sys.path:\n",
    "    sys.path.append(main_folder)\n",
    "from evolution import OppositionDifferentialEvolution\n",
    "from glob       import glob\n",
    "from tqdm       import tqdm\n",
    "\n",
    "import dirs\n",
    "from utils      import get_solution, ProgressBar, write_log\n",
    "import matplotlib.pyplot as plt \n",
    "\n",
    "progbar = ProgressBar(elapsed_time=True)"
   ]
  },
  {
   "cell_type": "markdown",
   "metadata": {},
   "source": [
    "### Parameters"
   ]
  },
  {
   "cell_type": "code",
   "execution_count": 113,
   "metadata": {
    "tags": [
     "parameters"
    ]
   },
   "outputs": [],
   "source": [
    "# Competition Parameters\n",
    "funcId      = 1\n",
    "dim         = 30\n",
    "numRuns     = 1\n",
    "targetError = 1e-8\n",
    "\n",
    "# Algorithm Parameters\n",
    "pop_size = 15\n",
    "percMaxEvals = 1\n",
    "maxEvals = 'auto'\n",
    "maxGenerations = None\n",
    "fitness_clusters = None\n",
    "crossover = 'binonial'\n",
    "mutation = 'best'\n",
    "n_diff = 1\n",
    "lambda_mutation = 1\n",
    "jumping_rate = .0\n",
    "opposition = True\n",
    "input_data_filepath = './../input_data'\n",
    "active = False"
   ]
  },
  {
   "cell_type": "code",
   "execution_count": 114,
   "metadata": {},
   "outputs": [
    {
     "data": {
      "text/plain": [
       "'[1_30_1_15_1_1_True_None]'"
      ]
     },
     "execution_count": 114,
     "metadata": {},
     "output_type": "execute_result"
    }
   ],
   "source": [
    "maxEvals = maxEvals if percMaxEvals is None else percMaxEvals*10000*dim\n",
    "run_tag = '[' + '_'.join([str(funcId), \n",
    "                          str(dim), \n",
    "                          str(numRuns),\n",
    "                          str(pop_size), \n",
    "                          str(percMaxEvals),                                                     \n",
    "                          '{}'.format(lambda_mutation), \n",
    "                          str(opposition),\n",
    "                          str(fitness_clusters)\n",
    "                         ])  + ']'\n",
    "run_tag"
   ]
  },
  {
   "cell_type": "code",
   "execution_count": 115,
   "metadata": {},
   "outputs": [
    {
     "name": "stdout",
     "output_type": "stream",
     "text": [
      "Writing log at  ./results/ODE/best/1/bin/[1_30_1_15_1_1_True_None]log.tsv\n"
     ]
    }
   ],
   "source": [
    "alg = OppositionDifferentialEvolution(dim=dim, func_id=funcId, jump_rate=jumping_rate, pop_size=pop_size, crossover=crossover, \n",
    "        mutation=mutation, lambda_mutation=lambda_mutation)\n",
    "\n",
    "output_filepath = os.path.join(dirs.results, str(alg))\n",
    "if not os.path.exists(output_filepath):\n",
    "    os.makedirs(output_filepath)\n",
    "output_filepath = output_filepath + '/' + run_tag\n",
    "\n",
    "print ('Writing log at ', output_filepath + 'log.tsv')\n",
    "write_log(filepath=output_filepath + 'log.tsv', \n",
    "          mode=\"w+\", \n",
    "          text='[{}]\\trun\\telapsedTime\\tsuccessRate\\n'.format(time.strftime(\"%Y-%m-%d %H:%M:%S\", time.gmtime())))  "
   ]
  },
  {
   "cell_type": "code",
   "execution_count": 116,
   "metadata": {},
   "outputs": [
    {
     "name": "stdout",
     "output_type": "stream",
     "text": [
      "[0:00:00][----------] 0.00% Optimization ended due to max fitness evals (max = 300000, curr = 281265)\n",
      "\n",
      "#Generations:\t18749\n",
      "#FitnessEvals:\t281265\n",
      "Mean Fitness:\t24753.198619780\n",
      "Best Fitness:\t24749.580270801\n",
      "Solution:\t100.0\n",
      "Diff:\t\t24649.580270801\n"
     ]
    },
    {
     "name": "stderr",
     "output_type": "stream",
     "text": [
      "C:\\Anaconda\\lib\\site-packages\\matplotlib\\scale.py:111: RuntimeWarning: invalid value encountered in less_equal\n",
      "  out[a <= 0] = -1000\n"
     ]
    },
    {
     "name": "stdout",
     "output_type": "stream",
     "text": [
      "\r",
      "[0:09:03][##########] 100.00% Done...\r\n"
     ]
    },
    {
     "data": {
      "image/png": "[encoded data removed]",
      "text/plain": [
       "<matplotlib.figure.Figure at 0x24f9e8375f8>"
      ]
     },
     "metadata": {},
     "output_type": "display_data"
    }
   ],
   "source": [
    "hist = pd.DataFrame()\n",
    "arr_runs = range(numRuns)\n",
    "solution = get_solution(funcId, dim, input_data_filepath=input_data_filepath)\n",
    "successRate = 0\n",
    "fig, ax = plt.subplots(figsize=(10,10))\n",
    "max_plots = 6\n",
    "for idx_run in arr_runs:\n",
    "    progbar.update_progress(idx_run/float(len(arr_runs)))\n",
    "    \n",
    "    # Differential Evolution\n",
    "    alg = OppositionDifferentialEvolution(dim=dim, func_id=funcId, jump_rate=jumping_rate, pop_size=pop_size, crossover=crossover, \n",
    "        mutation=mutation, lambda_mutation=lambda_mutation)\n",
    "    \n",
    "    errorHist, fitnessHist = alg.optimize(target=solution, max_f_evals=maxEvals, target_error=targetError, verbose=True)        \n",
    "    bestError = errorHist.iloc[-1,:].min()\n",
    "    errorHist[\"run\"] = np.ones(errorHist.shape[0], dtype=int)*idx_run\n",
    "    hist = pd.concat([hist, errorHist], ignore_index=False)    \n",
    "    if bestError <= targetError:\n",
    "        print (\"Target error achieved with error {}\".format(bestError))\n",
    "        successRate += 1\n",
    "    \n",
    "    write_log(filepath=output_filepath + 'log.tsv', \n",
    "              text='[{}]\\t{}/{}\\t{}\\t{}\\n'.format(time.strftime(\"%Y-%m-%d %H:%M:%S\", time.gmtime()), \n",
    "                                              idx_run+1,\n",
    "                                              len(arr_runs),\n",
    "                                              progbar.get_elapsed_time(),\n",
    "                                              successRate)\n",
    "             )\n",
    "    \n",
    "    if (idx_run < max_plots):\n",
    "        arr = errorHist.drop(['run'], axis=1).min(axis=1)    \n",
    "        ax.scatter(np.arange(alg.generations), \n",
    "                   [None if x == pop_size else arr[i] for i, x in enumerate(alg.fitnessEvalsHist[:-1])],\n",
    "                   marker='.'\n",
    "                  )\n",
    "        ax.plot(arr, label='run ' + str(idx_run))\n",
    "    \n",
    "ax.set_yscale('log')\n",
    "ax.grid(True)\n",
    "ax.set_title('ODE Error Evolution (max {} plot)'.format(max_plots))\n",
    "ax.set_xlabel('Generation')\n",
    "ax.set_ylabel('Fitness Error')\n",
    "ax.legend()\n",
    "fig.savefig(output_filepath + 'fitness_evolution.jpeg', bbox_inches='tight')\n",
    "\n",
    "hist.index.name = 'generation'\n",
    "hist.to_csv(output_filepath + 'hist.tsv', sep='\\t')\n",
    "progbar.update_progress(1)"
   ]
  },
  {
   "cell_type": "code",
   "execution_count": 97,
   "metadata": {},
   "outputs": [
    {
     "name": "stdout",
     "output_type": "stream",
     "text": [
      "Success Rate: 0\n",
      "Elapsed Time:  0:04:00\n"
     ]
    }
   ],
   "source": [
    "print (\"Success Rate:\", successRate)\n",
    "print (\"Elapsed Time: \", progbar.get_elapsed_time())"
   ]
  },
  {
   "cell_type": "code",
   "execution_count": 94,
   "metadata": {},
   "outputs": [
    {
     "data": {
      "text/html": [
       "<div>\n",
       "<style scoped>\n",
       "    .dataframe tbody tr th:only-of-type {\n",
       "        vertical-align: middle;\n",
       "    }\n",
       "\n",
       "    .dataframe tbody tr th {\n",
       "        vertical-align: top;\n",
       "    }\n",
       "\n",
       "    .dataframe thead th {\n",
       "        text-align: right;\n",
       "    }\n",
       "</style>\n",
       "<table border=\"1\" class=\"dataframe\">\n",
       "  <thead>\n",
       "    <tr style=\"text-align: right;\">\n",
       "      <th></th>\n",
       "      <th>0</th>\n",
       "      <th>1</th>\n",
       "      <th>2</th>\n",
       "      <th>3</th>\n",
       "      <th>4</th>\n",
       "      <th>5</th>\n",
       "      <th>6</th>\n",
       "      <th>7</th>\n",
       "      <th>8</th>\n",
       "      <th>9</th>\n",
       "      <th>...</th>\n",
       "      <th>21</th>\n",
       "      <th>22</th>\n",
       "      <th>23</th>\n",
       "      <th>24</th>\n",
       "      <th>25</th>\n",
       "      <th>26</th>\n",
       "      <th>27</th>\n",
       "      <th>28</th>\n",
       "      <th>29</th>\n",
       "      <th>run</th>\n",
       "    </tr>\n",
       "    <tr>\n",
       "      <th>generation</th>\n",
       "      <th></th>\n",
       "      <th></th>\n",
       "      <th></th>\n",
       "      <th></th>\n",
       "      <th></th>\n",
       "      <th></th>\n",
       "      <th></th>\n",
       "      <th></th>\n",
       "      <th></th>\n",
       "      <th></th>\n",
       "      <th></th>\n",
       "      <th></th>\n",
       "      <th></th>\n",
       "      <th></th>\n",
       "      <th></th>\n",
       "      <th></th>\n",
       "      <th></th>\n",
       "      <th></th>\n",
       "      <th></th>\n",
       "      <th></th>\n",
       "      <th></th>\n",
       "    </tr>\n",
       "  </thead>\n",
       "  <tbody>\n",
       "    <tr>\n",
       "      <th>2500</th>\n",
       "      <td>1.73143</td>\n",
       "      <td>1.73143</td>\n",
       "      <td>1.73143</td>\n",
       "      <td>1.73143</td>\n",
       "      <td>1.73143</td>\n",
       "      <td>1.73143</td>\n",
       "      <td>1.73143</td>\n",
       "      <td>1.73143</td>\n",
       "      <td>1.73143</td>\n",
       "      <td>1.73143</td>\n",
       "      <td>...</td>\n",
       "      <td>1.73143</td>\n",
       "      <td>1.73143</td>\n",
       "      <td>1.73143</td>\n",
       "      <td>1.73143</td>\n",
       "      <td>1.73143</td>\n",
       "      <td>1.73143</td>\n",
       "      <td>1.73143</td>\n",
       "      <td>1.73143</td>\n",
       "      <td>1.73143</td>\n",
       "      <td>1</td>\n",
       "    </tr>\n",
       "    <tr>\n",
       "      <th>2501</th>\n",
       "      <td>1.73143</td>\n",
       "      <td>1.73143</td>\n",
       "      <td>1.73143</td>\n",
       "      <td>1.73143</td>\n",
       "      <td>1.73143</td>\n",
       "      <td>1.73143</td>\n",
       "      <td>1.73143</td>\n",
       "      <td>1.73143</td>\n",
       "      <td>1.73143</td>\n",
       "      <td>1.73143</td>\n",
       "      <td>...</td>\n",
       "      <td>1.73143</td>\n",
       "      <td>1.73143</td>\n",
       "      <td>1.73143</td>\n",
       "      <td>1.73143</td>\n",
       "      <td>1.73143</td>\n",
       "      <td>1.73143</td>\n",
       "      <td>1.73143</td>\n",
       "      <td>1.73143</td>\n",
       "      <td>1.73143</td>\n",
       "      <td>1</td>\n",
       "    </tr>\n",
       "    <tr>\n",
       "      <th>2502</th>\n",
       "      <td>1.73143</td>\n",
       "      <td>1.73143</td>\n",
       "      <td>1.73143</td>\n",
       "      <td>1.73143</td>\n",
       "      <td>1.73143</td>\n",
       "      <td>1.73143</td>\n",
       "      <td>1.73143</td>\n",
       "      <td>1.73143</td>\n",
       "      <td>1.73143</td>\n",
       "      <td>1.73143</td>\n",
       "      <td>...</td>\n",
       "      <td>1.73143</td>\n",
       "      <td>1.73143</td>\n",
       "      <td>1.73143</td>\n",
       "      <td>1.73143</td>\n",
       "      <td>1.73143</td>\n",
       "      <td>1.73143</td>\n",
       "      <td>1.73143</td>\n",
       "      <td>1.73143</td>\n",
       "      <td>1.73143</td>\n",
       "      <td>1</td>\n",
       "    </tr>\n",
       "    <tr>\n",
       "      <th>2503</th>\n",
       "      <td>1.73143</td>\n",
       "      <td>1.73143</td>\n",
       "      <td>1.73143</td>\n",
       "      <td>1.73143</td>\n",
       "      <td>1.73143</td>\n",
       "      <td>1.73143</td>\n",
       "      <td>1.73143</td>\n",
       "      <td>1.73143</td>\n",
       "      <td>1.73143</td>\n",
       "      <td>1.73143</td>\n",
       "      <td>...</td>\n",
       "      <td>1.73143</td>\n",
       "      <td>1.73143</td>\n",
       "      <td>1.73143</td>\n",
       "      <td>1.73143</td>\n",
       "      <td>1.73143</td>\n",
       "      <td>1.73143</td>\n",
       "      <td>1.73143</td>\n",
       "      <td>1.73143</td>\n",
       "      <td>1.73143</td>\n",
       "      <td>1</td>\n",
       "    </tr>\n",
       "    <tr>\n",
       "      <th>2504</th>\n",
       "      <td>1.73143</td>\n",
       "      <td>1.73143</td>\n",
       "      <td>1.73143</td>\n",
       "      <td>1.73143</td>\n",
       "      <td>1.73143</td>\n",
       "      <td>1.73143</td>\n",
       "      <td>1.73143</td>\n",
       "      <td>1.73143</td>\n",
       "      <td>1.73143</td>\n",
       "      <td>1.73143</td>\n",
       "      <td>...</td>\n",
       "      <td>1.73143</td>\n",
       "      <td>1.73143</td>\n",
       "      <td>1.73143</td>\n",
       "      <td>1.73143</td>\n",
       "      <td>1.73143</td>\n",
       "      <td>1.73143</td>\n",
       "      <td>1.73143</td>\n",
       "      <td>1.73143</td>\n",
       "      <td>1.73143</td>\n",
       "      <td>1</td>\n",
       "    </tr>\n",
       "  </tbody>\n",
       "</table>\n",
       "<p>5 rows × 31 columns</p>\n",
       "</div>"
      ],
      "text/plain": [
       "                  0        1        2        3        4        5        6  \\\n",
       "generation                                                                  \n",
       "2500        1.73143  1.73143  1.73143  1.73143  1.73143  1.73143  1.73143   \n",
       "2501        1.73143  1.73143  1.73143  1.73143  1.73143  1.73143  1.73143   \n",
       "2502        1.73143  1.73143  1.73143  1.73143  1.73143  1.73143  1.73143   \n",
       "2503        1.73143  1.73143  1.73143  1.73143  1.73143  1.73143  1.73143   \n",
       "2504        1.73143  1.73143  1.73143  1.73143  1.73143  1.73143  1.73143   \n",
       "\n",
       "                  7        8        9 ...        21       22       23  \\\n",
       "generation                            ...                               \n",
       "2500        1.73143  1.73143  1.73143 ...   1.73143  1.73143  1.73143   \n",
       "2501        1.73143  1.73143  1.73143 ...   1.73143  1.73143  1.73143   \n",
       "2502        1.73143  1.73143  1.73143 ...   1.73143  1.73143  1.73143   \n",
       "2503        1.73143  1.73143  1.73143 ...   1.73143  1.73143  1.73143   \n",
       "2504        1.73143  1.73143  1.73143 ...   1.73143  1.73143  1.73143   \n",
       "\n",
       "                 24       25       26       27       28       29  run  \n",
       "generation                                                             \n",
       "2500        1.73143  1.73143  1.73143  1.73143  1.73143  1.73143    1  \n",
       "2501        1.73143  1.73143  1.73143  1.73143  1.73143  1.73143    1  \n",
       "2502        1.73143  1.73143  1.73143  1.73143  1.73143  1.73143    1  \n",
       "2503        1.73143  1.73143  1.73143  1.73143  1.73143  1.73143    1  \n",
       "2504        1.73143  1.73143  1.73143  1.73143  1.73143  1.73143    1  \n",
       "\n",
       "[5 rows x 31 columns]"
      ]
     },
     "execution_count": 94,
     "metadata": {},
     "output_type": "execute_result"
    }
   ],
   "source": [
    "errorHist.tail()"
   ]
  },
  {
   "cell_type": "code",
   "execution_count": 95,
   "metadata": {},
   "outputs": [
    {
     "name": "stdout",
     "output_type": "stream",
     "text": [
      "Best error for run 0: 1.274465687048405\n",
      "Best error for run 1: 1.7314296104893856\n"
     ]
    }
   ],
   "source": [
    "arr_error = list()\n",
    "arr_best_error = list()\n",
    "for run in hist['run'].unique():\n",
    "    df_run = hist[hist['run'] == run].drop(['run'], axis=1) \n",
    "    bestError = df_run.iloc[-1,:].min()    \n",
    "    arr_best_error.append(bestError)    \n",
    "    print ('Best error for run {}: {}'.format(run, bestError))\n",
    "    arr_error.append(np.array(df_run.min(axis=1)))        \n",
    "arr_error = np.array(arr_error)"
   ]
  },
  {
   "cell_type": "code",
   "execution_count": 96,
   "metadata": {},
   "outputs": [
    {
     "name": "stdout",
     "output_type": "stream",
     "text": [
      "Saving df_sumup to  ./results/ODE/best/1/bin/[6_10_2_30_1_1_True_None]df_sumup.tsv\n"
     ]
    },
    {
     "data": {
      "text/html": [
       "<div>\n",
       "<style scoped>\n",
       "    .dataframe tbody tr th:only-of-type {\n",
       "        vertical-align: middle;\n",
       "    }\n",
       "\n",
       "    .dataframe tbody tr th {\n",
       "        vertical-align: top;\n",
       "    }\n",
       "\n",
       "    .dataframe thead th {\n",
       "        text-align: right;\n",
       "    }\n",
       "</style>\n",
       "<table border=\"1\" class=\"dataframe\">\n",
       "  <thead>\n",
       "    <tr style=\"text-align: right;\">\n",
       "      <th></th>\n",
       "      <th>algorithm</th>\n",
       "      <th>#Fc</th>\n",
       "      <th>D</th>\n",
       "      <th>percFES</th>\n",
       "      <th>run_1</th>\n",
       "      <th>run_2</th>\n",
       "      <th>mean</th>\n",
       "      <th>elapsed_time</th>\n",
       "      <th>evals</th>\n",
       "    </tr>\n",
       "  </thead>\n",
       "  <tbody>\n",
       "    <tr>\n",
       "      <th>0</th>\n",
       "      <td>ODE/best/1/bin</td>\n",
       "      <td>6</td>\n",
       "      <td>10</td>\n",
       "      <td>1</td>\n",
       "      <td>1.274466</td>\n",
       "      <td>1.73143</td>\n",
       "      <td>1.502948</td>\n",
       "      <td>0:04:00</td>\n",
       "      <td>97500</td>\n",
       "    </tr>\n",
       "  </tbody>\n",
       "</table>\n",
       "</div>"
      ],
      "text/plain": [
       "        algorithm #Fc   D percFES     run_1    run_2      mean elapsed_time  \\\n",
       "0  ODE/best/1/bin   6  10       1  1.274466  1.73143  1.502948      0:04:00   \n",
       "\n",
       "   evals  \n",
       "0  97500  "
      ]
     },
     "execution_count": 96,
     "metadata": {},
     "output_type": "execute_result"
    }
   ],
   "source": [
    "df_sumup = pd.DataFrame(columns=['algorithm', '#Fc', 'D', 'percFES'] + ['run_' + str(i) for i in np.arange(1,numRuns+1,1)] + ['mean', 'elapsed_time', 'evals'])\n",
    "df_sumup.loc[df_sumup.shape[0]] = [str(alg), funcId, dim, percMaxEvals] + arr_best_error + [np.mean(arr_best_error), progbar.get_elapsed_time(), alg.fitnessEvals]\n",
    "print ('Saving df_sumup to ', output_filepath + 'df_sumup.tsv')\n",
    "df_sumup.to_csv(output_filepath + 'df_sumup.tsv', sep='\\t')\n",
    "df_sumup"
   ]
  },
  {
   "cell_type": "code",
   "execution_count": null,
   "metadata": {},
   "outputs": [],
   "source": [
    "# fig, ax = plt.subplots(nrows=1, ncols=1, figsize=(10,10))\n",
    "# label = 'Success Rate: {}%\\nMin Error Fitness: {}'.format(100*(successRate/float(numRuns)), arr_error.min())\n",
    "# # label = ''\n",
    "# ax.errorbar(np.arange(alg.generations), arr_error.mean(axis=0), yerr=arr_error.std(axis=0), label=label)\n",
    "# ax2 = ax.twinx()\n",
    "# ax2.plot(np.arange(alg.generations), 20*np.log(arr_error.mean(axis=0)), label='Mean Min Error (dB)', color='red')\n",
    "# ax2.set_ylabel('Mean Minimum Error (dB)')\n",
    "\n",
    "# ax.grid(True)\n",
    "# ax.set_ylabel('Mean Minimum Error')\n",
    "# ax.legend()\n",
    "# ax.set_xlabel('Generation')\n",
    "# ax.set_title('Error Fitness Function {} (Solution = {})'.format(funcId, solution))\n",
    "# plt.savefig(output_filepath + 'mean_error_evolution.jpeg', bbox_inches = 'tight')"
   ]
  }
 ],
 "metadata": {
  "kernelspec": {
   "display_name": "Python 3",
   "language": "python",
   "name": "python3"
  },
  "language_info": {
   "codemirror_mode": {
    "name": "ipython",
    "version": 3
   },
   "file_extension": ".py",
   "mimetype": "text/x-python",
   "name": "python",
   "nbconvert_exporter": "python",
   "pygments_lexer": "ipython3",
   "version": "3.6.4"
  }
 },
 "nbformat": 4,
 "nbformat_minor": 2
}
